{
 "cells": [
  {
   "cell_type": "code",
   "execution_count": 26,
   "id": "initial_id",
   "metadata": {
    "collapsed": true,
    "ExecuteTime": {
     "end_time": "2024-11-17T13:00:43.388371600Z",
     "start_time": "2024-11-17T13:00:40.875358800Z"
    }
   },
   "outputs": [],
   "source": [
    "import cv2\n",
    "import os\n",
    "import sys\n",
    "import matplotlib.pyplot as plt\n",
    "sys.path.append(\"../\")\n",
    "\n",
    "from data.keypoint_dataset import KeypointDatasetJSON"
   ]
  },
  {
   "cell_type": "code",
   "execution_count": 31,
   "outputs": [],
   "source": [
    "clip_folder = \"/auto/plzen4-ntis/projects/korpusy_cv/JSALT/YouTubeASL_v2/data/train/clips_cropped\"\n",
    "raw_clip_folder = \"/auto/plzen4-ntis/projects/korpusy_cv/JSALT/YouTubeASL_v2/data/train/raw_videos\"\n",
    "\n",
    "normalization = (\n",
    "    \"global-pose_landmarks\",\n",
    "    \"local-right_hand_landmarks\",\n",
    "    \"local-left_hand_landmarks\",\n",
    "    \"local-face_landmarks\",\n",
    ")"
   ],
   "metadata": {
    "collapsed": false,
    "ExecuteTime": {
     "end_time": "2024-11-17T13:03:47.797024Z",
     "start_time": "2024-11-17T13:03:47.698083400Z"
    }
   },
   "id": "7c44fa443daac3f3"
  },
  {
   "cell_type": "code",
   "execution_count": 35,
   "outputs": [],
   "source": [
    "def load_video(path: str):\n",
    "    video = []\n",
    "\n",
    "    cap = cv2.VideoCapture(path)\n",
    "    fps = cap.get(cv2.CAP_PROP_FPS)\n",
    "    ret = True\n",
    "    while ret:\n",
    "        ret, img = cap.read()\n",
    "        if ret:\n",
    "            img = cv2.cvtColor(img, cv2.COLOR_BGR2RGB)\n",
    "            video.append(img)\n",
    "    cap.release()\n",
    "    return video, fps\n",
    "\n",
    "def plot_keypoints(data, path, num_frames=10):\n",
    "    clip_keypoints = data[\"data\"]\n",
    "    clip_name = data[\"clip_name\"]\n",
    "    \n",
    "    clip_path = os.path.join(path, f\"{clip_name}.mp4\")\n",
    "    video, fps = load_video(clip_path)\n",
    "    \n",
    "    fig, ax = plt.subplots(1, num_frames, figsize=(num_frames*4, 4))\n",
    "    for fidx in range(num_frames):\n",
    "        frame_keypoints = clip_keypoints[fidx]\n",
    "        kpx = frame_keypoints[::2]\n",
    "        kpy = frame_keypoints[1::2]\n",
    "        \n",
    "        ax[fidx].imshow(video[fidx])\n",
    "        ax[fidx].scatter(kpx, kpy, s=2)\n",
    "    plt.show()"
   ],
   "metadata": {
    "collapsed": false,
    "ExecuteTime": {
     "end_time": "2024-11-17T13:06:49.917544600Z",
     "start_time": "2024-11-17T13:06:49.894599800Z"
    }
   },
   "id": "bf63ef2b384cf3a"
  },
  {
   "cell_type": "code",
   "execution_count": 40,
   "outputs": [],
   "source": [
    "# prepare mapping between clip names and video names\n",
    "\n",
    "clip_to_video = {}\n",
    "clip_names = os.listdir(clip_folder)\n",
    "clip_names = [file for file in clip_names if file.endswith(\".mp4\")]\n",
    "for idx in range(len(clip_names)):\n",
    "    name_split = clip_names[idx].split(\".\")[:-1]\n",
    "    clip_names[idx] = \".\".join(name_split)\n",
    "for name in clip_names:\n",
    "    name_split = name.split(\".\")[:-1]\n",
    "    video_name = \".\".join(name_split)\n",
    "    clip_to_video[name] = video_name"
   ],
   "metadata": {
    "collapsed": false,
    "ExecuteTime": {
     "end_time": "2024-11-17T13:25:51.117752900Z",
     "start_time": "2024-11-17T13:25:51.091225800Z"
    }
   },
   "id": "ab0ce1ee4798dcbb"
  },
  {
   "cell_type": "code",
   "execution_count": 12,
   "outputs": [],
   "source": [
    "# create dataset\n",
    "\n",
    "# keypoints in original video without cropping and normalization\n",
    "dataset_keypoints = KeypointDatasetJSON(\n",
    "    clip_folder,\n",
    "    clip_to_video,\n",
    "    kp_normalization=(),\n",
    "    data_key=\"keypoints\"\n",
    ")\n",
    "\n",
    "# keypoints in cropped video without normalization\n",
    "dataset_cropped_keypoints = KeypointDatasetJSON(\n",
    "    clip_folder,\n",
    "    clip_to_video,\n",
    "    kp_normalization=(),\n",
    "    data_key=\"cropped_keypoints\"\n",
    ")\n",
    "\n",
    "# keypoints in cropped video with normalization\n",
    "dataset_normalized = KeypointDatasetJSON(\n",
    "    clip_folder,\n",
    "    clip_to_video,\n",
    "    kp_normalization=normalization,\n",
    "    data_key=\"cropped_keypoints\"\n",
    ")"
   ],
   "metadata": {
    "collapsed": false,
    "ExecuteTime": {
     "end_time": "2024-11-17T12:55:39.309436900Z",
     "start_time": "2024-11-17T12:55:39.286357800Z"
    }
   },
   "id": "db9bfb5f1b5321"
  },
  {
   "cell_type": "code",
   "execution_count": null,
   "outputs": [],
   "source": [
    "clip_data = dataset_keypoints[0][0]\n",
    "plot_keypoints(clip_data, raw_clip_folder, num_frames=10)\n",
    "\n",
    "clip_data = dataset_cropped_keypoints[0][0]\n",
    "plot_keypoints(clip_data, clip_folder, num_frames=10)"
   ],
   "metadata": {
    "collapsed": false
   },
   "id": "44011d4712aba14a"
  },
  {
   "cell_type": "code",
   "execution_count": 40,
   "outputs": [
    {
     "data": {
      "text/plain": "[{'data': array([[ 0.02655677, -0.30694449,  0.06518628, ..., -0.33696234,\n           0.30600212, -0.35921457],\n         [ 0.02518398, -0.30605474,  0.06431278, ..., -0.3358517 ,\n           0.30573449, -0.35874513],\n         [ 0.02049237, -0.30980097,  0.0694783 , ..., -0.32919485,\n           0.31124345, -0.35079785],\n         ...,\n         [-0.03736988, -0.26936863,  0.00695979, ..., -0.34264636,\n           0.27123074, -0.35000879],\n         [-0.02698183, -0.27449578,  0.01391255, ..., -0.34203925,\n           0.27056533, -0.3502019 ],\n         [-0.01551106, -0.24316529,  0.03045345, ..., -0.33920362,\n           0.27131404, -0.34877031]]),\n  'video_name': 'nDAwnLHqyHM',\n  'clip_name': 'nDAwnLHqyHM.000182-000424'}]"
     },
     "execution_count": 40,
     "metadata": {},
     "output_type": "execute_result"
    }
   ],
   "source": [
    "dataset_normalized[0]"
   ],
   "metadata": {
    "collapsed": false,
    "ExecuteTime": {
     "end_time": "2024-11-17T13:14:06.481052600Z",
     "start_time": "2024-11-17T13:14:05.147586900Z"
    }
   },
   "id": "670ca3a93a8129ac"
  },
  {
   "cell_type": "code",
   "execution_count": null,
   "outputs": [],
   "source": [],
   "metadata": {
    "collapsed": false
   },
   "id": "2f348b21dfb57b3a"
  }
 ],
 "metadata": {
  "kernelspec": {
   "display_name": "Python 3",
   "language": "python",
   "name": "python3"
  },
  "language_info": {
   "codemirror_mode": {
    "name": "ipython",
    "version": 2
   },
   "file_extension": ".py",
   "mimetype": "text/x-python",
   "name": "python",
   "nbconvert_exporter": "python",
   "pygments_lexer": "ipython2",
   "version": "2.7.6"
  }
 },
 "nbformat": 4,
 "nbformat_minor": 5
}
