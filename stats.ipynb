{
 "cells": [
  {
   "cell_type": "code",
   "execution_count": 8,
   "id": "6a386f8d-10c6-4b91-a3b3-e0f5712eb36a",
   "metadata": {},
   "outputs": [],
   "source": [
    "import json\n",
    "import os\n",
    "from tqdm import tqdm\n",
    "import numpy as np"
   ]
  },
  {
   "cell_type": "code",
   "execution_count": 3,
   "id": "75241f66-5f94-4539-8706-4ee50cb02e27",
   "metadata": {},
   "outputs": [],
   "source": [
    "files = os.listdir(\"/auto/plzen1/home/mhruz/JSALT2024/YouTubeASL/clips_cropped\")\n",
    "files = [f for f in files if \".json\" in f]"
   ]
  },
  {
   "cell_type": "code",
   "execution_count": null,
   "id": "60d1bc08-910a-47ad-bf36-647e14a8ef41",
   "metadata": {},
   "outputs": [
    {
     "name": "stderr",
     "output_type": "stream",
     "text": [
      "  0%|          | 102/392536 [00:10<10:48:52, 10.08it/s]"
     ]
    },
    {
     "name": "stdout",
     "output_type": "stream",
     "text": [
      "face  0.926 0.204\n",
      "left  0.729 0.311\n",
      "right 0.848 0.222\n"
     ]
    },
    {
     "name": "stderr",
     "output_type": "stream",
     "text": [
      "  0%|          | 202/392536 [00:20<11:21:33,  9.59it/s]"
     ]
    },
    {
     "name": "stdout",
     "output_type": "stream",
     "text": [
      "face  0.943 0.169\n",
      "left  0.733 0.298\n",
      "right 0.844 0.227\n"
     ]
    },
    {
     "name": "stderr",
     "output_type": "stream",
     "text": [
      "  0%|          | 301/392536 [00:37<20:49:21,  5.23it/s]"
     ]
    },
    {
     "name": "stdout",
     "output_type": "stream",
     "text": [
      "face  0.946 0.164\n",
      "left  0.725 0.301\n",
      "right 0.855 0.215\n"
     ]
    },
    {
     "name": "stderr",
     "output_type": "stream",
     "text": [
      "  0%|          | 401/392536 [00:55<22:51:42,  4.76it/s]"
     ]
    },
    {
     "name": "stdout",
     "output_type": "stream",
     "text": [
      "face  0.939 0.172\n",
      "left  0.718 0.309\n",
      "right 0.854 0.216\n"
     ]
    },
    {
     "name": "stderr",
     "output_type": "stream",
     "text": [
      "  0%|          | 500/392536 [01:15<26:10:48,  4.16it/s]"
     ]
    },
    {
     "name": "stdout",
     "output_type": "stream",
     "text": [
      "face  0.941 0.17\n",
      "left  0.721 0.305\n",
      "right 0.853 0.213\n"
     ]
    },
    {
     "name": "stderr",
     "output_type": "stream",
     "text": [
      "  0%|          | 601/392536 [01:34<20:21:05,  5.35it/s]"
     ]
    },
    {
     "name": "stdout",
     "output_type": "stream",
     "text": [
      "face  0.945 0.166\n",
      "left  0.725 0.301\n",
      "right 0.855 0.208\n"
     ]
    },
    {
     "name": "stderr",
     "output_type": "stream",
     "text": [
      "  0%|          | 701/392536 [01:55<16:13:58,  6.71it/s]"
     ]
    },
    {
     "name": "stdout",
     "output_type": "stream",
     "text": [
      "face  0.946 0.161\n",
      "left  0.723 0.304\n",
      "right 0.859 0.202\n"
     ]
    },
    {
     "name": "stderr",
     "output_type": "stream",
     "text": [
      "  0%|          | 802/392536 [02:15<16:20:37,  6.66it/s]"
     ]
    },
    {
     "name": "stdout",
     "output_type": "stream",
     "text": [
      "face  0.943 0.17\n",
      "left  0.724 0.303\n",
      "right 0.861 0.2\n"
     ]
    },
    {
     "name": "stderr",
     "output_type": "stream",
     "text": [
      "  0%|          | 901/392536 [02:34<23:38:35,  4.60it/s]"
     ]
    },
    {
     "name": "stdout",
     "output_type": "stream",
     "text": [
      "face  0.944 0.164\n",
      "left  0.726 0.303\n",
      "right 0.867 0.194\n"
     ]
    },
    {
     "name": "stderr",
     "output_type": "stream",
     "text": [
      "  0%|          | 1001/392536 [02:51<14:04:52,  7.72it/s]"
     ]
    },
    {
     "name": "stdout",
     "output_type": "stream",
     "text": [
      "face  0.942 0.171\n",
      "left  0.724 0.307\n",
      "right 0.863 0.199\n"
     ]
    },
    {
     "name": "stderr",
     "output_type": "stream",
     "text": [
      "  0%|          | 1100/392536 [03:10<19:59:50,  5.44it/s]"
     ]
    },
    {
     "name": "stdout",
     "output_type": "stream",
     "text": [
      "face  0.942 0.17\n",
      "left  0.719 0.31\n",
      "right 0.861 0.204\n"
     ]
    },
    {
     "name": "stderr",
     "output_type": "stream",
     "text": [
      "  0%|          | 1201/392536 [03:30<25:14:29,  4.31it/s]"
     ]
    },
    {
     "name": "stdout",
     "output_type": "stream",
     "text": [
      "face  0.942 0.168\n",
      "left  0.72 0.308\n",
      "right 0.861 0.205\n"
     ]
    },
    {
     "name": "stderr",
     "output_type": "stream",
     "text": [
      "  0%|          | 1299/392536 [03:50<27:01:42,  4.02it/s]"
     ]
    },
    {
     "name": "stdout",
     "output_type": "stream",
     "text": [
      "face  0.941 0.167\n",
      "left  0.719 0.307\n",
      "right 0.86 0.206\n"
     ]
    },
    {
     "name": "stderr",
     "output_type": "stream",
     "text": [
      "  0%|          | 1400/392536 [04:09<19:16:52,  5.63it/s]"
     ]
    },
    {
     "name": "stdout",
     "output_type": "stream",
     "text": [
      "face  0.941 0.165\n",
      "left  0.722 0.305\n",
      "right 0.858 0.208\n"
     ]
    },
    {
     "name": "stderr",
     "output_type": "stream",
     "text": [
      "  0%|          | 1501/392536 [04:28<25:05:56,  4.33it/s]"
     ]
    },
    {
     "name": "stdout",
     "output_type": "stream",
     "text": [
      "face  0.941 0.167\n",
      "left  0.721 0.306\n",
      "right 0.858 0.208\n"
     ]
    },
    {
     "name": "stderr",
     "output_type": "stream",
     "text": [
      "  0%|          | 1600/392536 [04:47<14:58:03,  7.26it/s]"
     ]
    },
    {
     "name": "stdout",
     "output_type": "stream",
     "text": [
      "face  0.942 0.164\n",
      "left  0.723 0.304\n",
      "right 0.859 0.205\n"
     ]
    },
    {
     "name": "stderr",
     "output_type": "stream",
     "text": [
      "  0%|          | 1702/392536 [05:07<23:44:32,  4.57it/s]"
     ]
    },
    {
     "name": "stdout",
     "output_type": "stream",
     "text": [
      "face  0.943 0.162\n",
      "left  0.721 0.306\n",
      "right 0.858 0.206\n"
     ]
    },
    {
     "name": "stderr",
     "output_type": "stream",
     "text": [
      "  0%|          | 1801/392536 [05:25<23:08:50,  4.69it/s]"
     ]
    },
    {
     "name": "stdout",
     "output_type": "stream",
     "text": [
      "face  0.944 0.16\n",
      "left  0.722 0.304\n",
      "right 0.858 0.205\n"
     ]
    },
    {
     "name": "stderr",
     "output_type": "stream",
     "text": [
      "  0%|          | 1900/392536 [05:45<22:03:43,  4.92it/s]"
     ]
    },
    {
     "name": "stdout",
     "output_type": "stream",
     "text": [
      "face  0.945 0.158\n",
      "left  0.723 0.303\n",
      "right 0.857 0.208\n"
     ]
    },
    {
     "name": "stderr",
     "output_type": "stream",
     "text": [
      "  1%|          | 2000/392536 [06:05<22:52:52,  4.74it/s]"
     ]
    },
    {
     "name": "stdout",
     "output_type": "stream",
     "text": [
      "face  0.946 0.157\n",
      "left  0.724 0.303\n",
      "right 0.859 0.206\n"
     ]
    },
    {
     "name": "stderr",
     "output_type": "stream",
     "text": [
      "  1%|          | 2101/392536 [06:23<17:25:34,  6.22it/s]"
     ]
    },
    {
     "name": "stdout",
     "output_type": "stream",
     "text": [
      "face  0.946 0.157\n",
      "left  0.726 0.302\n",
      "right 0.858 0.207\n"
     ]
    },
    {
     "name": "stderr",
     "output_type": "stream",
     "text": [
      "  1%|          | 2200/392536 [06:41<18:20:43,  5.91it/s]"
     ]
    },
    {
     "name": "stdout",
     "output_type": "stream",
     "text": [
      "face  0.946 0.157\n",
      "left  0.725 0.302\n",
      "right 0.858 0.206\n"
     ]
    },
    {
     "name": "stderr",
     "output_type": "stream",
     "text": [
      "  1%|          | 2302/392536 [07:00<15:16:11,  7.10it/s]"
     ]
    },
    {
     "name": "stdout",
     "output_type": "stream",
     "text": [
      "face  0.946 0.158\n",
      "left  0.727 0.302\n",
      "right 0.859 0.207\n"
     ]
    },
    {
     "name": "stderr",
     "output_type": "stream",
     "text": [
      "  1%|          | 2400/392536 [07:18<20:14:39,  5.35it/s]"
     ]
    },
    {
     "name": "stdout",
     "output_type": "stream",
     "text": [
      "face  0.946 0.157\n",
      "left  0.727 0.302\n",
      "right 0.86 0.206\n"
     ]
    },
    {
     "name": "stderr",
     "output_type": "stream",
     "text": [
      "  1%|          | 2500/392536 [07:37<18:34:36,  5.83it/s]"
     ]
    },
    {
     "name": "stdout",
     "output_type": "stream",
     "text": [
      "face  0.945 0.158\n",
      "left  0.724 0.304\n",
      "right 0.857 0.208\n"
     ]
    },
    {
     "name": "stderr",
     "output_type": "stream",
     "text": [
      "  1%|          | 2601/392536 [07:56<18:03:03,  6.00it/s]"
     ]
    },
    {
     "name": "stdout",
     "output_type": "stream",
     "text": [
      "face  0.945 0.159\n",
      "left  0.723 0.303\n",
      "right 0.857 0.209\n"
     ]
    },
    {
     "name": "stderr",
     "output_type": "stream",
     "text": [
      "  1%|          | 2700/392536 [08:14<21:43:22,  4.98it/s]"
     ]
    },
    {
     "name": "stdout",
     "output_type": "stream",
     "text": [
      "face  0.945 0.159\n",
      "left  0.723 0.304\n",
      "right 0.858 0.208\n"
     ]
    },
    {
     "name": "stderr",
     "output_type": "stream",
     "text": [
      "  1%|          | 2799/392536 [08:33<28:07:39,  3.85it/s]"
     ]
    },
    {
     "name": "stdout",
     "output_type": "stream",
     "text": [
      "face  0.945 0.158\n",
      "left  0.722 0.305\n",
      "right 0.859 0.207\n"
     ]
    },
    {
     "name": "stderr",
     "output_type": "stream",
     "text": [
      "  1%|          | 2900/392536 [08:52<29:47:08,  3.63it/s]"
     ]
    },
    {
     "name": "stdout",
     "output_type": "stream",
     "text": [
      "face  0.946 0.156\n",
      "left  0.723 0.304\n",
      "right 0.859 0.207\n"
     ]
    },
    {
     "name": "stderr",
     "output_type": "stream",
     "text": [
      "  1%|          | 3001/392536 [09:08<18:34:11,  5.83it/s]"
     ]
    },
    {
     "name": "stdout",
     "output_type": "stream",
     "text": [
      "face  0.945 0.158\n",
      "left  0.724 0.304\n",
      "right 0.859 0.208\n"
     ]
    },
    {
     "name": "stderr",
     "output_type": "stream",
     "text": [
      "  1%|          | 3099/392536 [09:25<16:01:23,  6.75it/s]"
     ]
    },
    {
     "name": "stdout",
     "output_type": "stream",
     "text": [
      "face  0.944 0.159\n",
      "left  0.725 0.304\n",
      "right 0.859 0.207\n"
     ]
    },
    {
     "name": "stderr",
     "output_type": "stream",
     "text": [
      "  1%|          | 3201/392536 [09:45<17:26:30,  6.20it/s]"
     ]
    },
    {
     "name": "stdout",
     "output_type": "stream",
     "text": [
      "face  0.944 0.16\n",
      "left  0.725 0.304\n",
      "right 0.86 0.207\n"
     ]
    },
    {
     "name": "stderr",
     "output_type": "stream",
     "text": [
      "  1%|          | 3301/392536 [10:03<15:07:26,  7.15it/s]"
     ]
    },
    {
     "name": "stdout",
     "output_type": "stream",
     "text": [
      "face  0.944 0.161\n",
      "left  0.724 0.305\n",
      "right 0.859 0.207\n"
     ]
    },
    {
     "name": "stderr",
     "output_type": "stream",
     "text": [
      "  1%|          | 3401/392536 [10:20<15:54:02,  6.80it/s]"
     ]
    },
    {
     "name": "stdout",
     "output_type": "stream",
     "text": [
      "face  0.943 0.161\n",
      "left  0.724 0.305\n",
      "right 0.859 0.208\n"
     ]
    },
    {
     "name": "stderr",
     "output_type": "stream",
     "text": [
      "  1%|          | 3500/392536 [10:38<13:32:12,  7.98it/s]"
     ]
    },
    {
     "name": "stdout",
     "output_type": "stream",
     "text": [
      "face  0.943 0.162\n",
      "left  0.725 0.304\n",
      "right 0.86 0.207\n"
     ]
    },
    {
     "name": "stderr",
     "output_type": "stream",
     "text": [
      "  1%|          | 3601/392536 [10:56<22:02:47,  4.90it/s]"
     ]
    },
    {
     "name": "stdout",
     "output_type": "stream",
     "text": [
      "face  0.942 0.162\n",
      "left  0.724 0.304\n",
      "right 0.86 0.206\n"
     ]
    },
    {
     "name": "stderr",
     "output_type": "stream",
     "text": [
      "  1%|          | 3700/392536 [11:16<19:25:52,  5.56it/s]"
     ]
    },
    {
     "name": "stdout",
     "output_type": "stream",
     "text": [
      "face  0.941 0.164\n",
      "left  0.724 0.304\n",
      "right 0.86 0.205\n"
     ]
    },
    {
     "name": "stderr",
     "output_type": "stream",
     "text": [
      "  1%|          | 3800/392536 [11:35<21:03:24,  5.13it/s]"
     ]
    },
    {
     "name": "stdout",
     "output_type": "stream",
     "text": [
      "face  0.942 0.163\n",
      "left  0.725 0.304\n",
      "right 0.861 0.205\n"
     ]
    },
    {
     "name": "stderr",
     "output_type": "stream",
     "text": [
      "  1%|          | 3901/392536 [11:53<16:10:31,  6.67it/s]"
     ]
    },
    {
     "name": "stdout",
     "output_type": "stream",
     "text": [
      "face  0.942 0.162\n",
      "left  0.725 0.304\n",
      "right 0.861 0.205\n"
     ]
    },
    {
     "name": "stderr",
     "output_type": "stream",
     "text": [
      "  1%|          | 4000/392536 [12:14<18:00:02,  6.00it/s]"
     ]
    },
    {
     "name": "stdout",
     "output_type": "stream",
     "text": [
      "face  0.942 0.163\n",
      "left  0.725 0.303\n",
      "right 0.86 0.205\n"
     ]
    },
    {
     "name": "stderr",
     "output_type": "stream",
     "text": [
      "  1%|          | 4101/392536 [12:32<18:21:37,  5.88it/s]"
     ]
    },
    {
     "name": "stdout",
     "output_type": "stream",
     "text": [
      "face  0.942 0.162\n",
      "left  0.724 0.304\n",
      "right 0.86 0.205\n"
     ]
    },
    {
     "name": "stderr",
     "output_type": "stream",
     "text": [
      "  1%|          | 4201/392536 [12:50<16:08:15,  6.68it/s]"
     ]
    },
    {
     "name": "stdout",
     "output_type": "stream",
     "text": [
      "face  0.942 0.162\n",
      "left  0.722 0.304\n",
      "right 0.86 0.204\n"
     ]
    },
    {
     "name": "stderr",
     "output_type": "stream",
     "text": [
      "  1%|          | 4300/392536 [13:07<14:19:35,  7.53it/s]"
     ]
    },
    {
     "name": "stdout",
     "output_type": "stream",
     "text": [
      "face  0.941 0.164\n",
      "left  0.723 0.304\n",
      "right 0.859 0.206\n"
     ]
    },
    {
     "name": "stderr",
     "output_type": "stream",
     "text": [
      "  1%|          | 4400/392536 [13:26<23:32:26,  4.58it/s]"
     ]
    },
    {
     "name": "stdout",
     "output_type": "stream",
     "text": [
      "face  0.942 0.163\n",
      "left  0.723 0.304\n",
      "right 0.859 0.206\n"
     ]
    },
    {
     "name": "stderr",
     "output_type": "stream",
     "text": [
      "  1%|          | 4501/392536 [13:44<16:18:32,  6.61it/s]"
     ]
    },
    {
     "name": "stdout",
     "output_type": "stream",
     "text": [
      "face  0.942 0.162\n",
      "left  0.723 0.304\n",
      "right 0.859 0.207\n"
     ]
    },
    {
     "name": "stderr",
     "output_type": "stream",
     "text": [
      "  1%|          | 4601/392536 [14:03<16:59:55,  6.34it/s]"
     ]
    },
    {
     "name": "stdout",
     "output_type": "stream",
     "text": [
      "face  0.942 0.163\n",
      "left  0.723 0.304\n",
      "right 0.859 0.207\n"
     ]
    },
    {
     "name": "stderr",
     "output_type": "stream",
     "text": [
      "  1%|          | 4700/392536 [14:21<23:57:37,  4.50it/s]"
     ]
    },
    {
     "name": "stdout",
     "output_type": "stream",
     "text": [
      "face  0.942 0.162\n",
      "left  0.723 0.304\n",
      "right 0.858 0.208\n"
     ]
    },
    {
     "name": "stderr",
     "output_type": "stream",
     "text": [
      "  1%|          | 4801/392536 [14:42<15:49:12,  6.81it/s]"
     ]
    },
    {
     "name": "stdout",
     "output_type": "stream",
     "text": [
      "face  0.942 0.162\n",
      "left  0.722 0.305\n",
      "right 0.859 0.208\n"
     ]
    },
    {
     "name": "stderr",
     "output_type": "stream",
     "text": [
      "  1%|          | 4900/392536 [15:00<25:13:22,  4.27it/s]"
     ]
    },
    {
     "name": "stdout",
     "output_type": "stream",
     "text": [
      "face  0.942 0.163\n",
      "left  0.722 0.305\n",
      "right 0.859 0.208\n"
     ]
    },
    {
     "name": "stderr",
     "output_type": "stream",
     "text": [
      "  1%|▏         | 5000/392536 [15:20<17:13:09,  6.25it/s]"
     ]
    },
    {
     "name": "stdout",
     "output_type": "stream",
     "text": [
      "face  0.942 0.163\n",
      "left  0.722 0.306\n",
      "right 0.859 0.209\n"
     ]
    },
    {
     "name": "stderr",
     "output_type": "stream",
     "text": [
      "  1%|▏         | 5099/392536 [15:41<23:22:44,  4.60it/s]"
     ]
    },
    {
     "name": "stdout",
     "output_type": "stream",
     "text": [
      "face  0.942 0.163\n",
      "left  0.721 0.306\n",
      "right 0.858 0.209\n"
     ]
    },
    {
     "name": "stderr",
     "output_type": "stream",
     "text": [
      "  1%|▏         | 5201/392536 [16:00<19:59:29,  5.38it/s]"
     ]
    },
    {
     "name": "stdout",
     "output_type": "stream",
     "text": [
      "face  0.942 0.163\n",
      "left  0.722 0.306\n",
      "right 0.859 0.208\n"
     ]
    },
    {
     "name": "stderr",
     "output_type": "stream",
     "text": [
      "  1%|▏         | 5301/392536 [16:19<21:53:30,  4.91it/s]"
     ]
    },
    {
     "name": "stdout",
     "output_type": "stream",
     "text": [
      "face  0.941 0.164\n",
      "left  0.721 0.306\n",
      "right 0.859 0.208\n"
     ]
    },
    {
     "name": "stderr",
     "output_type": "stream",
     "text": [
      "  1%|▏         | 5400/392536 [16:39<30:51:38,  3.48it/s]"
     ]
    },
    {
     "name": "stdout",
     "output_type": "stream",
     "text": [
      "face  0.941 0.164\n",
      "left  0.721 0.306\n",
      "right 0.859 0.208\n"
     ]
    },
    {
     "name": "stderr",
     "output_type": "stream",
     "text": [
      "  1%|▏         | 5500/392536 [16:58<21:57:25,  4.90it/s]"
     ]
    },
    {
     "name": "stdout",
     "output_type": "stream",
     "text": [
      "face  0.941 0.164\n",
      "left  0.721 0.306\n",
      "right 0.859 0.207\n"
     ]
    },
    {
     "name": "stderr",
     "output_type": "stream",
     "text": [
      "  1%|▏         | 5602/392536 [17:18<15:12:13,  7.07it/s]"
     ]
    },
    {
     "name": "stdout",
     "output_type": "stream",
     "text": [
      "face  0.942 0.164\n",
      "left  0.721 0.306\n",
      "right 0.859 0.206\n"
     ]
    },
    {
     "name": "stderr",
     "output_type": "stream",
     "text": [
      "  1%|▏         | 5700/392536 [17:39<24:43:55,  4.34it/s]"
     ]
    },
    {
     "name": "stdout",
     "output_type": "stream",
     "text": [
      "face  0.942 0.164\n",
      "left  0.722 0.306\n",
      "right 0.859 0.206\n"
     ]
    },
    {
     "name": "stderr",
     "output_type": "stream",
     "text": [
      "  1%|▏         | 5801/392536 [17:56<12:08:29,  8.85it/s]"
     ]
    },
    {
     "name": "stdout",
     "output_type": "stream",
     "text": [
      "face  0.942 0.164\n",
      "left  0.721 0.306\n",
      "right 0.859 0.207\n"
     ]
    },
    {
     "name": "stderr",
     "output_type": "stream",
     "text": [
      "  2%|▏         | 5901/392536 [18:14<16:28:55,  6.52it/s]"
     ]
    },
    {
     "name": "stdout",
     "output_type": "stream",
     "text": [
      "face  0.942 0.163\n",
      "left  0.721 0.306\n",
      "right 0.86 0.206\n"
     ]
    },
    {
     "name": "stderr",
     "output_type": "stream",
     "text": [
      "  2%|▏         | 6401/392536 [19:55<18:59:16,  5.65it/s]"
     ]
    },
    {
     "name": "stdout",
     "output_type": "stream",
     "text": [
      "face  0.942 0.162\n",
      "left  0.722 0.305\n",
      "right 0.859 0.207\n"
     ]
    },
    {
     "name": "stderr",
     "output_type": "stream",
     "text": [
      "  2%|▏         | 6500/392536 [20:16<26:42:21,  4.02it/s]"
     ]
    },
    {
     "name": "stdout",
     "output_type": "stream",
     "text": [
      "face  0.943 0.161\n",
      "left  0.722 0.305\n",
      "right 0.859 0.206\n"
     ]
    },
    {
     "name": "stderr",
     "output_type": "stream",
     "text": [
      "  2%|▏         | 6600/392536 [20:37<22:31:49,  4.76it/s]"
     ]
    },
    {
     "name": "stdout",
     "output_type": "stream",
     "text": [
      "face  0.943 0.161\n",
      "left  0.722 0.305\n",
      "right 0.859 0.207\n"
     ]
    },
    {
     "name": "stderr",
     "output_type": "stream",
     "text": [
      "  2%|▏         | 6701/392536 [20:55<16:20:44,  6.56it/s]"
     ]
    },
    {
     "name": "stdout",
     "output_type": "stream",
     "text": [
      "face  0.943 0.161\n",
      "left  0.723 0.305\n",
      "right 0.859 0.206\n"
     ]
    },
    {
     "name": "stderr",
     "output_type": "stream",
     "text": [
      "  2%|▏         | 6800/392536 [21:14<15:31:34,  6.90it/s]"
     ]
    },
    {
     "name": "stdout",
     "output_type": "stream",
     "text": [
      "face  0.943 0.162\n",
      "left  0.723 0.305\n",
      "right 0.86 0.206\n"
     ]
    },
    {
     "name": "stderr",
     "output_type": "stream",
     "text": [
      "  2%|▏         | 6899/392536 [21:32<13:25:55,  7.98it/s]"
     ]
    },
    {
     "name": "stdout",
     "output_type": "stream",
     "text": [
      "face  0.943 0.162\n",
      "left  0.723 0.305\n",
      "right 0.859 0.207\n"
     ]
    },
    {
     "name": "stderr",
     "output_type": "stream",
     "text": [
      "  2%|▏         | 7000/392536 [21:53<22:41:51,  4.72it/s]"
     ]
    },
    {
     "name": "stdout",
     "output_type": "stream",
     "text": [
      "face  0.943 0.162\n",
      "left  0.723 0.305\n",
      "right 0.86 0.207\n"
     ]
    },
    {
     "name": "stderr",
     "output_type": "stream",
     "text": [
      "  2%|▏         | 7101/392536 [22:12<22:35:28,  4.74it/s]"
     ]
    },
    {
     "name": "stdout",
     "output_type": "stream",
     "text": [
      "face  0.943 0.162\n",
      "left  0.724 0.305\n",
      "right 0.859 0.207\n"
     ]
    },
    {
     "name": "stderr",
     "output_type": "stream",
     "text": [
      "  2%|▏         | 7201/392536 [22:30<16:18:43,  6.56it/s]"
     ]
    },
    {
     "name": "stdout",
     "output_type": "stream",
     "text": [
      "face  0.943 0.162\n",
      "left  0.724 0.304\n",
      "right 0.86 0.207\n"
     ]
    },
    {
     "name": "stderr",
     "output_type": "stream",
     "text": [
      "  2%|▏         | 7300/392536 [22:51<21:31:53,  4.97it/s]"
     ]
    },
    {
     "name": "stdout",
     "output_type": "stream",
     "text": [
      "face  0.943 0.161\n",
      "left  0.724 0.304\n",
      "right 0.86 0.206\n"
     ]
    },
    {
     "name": "stderr",
     "output_type": "stream",
     "text": [
      "  2%|▏         | 7401/392536 [23:10<15:12:19,  7.04it/s]"
     ]
    },
    {
     "name": "stdout",
     "output_type": "stream",
     "text": [
      "face  0.943 0.161\n",
      "left  0.724 0.305\n",
      "right 0.86 0.206\n"
     ]
    },
    {
     "name": "stderr",
     "output_type": "stream",
     "text": [
      "  2%|▏         | 7500/392536 [23:31<15:27:37,  6.92it/s]"
     ]
    },
    {
     "name": "stdout",
     "output_type": "stream",
     "text": [
      "face  0.943 0.161\n",
      "left  0.723 0.305\n",
      "right 0.859 0.206\n"
     ]
    },
    {
     "name": "stderr",
     "output_type": "stream",
     "text": [
      "  2%|▏         | 7600/392536 [23:51<19:17:28,  5.54it/s]"
     ]
    },
    {
     "name": "stdout",
     "output_type": "stream",
     "text": [
      "face  0.943 0.161\n",
      "left  0.723 0.305\n",
      "right 0.859 0.206\n"
     ]
    },
    {
     "name": "stderr",
     "output_type": "stream",
     "text": [
      "  2%|▏         | 7701/392536 [24:08<16:36:38,  6.44it/s]"
     ]
    },
    {
     "name": "stdout",
     "output_type": "stream",
     "text": [
      "face  0.943 0.161\n",
      "left  0.723 0.305\n",
      "right 0.859 0.207\n"
     ]
    },
    {
     "name": "stderr",
     "output_type": "stream",
     "text": [
      "  2%|▏         | 7800/392536 [24:26<21:43:55,  4.92it/s]"
     ]
    },
    {
     "name": "stdout",
     "output_type": "stream",
     "text": [
      "face  0.943 0.161\n",
      "left  0.723 0.305\n",
      "right 0.859 0.207\n"
     ]
    },
    {
     "name": "stderr",
     "output_type": "stream",
     "text": [
      "  2%|▏         | 7900/392536 [24:46<13:44:42,  7.77it/s]"
     ]
    },
    {
     "name": "stdout",
     "output_type": "stream",
     "text": [
      "face  0.943 0.161\n",
      "left  0.723 0.305\n",
      "right 0.859 0.206\n"
     ]
    },
    {
     "name": "stderr",
     "output_type": "stream",
     "text": [
      "  2%|▏         | 8001/392536 [25:05<12:37:15,  8.46it/s]"
     ]
    },
    {
     "name": "stdout",
     "output_type": "stream",
     "text": [
      "face  0.943 0.161\n",
      "left  0.723 0.305\n",
      "right 0.859 0.206\n"
     ]
    },
    {
     "name": "stderr",
     "output_type": "stream",
     "text": [
      "  2%|▏         | 8100/392536 [25:23<18:37:31,  5.73it/s]"
     ]
    },
    {
     "name": "stdout",
     "output_type": "stream",
     "text": [
      "face  0.943 0.16\n",
      "left  0.724 0.305\n",
      "right 0.859 0.207\n"
     ]
    },
    {
     "name": "stderr",
     "output_type": "stream",
     "text": [
      "  2%|▏         | 8200/392536 [25:43<19:21:55,  5.51it/s]"
     ]
    },
    {
     "name": "stdout",
     "output_type": "stream",
     "text": [
      "face  0.943 0.161\n",
      "left  0.723 0.305\n",
      "right 0.858 0.208\n"
     ]
    },
    {
     "name": "stderr",
     "output_type": "stream",
     "text": [
      "  2%|▏         | 8300/392536 [26:01<18:25:15,  5.79it/s]"
     ]
    },
    {
     "name": "stdout",
     "output_type": "stream",
     "text": [
      "face  0.943 0.162\n",
      "left  0.724 0.306\n",
      "right 0.858 0.208\n"
     ]
    },
    {
     "name": "stderr",
     "output_type": "stream",
     "text": [
      "  2%|▏         | 8401/392536 [26:18<13:28:46,  7.92it/s]"
     ]
    },
    {
     "name": "stdout",
     "output_type": "stream",
     "text": [
      "face  0.943 0.162\n",
      "left  0.724 0.305\n",
      "right 0.858 0.208\n"
     ]
    },
    {
     "name": "stderr",
     "output_type": "stream",
     "text": [
      "  2%|▏         | 8501/392536 [26:36<13:46:31,  7.74it/s]"
     ]
    },
    {
     "name": "stdout",
     "output_type": "stream",
     "text": [
      "face  0.943 0.162\n",
      "left  0.723 0.305\n",
      "right 0.858 0.208\n"
     ]
    },
    {
     "name": "stderr",
     "output_type": "stream",
     "text": [
      "  2%|▏         | 8600/392536 [26:56<24:10:49,  4.41it/s]"
     ]
    },
    {
     "name": "stdout",
     "output_type": "stream",
     "text": [
      "face  0.943 0.162\n",
      "left  0.723 0.305\n",
      "right 0.858 0.208\n"
     ]
    },
    {
     "name": "stderr",
     "output_type": "stream",
     "text": [
      "  2%|▏         | 8700/392536 [27:15<18:57:06,  5.63it/s]"
     ]
    },
    {
     "name": "stdout",
     "output_type": "stream",
     "text": [
      "face  0.942 0.163\n",
      "left  0.724 0.305\n",
      "right 0.858 0.208\n"
     ]
    },
    {
     "name": "stderr",
     "output_type": "stream",
     "text": [
      "  2%|▏         | 8801/392536 [27:35<18:11:17,  5.86it/s]"
     ]
    },
    {
     "name": "stdout",
     "output_type": "stream",
     "text": [
      "face  0.943 0.162\n",
      "left  0.724 0.306\n",
      "right 0.859 0.208\n"
     ]
    },
    {
     "name": "stderr",
     "output_type": "stream",
     "text": [
      "  2%|▏         | 8901/392536 [27:56<19:24:01,  5.49it/s]"
     ]
    },
    {
     "name": "stdout",
     "output_type": "stream",
     "text": [
      "face  0.943 0.162\n",
      "left  0.724 0.306\n",
      "right 0.858 0.208\n"
     ]
    },
    {
     "name": "stderr",
     "output_type": "stream",
     "text": [
      "  2%|▏         | 9001/392536 [28:15<15:39:17,  6.81it/s]"
     ]
    },
    {
     "name": "stdout",
     "output_type": "stream",
     "text": [
      "face  0.943 0.162\n",
      "left  0.723 0.306\n",
      "right 0.858 0.209\n"
     ]
    },
    {
     "name": "stderr",
     "output_type": "stream",
     "text": [
      "  2%|▏         | 9101/392536 [28:34<13:59:09,  7.62it/s]"
     ]
    },
    {
     "name": "stdout",
     "output_type": "stream",
     "text": [
      "face  0.942 0.163\n",
      "left  0.724 0.306\n",
      "right 0.858 0.209\n"
     ]
    },
    {
     "name": "stderr",
     "output_type": "stream",
     "text": [
      "  2%|▏         | 9200/392536 [28:53<16:15:21,  6.55it/s]"
     ]
    },
    {
     "name": "stdout",
     "output_type": "stream",
     "text": [
      "face  0.943 0.162\n",
      "left  0.724 0.305\n",
      "right 0.859 0.208\n"
     ]
    },
    {
     "name": "stderr",
     "output_type": "stream",
     "text": [
      "  2%|▏         | 9301/392536 [29:13<18:54:42,  5.63it/s]"
     ]
    },
    {
     "name": "stdout",
     "output_type": "stream",
     "text": [
      "face  0.943 0.162\n",
      "left  0.724 0.305\n",
      "right 0.859 0.208\n"
     ]
    },
    {
     "name": "stderr",
     "output_type": "stream",
     "text": [
      "  2%|▏         | 9401/392536 [29:34<19:36:29,  5.43it/s]"
     ]
    },
    {
     "name": "stdout",
     "output_type": "stream",
     "text": [
      "face  0.943 0.162\n",
      "left  0.724 0.305\n",
      "right 0.859 0.208\n"
     ]
    },
    {
     "name": "stderr",
     "output_type": "stream",
     "text": [
      "  2%|▏         | 9500/392536 [29:50<16:14:30,  6.55it/s]"
     ]
    },
    {
     "name": "stdout",
     "output_type": "stream",
     "text": [
      "face  0.943 0.162\n",
      "left  0.724 0.305\n",
      "right 0.859 0.208\n"
     ]
    },
    {
     "name": "stderr",
     "output_type": "stream",
     "text": [
      "  2%|▏         | 9600/392536 [30:08<20:12:58,  5.26it/s]"
     ]
    },
    {
     "name": "stdout",
     "output_type": "stream",
     "text": [
      "face  0.943 0.162\n",
      "left  0.723 0.306\n",
      "right 0.859 0.208\n"
     ]
    },
    {
     "name": "stderr",
     "output_type": "stream",
     "text": [
      "  2%|▏         | 9701/392536 [30:29<19:06:25,  5.57it/s]"
     ]
    },
    {
     "name": "stdout",
     "output_type": "stream",
     "text": [
      "face  0.943 0.161\n",
      "left  0.724 0.305\n",
      "right 0.858 0.209\n"
     ]
    },
    {
     "name": "stderr",
     "output_type": "stream",
     "text": [
      "  2%|▏         | 9801/392536 [30:49<22:53:01,  4.65it/s]"
     ]
    },
    {
     "name": "stdout",
     "output_type": "stream",
     "text": [
      "face  0.943 0.161\n",
      "left  0.724 0.305\n",
      "right 0.859 0.208\n"
     ]
    },
    {
     "name": "stderr",
     "output_type": "stream",
     "text": [
      "  3%|▎         | 9851/392536 [30:59<23:25:56,  4.54it/s]IOPub message rate exceeded.\n",
      "The Jupyter server will temporarily stop sending output\n",
      "to the client in order to avoid crashing it.\n",
      "To change this limit, set the config variable\n",
      "`--ServerApp.iopub_msg_rate_limit`.\n",
      "\n",
      "Current values:\n",
      "ServerApp.iopub_msg_rate_limit=1000.0 (msgs/sec)\n",
      "ServerApp.rate_limit_window=3.0 (secs)\n",
      "\n",
      "  3%|▎         | 10100/392536 [31:48<20:58:26,  5.06it/s]"
     ]
    },
    {
     "name": "stdout",
     "output_type": "stream",
     "text": [
      "face  0.943 0.161\n",
      "left  0.724 0.305\n",
      "right 0.858 0.208\n"
     ]
    },
    {
     "name": "stderr",
     "output_type": "stream",
     "text": [
      "  3%|▎         | 10201/392536 [32:09<13:53:21,  7.65it/s]"
     ]
    },
    {
     "name": "stdout",
     "output_type": "stream",
     "text": [
      "face  0.943 0.161\n",
      "left  0.725 0.305\n",
      "right 0.859 0.208\n"
     ]
    },
    {
     "name": "stderr",
     "output_type": "stream",
     "text": [
      "  3%|▎         | 10300/392536 [32:28<20:35:47,  5.16it/s]"
     ]
    },
    {
     "name": "stdout",
     "output_type": "stream",
     "text": [
      "face  0.943 0.161\n",
      "left  0.725 0.305\n",
      "right 0.859 0.208\n"
     ]
    },
    {
     "name": "stderr",
     "output_type": "stream",
     "text": [
      "  3%|▎         | 10400/392536 [32:48<24:23:36,  4.35it/s]"
     ]
    },
    {
     "name": "stdout",
     "output_type": "stream",
     "text": [
      "face  0.943 0.161\n",
      "left  0.725 0.305\n",
      "right 0.858 0.208\n"
     ]
    },
    {
     "name": "stderr",
     "output_type": "stream",
     "text": [
      "  3%|▎         | 10500/392536 [33:09<19:03:40,  5.57it/s]"
     ]
    },
    {
     "name": "stdout",
     "output_type": "stream",
     "text": [
      "face  0.943 0.16\n",
      "left  0.725 0.305\n",
      "right 0.858 0.208\n"
     ]
    },
    {
     "name": "stderr",
     "output_type": "stream",
     "text": [
      "  3%|▎         | 10600/392536 [33:29<16:30:46,  6.42it/s]"
     ]
    },
    {
     "name": "stdout",
     "output_type": "stream",
     "text": [
      "face  0.943 0.16\n",
      "left  0.725 0.305\n",
      "right 0.858 0.208\n"
     ]
    },
    {
     "name": "stderr",
     "output_type": "stream",
     "text": [
      "  3%|▎         | 10701/392536 [33:53<18:26:03,  5.75it/s]"
     ]
    },
    {
     "name": "stdout",
     "output_type": "stream",
     "text": [
      "face  0.943 0.16\n",
      "left  0.725 0.305\n",
      "right 0.858 0.208\n"
     ]
    },
    {
     "name": "stderr",
     "output_type": "stream",
     "text": [
      "  3%|▎         | 10801/392536 [34:13<16:01:32,  6.62it/s]"
     ]
    },
    {
     "name": "stdout",
     "output_type": "stream",
     "text": [
      "face  0.944 0.159\n",
      "left  0.726 0.304\n",
      "right 0.858 0.208\n"
     ]
    },
    {
     "name": "stderr",
     "output_type": "stream",
     "text": [
      "  3%|▎         | 10902/392536 [34:33<15:17:36,  6.93it/s]"
     ]
    },
    {
     "name": "stdout",
     "output_type": "stream",
     "text": [
      "face  0.944 0.159\n",
      "left  0.726 0.305\n",
      "right 0.858 0.208\n"
     ]
    },
    {
     "name": "stderr",
     "output_type": "stream",
     "text": [
      "  3%|▎         | 11000/392536 [34:54<21:41:16,  4.89it/s]"
     ]
    },
    {
     "name": "stdout",
     "output_type": "stream",
     "text": [
      "face  0.944 0.159\n",
      "left  0.726 0.304\n",
      "right 0.858 0.208\n"
     ]
    },
    {
     "name": "stderr",
     "output_type": "stream",
     "text": [
      "  3%|▎         | 11101/392536 [35:14<16:35:00,  6.39it/s]"
     ]
    },
    {
     "name": "stdout",
     "output_type": "stream",
     "text": [
      "face  0.944 0.159\n",
      "left  0.726 0.304\n",
      "right 0.858 0.208\n"
     ]
    },
    {
     "name": "stderr",
     "output_type": "stream",
     "text": [
      "  3%|▎         | 11200/392536 [35:33<17:35:52,  6.02it/s]"
     ]
    },
    {
     "name": "stdout",
     "output_type": "stream",
     "text": [
      "face  0.944 0.159\n",
      "left  0.725 0.305\n",
      "right 0.858 0.208\n"
     ]
    },
    {
     "name": "stderr",
     "output_type": "stream",
     "text": [
      "  3%|▎         | 11301/392536 [35:52<17:46:00,  5.96it/s]"
     ]
    },
    {
     "name": "stdout",
     "output_type": "stream",
     "text": [
      "face  0.944 0.159\n",
      "left  0.725 0.305\n",
      "right 0.859 0.208\n"
     ]
    },
    {
     "name": "stderr",
     "output_type": "stream",
     "text": [
      "  3%|▎         | 11401/392536 [36:15<24:03:55,  4.40it/s]"
     ]
    },
    {
     "name": "stdout",
     "output_type": "stream",
     "text": [
      "face  0.944 0.159\n",
      "left  0.725 0.305\n",
      "right 0.859 0.208\n"
     ]
    },
    {
     "name": "stderr",
     "output_type": "stream",
     "text": [
      "  3%|▎         | 11501/392536 [36:34<17:54:24,  5.91it/s]"
     ]
    },
    {
     "name": "stdout",
     "output_type": "stream",
     "text": [
      "face  0.944 0.159\n",
      "left  0.725 0.305\n",
      "right 0.858 0.208\n"
     ]
    },
    {
     "name": "stderr",
     "output_type": "stream",
     "text": [
      "  3%|▎         | 11600/392536 [36:54<20:31:53,  5.15it/s]"
     ]
    },
    {
     "name": "stdout",
     "output_type": "stream",
     "text": [
      "face  0.944 0.159\n",
      "left  0.725 0.305\n",
      "right 0.858 0.208\n"
     ]
    },
    {
     "name": "stderr",
     "output_type": "stream",
     "text": [
      "  3%|▎         | 11700/392536 [37:14<24:06:06,  4.39it/s]"
     ]
    },
    {
     "name": "stdout",
     "output_type": "stream",
     "text": [
      "face  0.944 0.159\n",
      "left  0.725 0.305\n",
      "right 0.858 0.207\n"
     ]
    },
    {
     "name": "stderr",
     "output_type": "stream",
     "text": [
      "  3%|▎         | 11801/392536 [37:35<21:12:14,  4.99it/s]"
     ]
    },
    {
     "name": "stdout",
     "output_type": "stream",
     "text": [
      "face  0.944 0.159\n",
      "left  0.725 0.305\n",
      "right 0.858 0.208\n"
     ]
    },
    {
     "name": "stderr",
     "output_type": "stream",
     "text": [
      "  3%|▎         | 11901/392536 [37:53<26:02:54,  4.06it/s]"
     ]
    },
    {
     "name": "stdout",
     "output_type": "stream",
     "text": [
      "face  0.944 0.159\n",
      "left  0.724 0.305\n",
      "right 0.858 0.208\n"
     ]
    },
    {
     "name": "stderr",
     "output_type": "stream",
     "text": [
      "  3%|▎         | 12000/392536 [38:11<25:08:17,  4.20it/s]"
     ]
    },
    {
     "name": "stdout",
     "output_type": "stream",
     "text": [
      "face  0.944 0.159\n",
      "left  0.724 0.305\n",
      "right 0.858 0.208\n"
     ]
    },
    {
     "name": "stderr",
     "output_type": "stream",
     "text": [
      "  3%|▎         | 12100/392536 [38:30<18:18:48,  5.77it/s]"
     ]
    },
    {
     "name": "stdout",
     "output_type": "stream",
     "text": [
      "face  0.944 0.159\n",
      "left  0.724 0.305\n",
      "right 0.858 0.208\n"
     ]
    },
    {
     "name": "stderr",
     "output_type": "stream",
     "text": [
      "  3%|▎         | 12202/392536 [38:47<13:28:21,  7.84it/s]"
     ]
    },
    {
     "name": "stdout",
     "output_type": "stream",
     "text": [
      "face  0.944 0.159\n",
      "left  0.724 0.305\n",
      "right 0.858 0.208\n"
     ]
    },
    {
     "name": "stderr",
     "output_type": "stream",
     "text": [
      "  3%|▎         | 12301/392536 [39:04<16:24:53,  6.43it/s]"
     ]
    },
    {
     "name": "stdout",
     "output_type": "stream",
     "text": [
      "face  0.943 0.16\n",
      "left  0.724 0.305\n",
      "right 0.858 0.208\n"
     ]
    },
    {
     "name": "stderr",
     "output_type": "stream",
     "text": [
      "  3%|▎         | 12400/392536 [39:25<24:39:25,  4.28it/s]"
     ]
    },
    {
     "name": "stdout",
     "output_type": "stream",
     "text": [
      "face  0.944 0.16\n",
      "left  0.724 0.305\n",
      "right 0.858 0.208\n"
     ]
    },
    {
     "name": "stderr",
     "output_type": "stream",
     "text": [
      "  3%|▎         | 12500/392536 [39:46<19:24:49,  5.44it/s]"
     ]
    },
    {
     "name": "stdout",
     "output_type": "stream",
     "text": [
      "face  0.943 0.16\n",
      "left  0.724 0.305\n",
      "right 0.858 0.208\n"
     ]
    },
    {
     "name": "stderr",
     "output_type": "stream",
     "text": [
      "  3%|▎         | 12601/392536 [40:07<16:36:11,  6.36it/s]"
     ]
    },
    {
     "name": "stdout",
     "output_type": "stream",
     "text": [
      "face  0.943 0.16\n",
      "left  0.724 0.305\n",
      "right 0.858 0.208\n"
     ]
    },
    {
     "name": "stderr",
     "output_type": "stream",
     "text": [
      "  3%|▎         | 12700/392536 [40:26<16:33:41,  6.37it/s]"
     ]
    },
    {
     "name": "stdout",
     "output_type": "stream",
     "text": [
      "face  0.943 0.16\n",
      "left  0.724 0.305\n",
      "right 0.858 0.208\n"
     ]
    },
    {
     "name": "stderr",
     "output_type": "stream",
     "text": [
      "  3%|▎         | 12800/392536 [40:44<16:20:42,  6.45it/s]"
     ]
    },
    {
     "name": "stdout",
     "output_type": "stream",
     "text": [
      "face  0.943 0.16\n",
      "left  0.724 0.305\n",
      "right 0.858 0.208\n"
     ]
    },
    {
     "name": "stderr",
     "output_type": "stream",
     "text": [
      "  3%|▎         | 12901/392536 [41:04<17:42:05,  5.96it/s]"
     ]
    },
    {
     "name": "stdout",
     "output_type": "stream",
     "text": [
      "face  0.943 0.16\n",
      "left  0.724 0.305\n",
      "right 0.857 0.208\n"
     ]
    },
    {
     "name": "stderr",
     "output_type": "stream",
     "text": [
      "  3%|▎         | 13000/392536 [41:26<23:40:28,  4.45it/s]"
     ]
    },
    {
     "name": "stdout",
     "output_type": "stream",
     "text": [
      "face  0.943 0.16\n",
      "left  0.724 0.305\n",
      "right 0.857 0.208\n"
     ]
    },
    {
     "name": "stderr",
     "output_type": "stream",
     "text": [
      "  3%|▎         | 13101/392536 [41:44<18:25:28,  5.72it/s]"
     ]
    },
    {
     "name": "stdout",
     "output_type": "stream",
     "text": [
      "face  0.943 0.16\n",
      "left  0.724 0.305\n",
      "right 0.857 0.208\n"
     ]
    },
    {
     "name": "stderr",
     "output_type": "stream",
     "text": [
      "  3%|▎         | 13200/392536 [42:06<23:29:11,  4.49it/s]"
     ]
    },
    {
     "name": "stdout",
     "output_type": "stream",
     "text": [
      "face  0.943 0.16\n",
      "left  0.724 0.305\n",
      "right 0.857 0.209\n"
     ]
    },
    {
     "name": "stderr",
     "output_type": "stream",
     "text": [
      "  3%|▎         | 13301/392536 [42:26<18:10:49,  5.79it/s]"
     ]
    },
    {
     "name": "stdout",
     "output_type": "stream",
     "text": [
      "face  0.943 0.16\n",
      "left  0.723 0.306\n",
      "right 0.857 0.209\n"
     ]
    },
    {
     "name": "stderr",
     "output_type": "stream",
     "text": [
      "  3%|▎         | 13399/392536 [42:45<26:17:24,  4.01it/s]"
     ]
    },
    {
     "name": "stdout",
     "output_type": "stream",
     "text": [
      "face  0.943 0.16\n",
      "left  0.723 0.305\n",
      "right 0.857 0.209\n"
     ]
    },
    {
     "name": "stderr",
     "output_type": "stream",
     "text": [
      "  3%|▎         | 13501/392536 [43:05<18:42:57,  5.63it/s]"
     ]
    },
    {
     "name": "stdout",
     "output_type": "stream",
     "text": [
      "face  0.943 0.16\n",
      "left  0.723 0.306\n",
      "right 0.857 0.209\n"
     ]
    },
    {
     "name": "stderr",
     "output_type": "stream",
     "text": [
      "  3%|▎         | 13601/392536 [43:22<16:07:57,  6.52it/s]"
     ]
    },
    {
     "name": "stdout",
     "output_type": "stream",
     "text": [
      "face  0.943 0.16\n",
      "left  0.723 0.306\n",
      "right 0.857 0.209\n"
     ]
    },
    {
     "name": "stderr",
     "output_type": "stream",
     "text": [
      "  3%|▎         | 13701/392536 [43:42<17:39:14,  5.96it/s]"
     ]
    },
    {
     "name": "stdout",
     "output_type": "stream",
     "text": [
      "face  0.943 0.16\n",
      "left  0.723 0.306\n",
      "right 0.856 0.21\n"
     ]
    },
    {
     "name": "stderr",
     "output_type": "stream",
     "text": [
      "  4%|▎         | 13801/392536 [44:00<19:22:42,  5.43it/s]"
     ]
    },
    {
     "name": "stdout",
     "output_type": "stream",
     "text": [
      "face  0.943 0.16\n",
      "left  0.723 0.306\n",
      "right 0.856 0.21\n"
     ]
    },
    {
     "name": "stderr",
     "output_type": "stream",
     "text": [
      "  4%|▎         | 13900/392536 [44:21<17:47:42,  5.91it/s]"
     ]
    },
    {
     "name": "stdout",
     "output_type": "stream",
     "text": [
      "face  0.943 0.16\n",
      "left  0.723 0.306\n",
      "right 0.856 0.21\n"
     ]
    },
    {
     "name": "stderr",
     "output_type": "stream",
     "text": [
      "  4%|▎         | 14000/392536 [44:42<21:02:52,  5.00it/s]"
     ]
    },
    {
     "name": "stdout",
     "output_type": "stream",
     "text": [
      "face  0.943 0.16\n",
      "left  0.723 0.306\n",
      "right 0.856 0.21\n"
     ]
    },
    {
     "name": "stderr",
     "output_type": "stream",
     "text": [
      "  4%|▎         | 14100/392536 [45:01<23:52:50,  4.40it/s]"
     ]
    },
    {
     "name": "stdout",
     "output_type": "stream",
     "text": [
      "face  0.943 0.16\n",
      "left  0.723 0.306\n",
      "right 0.856 0.21\n"
     ]
    },
    {
     "name": "stderr",
     "output_type": "stream",
     "text": [
      "  4%|▎         | 14200/392536 [45:20<18:12:22,  5.77it/s]"
     ]
    },
    {
     "name": "stdout",
     "output_type": "stream",
     "text": [
      "face  0.943 0.16\n",
      "left  0.723 0.306\n",
      "right 0.856 0.21\n"
     ]
    },
    {
     "name": "stderr",
     "output_type": "stream",
     "text": [
      "  4%|▎         | 14300/392536 [45:39<18:42:46,  5.61it/s]"
     ]
    },
    {
     "name": "stdout",
     "output_type": "stream",
     "text": [
      "face  0.943 0.16\n",
      "left  0.723 0.305\n",
      "right 0.856 0.21\n"
     ]
    },
    {
     "name": "stderr",
     "output_type": "stream",
     "text": [
      "  4%|▎         | 14401/392536 [45:59<17:23:54,  6.04it/s]"
     ]
    },
    {
     "name": "stdout",
     "output_type": "stream",
     "text": [
      "face  0.943 0.16\n",
      "left  0.723 0.305\n",
      "right 0.856 0.21\n"
     ]
    },
    {
     "name": "stderr",
     "output_type": "stream",
     "text": [
      "  4%|▎         | 14500/392536 [46:20<19:31:43,  5.38it/s]"
     ]
    },
    {
     "name": "stdout",
     "output_type": "stream",
     "text": [
      "face  0.943 0.16\n",
      "left  0.723 0.306\n",
      "right 0.856 0.21\n"
     ]
    },
    {
     "name": "stderr",
     "output_type": "stream",
     "text": [
      "  4%|▎         | 14601/392536 [46:39<17:11:19,  6.11it/s]"
     ]
    },
    {
     "name": "stdout",
     "output_type": "stream",
     "text": [
      "face  0.943 0.159\n",
      "left  0.723 0.306\n",
      "right 0.856 0.21\n"
     ]
    },
    {
     "name": "stderr",
     "output_type": "stream",
     "text": [
      "  4%|▎         | 14700/392536 [46:57<23:26:41,  4.48it/s]"
     ]
    },
    {
     "name": "stdout",
     "output_type": "stream",
     "text": [
      "face  0.943 0.159\n",
      "left  0.723 0.306\n",
      "right 0.856 0.21\n"
     ]
    },
    {
     "name": "stderr",
     "output_type": "stream",
     "text": [
      "  4%|▍         | 14801/392536 [47:19<29:43:08,  3.53it/s]"
     ]
    },
    {
     "name": "stdout",
     "output_type": "stream",
     "text": [
      "face  0.943 0.159\n",
      "left  0.723 0.306\n",
      "right 0.856 0.21\n"
     ]
    },
    {
     "name": "stderr",
     "output_type": "stream",
     "text": [
      "  4%|▍         | 14901/392536 [47:37<18:28:00,  5.68it/s]"
     ]
    },
    {
     "name": "stdout",
     "output_type": "stream",
     "text": [
      "face  0.944 0.159\n",
      "left  0.723 0.306\n",
      "right 0.856 0.21\n"
     ]
    },
    {
     "name": "stderr",
     "output_type": "stream",
     "text": [
      "  4%|▍         | 15001/392536 [47:57<16:58:26,  6.18it/s]"
     ]
    },
    {
     "name": "stdout",
     "output_type": "stream",
     "text": [
      "face  0.944 0.159\n",
      "left  0.723 0.306\n",
      "right 0.856 0.21\n"
     ]
    },
    {
     "name": "stderr",
     "output_type": "stream",
     "text": [
      "  4%|▍         | 15101/392536 [48:18<28:27:42,  3.68it/s]"
     ]
    },
    {
     "name": "stdout",
     "output_type": "stream",
     "text": [
      "face  0.944 0.159\n",
      "left  0.723 0.306\n",
      "right 0.856 0.21\n"
     ]
    },
    {
     "name": "stderr",
     "output_type": "stream",
     "text": [
      "  4%|▍         | 15200/392536 [48:37<28:39:13,  3.66it/s]"
     ]
    },
    {
     "name": "stdout",
     "output_type": "stream",
     "text": [
      "face  0.944 0.159\n",
      "left  0.723 0.306\n",
      "right 0.856 0.21\n"
     ]
    },
    {
     "name": "stderr",
     "output_type": "stream",
     "text": [
      "  4%|▍         | 15300/392536 [48:56<18:56:14,  5.53it/s]"
     ]
    },
    {
     "name": "stdout",
     "output_type": "stream",
     "text": [
      "face  0.944 0.159\n",
      "left  0.723 0.306\n",
      "right 0.856 0.21\n"
     ]
    },
    {
     "name": "stderr",
     "output_type": "stream",
     "text": [
      "  4%|▍         | 15400/392536 [49:19<16:05:54,  6.51it/s]"
     ]
    },
    {
     "name": "stdout",
     "output_type": "stream",
     "text": [
      "face  0.944 0.159\n",
      "left  0.723 0.306\n",
      "right 0.856 0.21\n"
     ]
    },
    {
     "name": "stderr",
     "output_type": "stream",
     "text": [
      "  4%|▍         | 15500/392536 [49:38<32:35:35,  3.21it/s]"
     ]
    },
    {
     "name": "stdout",
     "output_type": "stream",
     "text": [
      "face  0.944 0.159\n",
      "left  0.723 0.305\n",
      "right 0.856 0.211\n"
     ]
    },
    {
     "name": "stderr",
     "output_type": "stream",
     "text": [
      "  4%|▍         | 15601/392536 [49:59<14:30:04,  7.22it/s]"
     ]
    },
    {
     "name": "stdout",
     "output_type": "stream",
     "text": [
      "face  0.944 0.159\n",
      "left  0.723 0.306\n",
      "right 0.856 0.211\n"
     ]
    },
    {
     "name": "stderr",
     "output_type": "stream",
     "text": [
      "  4%|▍         | 15701/392536 [50:18<24:28:37,  4.28it/s]"
     ]
    },
    {
     "name": "stdout",
     "output_type": "stream",
     "text": [
      "face  0.943 0.16\n",
      "left  0.723 0.306\n",
      "right 0.856 0.211\n"
     ]
    },
    {
     "name": "stderr",
     "output_type": "stream",
     "text": [
      "  4%|▍         | 15802/392536 [50:37<14:12:51,  7.36it/s]"
     ]
    },
    {
     "name": "stdout",
     "output_type": "stream",
     "text": [
      "face  0.943 0.16\n",
      "left  0.722 0.306\n",
      "right 0.855 0.211\n"
     ]
    },
    {
     "name": "stderr",
     "output_type": "stream",
     "text": [
      "  4%|▍         | 15901/392536 [50:58<21:22:25,  4.89it/s]"
     ]
    },
    {
     "name": "stdout",
     "output_type": "stream",
     "text": [
      "face  0.943 0.16\n",
      "left  0.723 0.306\n",
      "right 0.856 0.211\n"
     ]
    },
    {
     "name": "stderr",
     "output_type": "stream",
     "text": [
      "  4%|▍         | 16001/392536 [51:17<15:52:05,  6.59it/s]"
     ]
    },
    {
     "name": "stdout",
     "output_type": "stream",
     "text": [
      "face  0.943 0.16\n",
      "left  0.723 0.306\n",
      "right 0.856 0.211\n"
     ]
    },
    {
     "name": "stderr",
     "output_type": "stream",
     "text": [
      "  4%|▍         | 16100/392536 [51:37<20:15:33,  5.16it/s]"
     ]
    },
    {
     "name": "stdout",
     "output_type": "stream",
     "text": [
      "face  0.943 0.16\n",
      "left  0.723 0.306\n",
      "right 0.856 0.21\n"
     ]
    },
    {
     "name": "stderr",
     "output_type": "stream",
     "text": [
      "  4%|▍         | 16201/392536 [51:57<16:29:55,  6.34it/s]"
     ]
    },
    {
     "name": "stdout",
     "output_type": "stream",
     "text": [
      "face  0.943 0.16\n",
      "left  0.723 0.306\n",
      "right 0.856 0.21\n"
     ]
    },
    {
     "name": "stderr",
     "output_type": "stream",
     "text": [
      "  4%|▍         | 16301/392536 [52:18<20:08:24,  5.19it/s]"
     ]
    },
    {
     "name": "stdout",
     "output_type": "stream",
     "text": [
      "face  0.943 0.16\n",
      "left  0.723 0.306\n",
      "right 0.856 0.21\n"
     ]
    },
    {
     "name": "stderr",
     "output_type": "stream",
     "text": [
      "  4%|▍         | 16400/392536 [52:37<24:06:57,  4.33it/s]"
     ]
    },
    {
     "name": "stdout",
     "output_type": "stream",
     "text": [
      "face  0.944 0.16\n",
      "left  0.723 0.306\n",
      "right 0.856 0.21\n"
     ]
    },
    {
     "name": "stderr",
     "output_type": "stream",
     "text": [
      "  4%|▍         | 16501/392536 [52:56<22:33:43,  4.63it/s]"
     ]
    },
    {
     "name": "stdout",
     "output_type": "stream",
     "text": [
      "face  0.943 0.16\n",
      "left  0.723 0.306\n",
      "right 0.856 0.21\n"
     ]
    },
    {
     "name": "stderr",
     "output_type": "stream",
     "text": [
      "  4%|▍         | 16601/392536 [53:13<22:22:54,  4.67it/s]"
     ]
    },
    {
     "name": "stdout",
     "output_type": "stream",
     "text": [
      "face  0.943 0.16\n",
      "left  0.723 0.306\n",
      "right 0.856 0.211\n"
     ]
    },
    {
     "name": "stderr",
     "output_type": "stream",
     "text": [
      "  4%|▍         | 16699/392536 [53:31<17:56:05,  5.82it/s]"
     ]
    },
    {
     "name": "stdout",
     "output_type": "stream",
     "text": [
      "face  0.943 0.16\n",
      "left  0.723 0.306\n",
      "right 0.856 0.211\n"
     ]
    },
    {
     "name": "stderr",
     "output_type": "stream",
     "text": [
      "  4%|▍         | 16801/392536 [53:52<16:03:18,  6.50it/s]"
     ]
    },
    {
     "name": "stdout",
     "output_type": "stream",
     "text": [
      "face  0.943 0.16\n",
      "left  0.723 0.306\n",
      "right 0.856 0.211\n"
     ]
    },
    {
     "name": "stderr",
     "output_type": "stream",
     "text": [
      "  4%|▍         | 16900/392536 [54:11<18:59:21,  5.49it/s]"
     ]
    },
    {
     "name": "stdout",
     "output_type": "stream",
     "text": [
      "face  0.943 0.16\n",
      "left  0.723 0.306\n",
      "right 0.856 0.211\n"
     ]
    },
    {
     "name": "stderr",
     "output_type": "stream",
     "text": [
      "  4%|▍         | 17001/392536 [54:30<16:31:14,  6.31it/s]"
     ]
    },
    {
     "name": "stdout",
     "output_type": "stream",
     "text": [
      "face  0.944 0.159\n",
      "left  0.723 0.306\n",
      "right 0.856 0.211\n"
     ]
    },
    {
     "name": "stderr",
     "output_type": "stream",
     "text": [
      "  4%|▍         | 17100/392536 [54:48<21:10:44,  4.92it/s]"
     ]
    },
    {
     "name": "stdout",
     "output_type": "stream",
     "text": [
      "face  0.944 0.159\n",
      "left  0.723 0.306\n",
      "right 0.856 0.211\n"
     ]
    },
    {
     "name": "stderr",
     "output_type": "stream",
     "text": [
      "  4%|▍         | 17200/392536 [55:10<22:19:43,  4.67it/s]"
     ]
    },
    {
     "name": "stdout",
     "output_type": "stream",
     "text": [
      "face  0.944 0.159\n",
      "left  0.723 0.306\n",
      "right 0.856 0.211\n"
     ]
    },
    {
     "name": "stderr",
     "output_type": "stream",
     "text": [
      "  4%|▍         | 17300/392536 [55:31<15:42:19,  6.64it/s]"
     ]
    },
    {
     "name": "stdout",
     "output_type": "stream",
     "text": [
      "face  0.944 0.159\n",
      "left  0.723 0.306\n",
      "right 0.856 0.211\n"
     ]
    },
    {
     "name": "stderr",
     "output_type": "stream",
     "text": [
      "  4%|▍         | 17400/392536 [55:49<20:45:24,  5.02it/s]"
     ]
    },
    {
     "name": "stdout",
     "output_type": "stream",
     "text": [
      "face  0.944 0.159\n",
      "left  0.723 0.306\n",
      "right 0.856 0.211\n"
     ]
    },
    {
     "name": "stderr",
     "output_type": "stream",
     "text": [
      "  4%|▍         | 17499/392536 [56:09<29:49:24,  3.49it/s]"
     ]
    },
    {
     "name": "stdout",
     "output_type": "stream",
     "text": [
      "face  0.944 0.159\n",
      "left  0.723 0.306\n",
      "right 0.856 0.211\n"
     ]
    },
    {
     "name": "stderr",
     "output_type": "stream",
     "text": [
      "  4%|▍         | 17601/392536 [56:30<12:21:08,  8.43it/s]"
     ]
    },
    {
     "name": "stdout",
     "output_type": "stream",
     "text": [
      "face  0.944 0.159\n",
      "left  0.723 0.305\n",
      "right 0.856 0.211\n"
     ]
    },
    {
     "name": "stderr",
     "output_type": "stream",
     "text": [
      "  5%|▍         | 17701/392536 [56:49<16:46:48,  6.20it/s]"
     ]
    },
    {
     "name": "stdout",
     "output_type": "stream",
     "text": [
      "face  0.944 0.158\n",
      "left  0.723 0.305\n",
      "right 0.856 0.21\n"
     ]
    },
    {
     "name": "stderr",
     "output_type": "stream",
     "text": [
      "  5%|▍         | 17800/392536 [57:09<22:29:22,  4.63it/s]"
     ]
    },
    {
     "name": "stdout",
     "output_type": "stream",
     "text": [
      "face  0.944 0.159\n",
      "left  0.723 0.305\n",
      "right 0.856 0.21\n"
     ]
    },
    {
     "name": "stderr",
     "output_type": "stream",
     "text": [
      "  5%|▍         | 17901/392536 [57:30<11:28:38,  9.07it/s]"
     ]
    },
    {
     "name": "stdout",
     "output_type": "stream",
     "text": [
      "face  0.944 0.159\n",
      "left  0.723 0.305\n",
      "right 0.856 0.21\n"
     ]
    },
    {
     "name": "stderr",
     "output_type": "stream",
     "text": [
      "  5%|▍         | 18001/392536 [57:52<31:17:01,  3.33it/s]"
     ]
    },
    {
     "name": "stdout",
     "output_type": "stream",
     "text": [
      "face  0.944 0.158\n",
      "left  0.723 0.305\n",
      "right 0.856 0.211\n"
     ]
    },
    {
     "name": "stderr",
     "output_type": "stream",
     "text": [
      "  5%|▍         | 18100/392536 [58:13<17:05:08,  6.09it/s]"
     ]
    },
    {
     "name": "stdout",
     "output_type": "stream",
     "text": [
      "face  0.944 0.158\n",
      "left  0.723 0.306\n",
      "right 0.856 0.211\n"
     ]
    },
    {
     "name": "stderr",
     "output_type": "stream",
     "text": [
      "  5%|▍         | 18201/392536 [58:33<18:17:05,  5.69it/s]"
     ]
    },
    {
     "name": "stdout",
     "output_type": "stream",
     "text": [
      "face  0.944 0.158\n",
      "left  0.724 0.305\n",
      "right 0.857 0.21\n"
     ]
    },
    {
     "name": "stderr",
     "output_type": "stream",
     "text": [
      "  5%|▍         | 18301/392536 [58:54<16:09:42,  6.43it/s]"
     ]
    },
    {
     "name": "stdout",
     "output_type": "stream",
     "text": [
      "face  0.944 0.158\n",
      "left  0.724 0.305\n",
      "right 0.857 0.21\n"
     ]
    },
    {
     "name": "stderr",
     "output_type": "stream",
     "text": [
      "  5%|▍         | 18400/392536 [59:12<21:18:41,  4.88it/s]"
     ]
    },
    {
     "name": "stdout",
     "output_type": "stream",
     "text": [
      "face  0.944 0.158\n",
      "left  0.724 0.305\n",
      "right 0.857 0.21\n"
     ]
    },
    {
     "name": "stderr",
     "output_type": "stream",
     "text": [
      "  5%|▍         | 18499/392536 [59:30<13:32:35,  7.67it/s]"
     ]
    },
    {
     "name": "stdout",
     "output_type": "stream",
     "text": [
      "face  0.944 0.158\n",
      "left  0.724 0.305\n",
      "right 0.856 0.211\n"
     ]
    },
    {
     "name": "stderr",
     "output_type": "stream",
     "text": [
      "  5%|▍         | 18601/392536 [59:52<23:54:26,  4.34it/s]"
     ]
    },
    {
     "name": "stdout",
     "output_type": "stream",
     "text": [
      "face  0.944 0.158\n",
      "left  0.724 0.305\n",
      "right 0.856 0.21\n"
     ]
    },
    {
     "name": "stderr",
     "output_type": "stream",
     "text": [
      "  5%|▍         | 18701/392536 [1:00:10<19:21:05,  5.37it/s]"
     ]
    },
    {
     "name": "stdout",
     "output_type": "stream",
     "text": [
      "face  0.944 0.158\n",
      "left  0.724 0.305\n",
      "right 0.857 0.21\n"
     ]
    },
    {
     "name": "stderr",
     "output_type": "stream",
     "text": [
      "  5%|▍         | 18801/392536 [1:00:28<18:27:44,  5.62it/s]"
     ]
    },
    {
     "name": "stdout",
     "output_type": "stream",
     "text": [
      "face  0.944 0.158\n",
      "left  0.724 0.305\n",
      "right 0.857 0.21\n"
     ]
    },
    {
     "name": "stderr",
     "output_type": "stream",
     "text": [
      "  5%|▍         | 18901/392536 [1:00:47<17:44:42,  5.85it/s]"
     ]
    },
    {
     "name": "stdout",
     "output_type": "stream",
     "text": [
      "face  0.944 0.158\n",
      "left  0.723 0.305\n",
      "right 0.857 0.21\n"
     ]
    },
    {
     "name": "stderr",
     "output_type": "stream",
     "text": [
      "  5%|▍         | 19000/392536 [1:01:07<17:15:11,  6.01it/s]"
     ]
    },
    {
     "name": "stdout",
     "output_type": "stream",
     "text": [
      "face  0.944 0.158\n",
      "left  0.723 0.305\n",
      "right 0.857 0.21\n"
     ]
    },
    {
     "name": "stderr",
     "output_type": "stream",
     "text": [
      "  5%|▍         | 19101/392536 [1:01:28<19:22:59,  5.35it/s]"
     ]
    },
    {
     "name": "stdout",
     "output_type": "stream",
     "text": [
      "face  0.944 0.158\n",
      "left  0.723 0.305\n",
      "right 0.857 0.21\n"
     ]
    },
    {
     "name": "stderr",
     "output_type": "stream",
     "text": [
      "  5%|▍         | 19201/392536 [1:01:50<27:08:39,  3.82it/s]"
     ]
    },
    {
     "name": "stdout",
     "output_type": "stream",
     "text": [
      "face  0.944 0.158\n",
      "left  0.723 0.305\n",
      "right 0.857 0.21\n"
     ]
    },
    {
     "name": "stderr",
     "output_type": "stream",
     "text": [
      "  5%|▍         | 19301/392536 [1:02:10<14:52:24,  6.97it/s]"
     ]
    },
    {
     "name": "stdout",
     "output_type": "stream",
     "text": [
      "face  0.945 0.158\n",
      "left  0.723 0.305\n",
      "right 0.857 0.209\n"
     ]
    },
    {
     "name": "stderr",
     "output_type": "stream",
     "text": [
      "  5%|▍         | 19400/392536 [1:02:28<15:51:24,  6.54it/s]"
     ]
    },
    {
     "name": "stdout",
     "output_type": "stream",
     "text": [
      "face  0.944 0.158\n",
      "left  0.723 0.305\n",
      "right 0.857 0.209\n"
     ]
    },
    {
     "name": "stderr",
     "output_type": "stream",
     "text": [
      "  5%|▍         | 19500/392536 [1:02:48<24:29:00,  4.23it/s]"
     ]
    },
    {
     "name": "stdout",
     "output_type": "stream",
     "text": [
      "face  0.945 0.157\n",
      "left  0.723 0.305\n",
      "right 0.857 0.209\n"
     ]
    },
    {
     "name": "stderr",
     "output_type": "stream",
     "text": [
      "  5%|▍         | 19601/392536 [1:03:09<21:47:45,  4.75it/s]"
     ]
    },
    {
     "name": "stdout",
     "output_type": "stream",
     "text": [
      "face  0.945 0.157\n",
      "left  0.723 0.305\n",
      "right 0.857 0.209\n"
     ]
    },
    {
     "name": "stderr",
     "output_type": "stream",
     "text": [
      "  5%|▌         | 19701/392536 [1:03:30<20:31:38,  5.05it/s]"
     ]
    },
    {
     "name": "stdout",
     "output_type": "stream",
     "text": [
      "face  0.945 0.157\n",
      "left  0.723 0.305\n",
      "right 0.857 0.209\n"
     ]
    },
    {
     "name": "stderr",
     "output_type": "stream",
     "text": [
      "  5%|▌         | 19800/392536 [1:03:49<20:46:32,  4.98it/s]"
     ]
    },
    {
     "name": "stdout",
     "output_type": "stream",
     "text": [
      "face  0.945 0.157\n",
      "left  0.723 0.305\n",
      "right 0.857 0.209\n"
     ]
    },
    {
     "name": "stderr",
     "output_type": "stream",
     "text": [
      "  5%|▌         | 19901/392536 [1:04:07<16:38:13,  6.22it/s]"
     ]
    },
    {
     "name": "stdout",
     "output_type": "stream",
     "text": [
      "face  0.945 0.157\n",
      "left  0.723 0.305\n",
      "right 0.857 0.209\n"
     ]
    },
    {
     "name": "stderr",
     "output_type": "stream",
     "text": [
      "  5%|▌         | 20001/392536 [1:04:28<22:52:26,  4.52it/s]"
     ]
    },
    {
     "name": "stdout",
     "output_type": "stream",
     "text": [
      "face  0.945 0.157\n",
      "left  0.723 0.305\n",
      "right 0.857 0.209\n"
     ]
    },
    {
     "name": "stderr",
     "output_type": "stream",
     "text": [
      "  5%|▌         | 20100/392536 [1:04:46<17:47:30,  5.81it/s]"
     ]
    },
    {
     "name": "stdout",
     "output_type": "stream",
     "text": [
      "face  0.945 0.157\n",
      "left  0.722 0.305\n",
      "right 0.857 0.209\n"
     ]
    },
    {
     "name": "stderr",
     "output_type": "stream",
     "text": [
      "  5%|▌         | 20199/392536 [1:05:07<24:43:13,  4.18it/s]"
     ]
    },
    {
     "name": "stdout",
     "output_type": "stream",
     "text": [
      "face  0.945 0.157\n",
      "left  0.722 0.305\n",
      "right 0.857 0.209\n"
     ]
    },
    {
     "name": "stderr",
     "output_type": "stream",
     "text": [
      "  5%|▌         | 20300/392536 [1:05:29<20:56:19,  4.94it/s]"
     ]
    },
    {
     "name": "stdout",
     "output_type": "stream",
     "text": [
      "face  0.945 0.157\n",
      "left  0.722 0.305\n",
      "right 0.857 0.209\n"
     ]
    },
    {
     "name": "stderr",
     "output_type": "stream",
     "text": [
      "  5%|▌         | 20399/392536 [1:05:49<22:15:15,  4.65it/s]"
     ]
    },
    {
     "name": "stdout",
     "output_type": "stream",
     "text": [
      "face  0.945 0.157\n",
      "left  0.722 0.305\n",
      "right 0.857 0.209\n"
     ]
    },
    {
     "name": "stderr",
     "output_type": "stream",
     "text": [
      "  5%|▌         | 20501/392536 [1:06:05<15:12:56,  6.79it/s]"
     ]
    },
    {
     "name": "stdout",
     "output_type": "stream",
     "text": [
      "face  0.945 0.157\n",
      "left  0.722 0.305\n",
      "right 0.857 0.209\n"
     ]
    },
    {
     "name": "stderr",
     "output_type": "stream",
     "text": [
      "  5%|▌         | 20600/392536 [1:06:24<14:07:33,  7.31it/s]"
     ]
    },
    {
     "name": "stdout",
     "output_type": "stream",
     "text": [
      "face  0.945 0.157\n",
      "left  0.722 0.305\n",
      "right 0.857 0.209\n"
     ]
    },
    {
     "name": "stderr",
     "output_type": "stream",
     "text": [
      "  5%|▌         | 20700/392536 [1:06:42<16:01:58,  6.44it/s]"
     ]
    },
    {
     "name": "stdout",
     "output_type": "stream",
     "text": [
      "face  0.945 0.157\n",
      "left  0.722 0.305\n",
      "right 0.857 0.209\n"
     ]
    },
    {
     "name": "stderr",
     "output_type": "stream",
     "text": [
      "  5%|▌         | 20800/392536 [1:07:01<14:30:58,  7.11it/s]"
     ]
    },
    {
     "name": "stdout",
     "output_type": "stream",
     "text": [
      "face  0.945 0.157\n",
      "left  0.722 0.305\n",
      "right 0.857 0.209\n"
     ]
    },
    {
     "name": "stderr",
     "output_type": "stream",
     "text": [
      "  5%|▌         | 20900/392536 [1:07:19<29:18:05,  3.52it/s]"
     ]
    },
    {
     "name": "stdout",
     "output_type": "stream",
     "text": [
      "face  0.945 0.157\n",
      "left  0.723 0.305\n",
      "right 0.857 0.208\n"
     ]
    },
    {
     "name": "stderr",
     "output_type": "stream",
     "text": [
      "  5%|▌         | 21001/392536 [1:07:41<17:48:43,  5.79it/s]"
     ]
    },
    {
     "name": "stdout",
     "output_type": "stream",
     "text": [
      "face  0.945 0.157\n",
      "left  0.723 0.305\n",
      "right 0.857 0.208\n"
     ]
    },
    {
     "name": "stderr",
     "output_type": "stream",
     "text": [
      "  5%|▌         | 21101/392536 [1:08:00<16:10:03,  6.38it/s]"
     ]
    },
    {
     "name": "stdout",
     "output_type": "stream",
     "text": [
      "face  0.945 0.157\n",
      "left  0.723 0.305\n",
      "right 0.857 0.208\n"
     ]
    },
    {
     "name": "stderr",
     "output_type": "stream",
     "text": [
      "  5%|▌         | 21201/392536 [1:08:19<16:14:45,  6.35it/s]"
     ]
    },
    {
     "name": "stdout",
     "output_type": "stream",
     "text": [
      "face  0.945 0.157\n",
      "left  0.723 0.305\n",
      "right 0.857 0.208\n"
     ]
    },
    {
     "name": "stderr",
     "output_type": "stream",
     "text": [
      "  5%|▌         | 21301/392536 [1:08:37<20:01:22,  5.15it/s]"
     ]
    },
    {
     "name": "stdout",
     "output_type": "stream",
     "text": [
      "face  0.945 0.157\n",
      "left  0.723 0.305\n",
      "right 0.857 0.208\n"
     ]
    },
    {
     "name": "stderr",
     "output_type": "stream",
     "text": [
      "  5%|▌         | 21400/392536 [1:08:57<20:51:44,  4.94it/s]"
     ]
    },
    {
     "name": "stdout",
     "output_type": "stream",
     "text": [
      "face  0.945 0.157\n",
      "left  0.722 0.305\n",
      "right 0.857 0.208\n"
     ]
    },
    {
     "name": "stderr",
     "output_type": "stream",
     "text": [
      "  5%|▌         | 21501/392536 [1:09:16<15:03:46,  6.84it/s]"
     ]
    },
    {
     "name": "stdout",
     "output_type": "stream",
     "text": [
      "face  0.945 0.157\n",
      "left  0.722 0.305\n",
      "right 0.857 0.208\n"
     ]
    },
    {
     "name": "stderr",
     "output_type": "stream",
     "text": [
      "  6%|▌         | 21601/392536 [1:09:38<15:39:55,  6.58it/s]"
     ]
    },
    {
     "name": "stdout",
     "output_type": "stream",
     "text": [
      "face  0.945 0.157\n",
      "left  0.722 0.305\n",
      "right 0.857 0.208\n"
     ]
    },
    {
     "name": "stderr",
     "output_type": "stream",
     "text": [
      "  6%|▌         | 21702/392536 [1:09:59<18:11:20,  5.66it/s]"
     ]
    },
    {
     "name": "stdout",
     "output_type": "stream",
     "text": [
      "face  0.945 0.157\n",
      "left  0.722 0.305\n",
      "right 0.857 0.208\n"
     ]
    },
    {
     "name": "stderr",
     "output_type": "stream",
     "text": [
      "  6%|▌         | 21800/392536 [1:10:18<17:36:13,  5.85it/s]"
     ]
    },
    {
     "name": "stdout",
     "output_type": "stream",
     "text": [
      "face  0.945 0.157\n",
      "left  0.722 0.305\n",
      "right 0.857 0.208\n"
     ]
    },
    {
     "name": "stderr",
     "output_type": "stream",
     "text": [
      "  6%|▌         | 21899/392536 [1:10:39<19:55:51,  5.17it/s]"
     ]
    },
    {
     "name": "stdout",
     "output_type": "stream",
     "text": [
      "face  0.945 0.157\n",
      "left  0.722 0.305\n",
      "right 0.857 0.208\n"
     ]
    },
    {
     "name": "stderr",
     "output_type": "stream",
     "text": [
      "  6%|▌         | 22002/392536 [1:11:00<18:26:35,  5.58it/s]"
     ]
    },
    {
     "name": "stdout",
     "output_type": "stream",
     "text": [
      "face  0.945 0.157\n",
      "left  0.722 0.305\n",
      "right 0.857 0.208\n"
     ]
    },
    {
     "name": "stderr",
     "output_type": "stream",
     "text": [
      "  6%|▌         | 22100/392536 [1:11:20<18:43:32,  5.50it/s]"
     ]
    },
    {
     "name": "stdout",
     "output_type": "stream",
     "text": [
      "face  0.945 0.157\n",
      "left  0.722 0.305\n",
      "right 0.857 0.208\n"
     ]
    },
    {
     "name": "stderr",
     "output_type": "stream",
     "text": [
      "  6%|▌         | 22201/392536 [1:11:41<19:38:50,  5.24it/s]"
     ]
    },
    {
     "name": "stdout",
     "output_type": "stream",
     "text": [
      "face  0.945 0.157\n",
      "left  0.722 0.305\n",
      "right 0.857 0.208\n"
     ]
    },
    {
     "name": "stderr",
     "output_type": "stream",
     "text": [
      "  6%|▌         | 22300/392536 [1:12:00<27:06:02,  3.79it/s]"
     ]
    },
    {
     "name": "stdout",
     "output_type": "stream",
     "text": [
      "face  0.945 0.157\n",
      "left  0.722 0.305\n",
      "right 0.857 0.209\n"
     ]
    },
    {
     "name": "stderr",
     "output_type": "stream",
     "text": [
      "  6%|▌         | 22400/392536 [1:12:19<27:17:51,  3.77it/s]"
     ]
    },
    {
     "name": "stdout",
     "output_type": "stream",
     "text": [
      "face  0.945 0.157\n",
      "left  0.722 0.305\n",
      "right 0.857 0.209\n"
     ]
    },
    {
     "name": "stderr",
     "output_type": "stream",
     "text": [
      "  6%|▌         | 22501/392536 [1:12:39<15:11:05,  6.77it/s]"
     ]
    },
    {
     "name": "stdout",
     "output_type": "stream",
     "text": [
      "face  0.945 0.157\n",
      "left  0.722 0.305\n",
      "right 0.857 0.208\n"
     ]
    },
    {
     "name": "stderr",
     "output_type": "stream",
     "text": [
      "  6%|▌         | 22601/392536 [1:12:58<28:13:02,  3.64it/s]"
     ]
    },
    {
     "name": "stdout",
     "output_type": "stream",
     "text": [
      "face  0.945 0.157\n",
      "left  0.722 0.305\n",
      "right 0.857 0.208\n"
     ]
    },
    {
     "name": "stderr",
     "output_type": "stream",
     "text": [
      "  6%|▌         | 22700/392536 [1:13:16<16:48:48,  6.11it/s]"
     ]
    },
    {
     "name": "stdout",
     "output_type": "stream",
     "text": [
      "face  0.945 0.157\n",
      "left  0.723 0.305\n",
      "right 0.857 0.208\n"
     ]
    },
    {
     "name": "stderr",
     "output_type": "stream",
     "text": [
      "  6%|▌         | 22801/392536 [1:13:34<13:05:57,  7.84it/s]"
     ]
    },
    {
     "name": "stdout",
     "output_type": "stream",
     "text": [
      "face  0.945 0.157\n",
      "left  0.722 0.305\n",
      "right 0.857 0.208\n"
     ]
    },
    {
     "name": "stderr",
     "output_type": "stream",
     "text": [
      "  6%|▌         | 22901/392536 [1:13:55<29:16:33,  3.51it/s]"
     ]
    },
    {
     "name": "stdout",
     "output_type": "stream",
     "text": [
      "face  0.945 0.157\n",
      "left  0.723 0.305\n",
      "right 0.857 0.208\n"
     ]
    },
    {
     "name": "stderr",
     "output_type": "stream",
     "text": [
      "  6%|▌         | 23000/392536 [1:14:14<26:22:37,  3.89it/s]"
     ]
    },
    {
     "name": "stdout",
     "output_type": "stream",
     "text": [
      "face  0.945 0.157\n",
      "left  0.723 0.304\n",
      "right 0.857 0.208\n"
     ]
    },
    {
     "name": "stderr",
     "output_type": "stream",
     "text": [
      "  6%|▌         | 23100/392536 [1:14:37<21:18:50,  4.81it/s]"
     ]
    },
    {
     "name": "stdout",
     "output_type": "stream",
     "text": [
      "face  0.945 0.157\n",
      "left  0.723 0.305\n",
      "right 0.857 0.208\n"
     ]
    },
    {
     "name": "stderr",
     "output_type": "stream",
     "text": [
      "  6%|▌         | 23200/392536 [1:14:56<16:42:49,  6.14it/s]"
     ]
    },
    {
     "name": "stdout",
     "output_type": "stream",
     "text": [
      "face  0.945 0.157\n",
      "left  0.723 0.305\n",
      "right 0.857 0.208\n"
     ]
    },
    {
     "name": "stderr",
     "output_type": "stream",
     "text": [
      "  6%|▌         | 23301/392536 [1:15:16<13:13:36,  7.75it/s]"
     ]
    },
    {
     "name": "stdout",
     "output_type": "stream",
     "text": [
      "face  0.945 0.157\n",
      "left  0.723 0.305\n",
      "right 0.857 0.208\n"
     ]
    },
    {
     "name": "stderr",
     "output_type": "stream",
     "text": [
      "  6%|▌         | 23401/392536 [1:15:36<20:27:53,  5.01it/s]"
     ]
    },
    {
     "name": "stdout",
     "output_type": "stream",
     "text": [
      "face  0.945 0.157\n",
      "left  0.723 0.305\n",
      "right 0.857 0.209\n"
     ]
    },
    {
     "name": "stderr",
     "output_type": "stream",
     "text": [
      "  6%|▌         | 23501/392536 [1:15:57<15:23:04,  6.66it/s]"
     ]
    },
    {
     "name": "stdout",
     "output_type": "stream",
     "text": [
      "face  0.945 0.157\n",
      "left  0.723 0.305\n",
      "right 0.857 0.209\n"
     ]
    },
    {
     "name": "stderr",
     "output_type": "stream",
     "text": [
      "  6%|▌         | 23600/392536 [1:16:16<14:22:16,  7.13it/s]"
     ]
    },
    {
     "name": "stdout",
     "output_type": "stream",
     "text": [
      "face  0.945 0.157\n",
      "left  0.723 0.305\n",
      "right 0.857 0.209\n"
     ]
    },
    {
     "name": "stderr",
     "output_type": "stream",
     "text": [
      "  6%|▌         | 23700/392536 [1:16:34<18:05:04,  5.67it/s]"
     ]
    },
    {
     "name": "stdout",
     "output_type": "stream",
     "text": [
      "face  0.945 0.157\n",
      "left  0.722 0.305\n",
      "right 0.857 0.209\n"
     ]
    },
    {
     "name": "stderr",
     "output_type": "stream",
     "text": [
      "  6%|▌         | 23800/392536 [1:16:53<15:07:08,  6.77it/s]"
     ]
    },
    {
     "name": "stdout",
     "output_type": "stream",
     "text": [
      "face  0.945 0.157\n",
      "left  0.723 0.305\n",
      "right 0.857 0.209\n"
     ]
    },
    {
     "name": "stderr",
     "output_type": "stream",
     "text": [
      "  6%|▌         | 23901/392536 [1:17:12<17:12:05,  5.95it/s]"
     ]
    },
    {
     "name": "stdout",
     "output_type": "stream",
     "text": [
      "face  0.945 0.157\n",
      "left  0.723 0.305\n",
      "right 0.857 0.208\n"
     ]
    },
    {
     "name": "stderr",
     "output_type": "stream",
     "text": [
      "  6%|▌         | 24000/392536 [1:17:30<17:39:10,  5.80it/s]"
     ]
    },
    {
     "name": "stdout",
     "output_type": "stream",
     "text": [
      "face  0.945 0.156\n",
      "left  0.723 0.305\n",
      "right 0.857 0.208\n"
     ]
    },
    {
     "name": "stderr",
     "output_type": "stream",
     "text": [
      "  6%|▌         | 24101/392536 [1:17:49<23:02:23,  4.44it/s]"
     ]
    },
    {
     "name": "stdout",
     "output_type": "stream",
     "text": [
      "face  0.945 0.157\n",
      "left  0.723 0.305\n",
      "right 0.857 0.209\n"
     ]
    },
    {
     "name": "stderr",
     "output_type": "stream",
     "text": [
      "  6%|▌         | 24201/392536 [1:18:09<17:07:00,  5.98it/s]"
     ]
    },
    {
     "name": "stdout",
     "output_type": "stream",
     "text": [
      "face  0.945 0.157\n",
      "left  0.723 0.305\n",
      "right 0.857 0.208\n"
     ]
    },
    {
     "name": "stderr",
     "output_type": "stream",
     "text": [
      "  6%|▌         | 24302/392536 [1:18:28<15:22:27,  6.65it/s]"
     ]
    },
    {
     "name": "stdout",
     "output_type": "stream",
     "text": [
      "face  0.945 0.157\n",
      "left  0.723 0.305\n",
      "right 0.857 0.209\n"
     ]
    },
    {
     "name": "stderr",
     "output_type": "stream",
     "text": [
      "  6%|▌         | 24400/392536 [1:18:49<15:37:12,  6.55it/s]"
     ]
    },
    {
     "name": "stdout",
     "output_type": "stream",
     "text": [
      "face  0.945 0.157\n",
      "left  0.723 0.305\n",
      "right 0.857 0.208\n"
     ]
    },
    {
     "name": "stderr",
     "output_type": "stream",
     "text": [
      "  6%|▌         | 24500/392536 [1:19:07<19:54:47,  5.13it/s]"
     ]
    },
    {
     "name": "stdout",
     "output_type": "stream",
     "text": [
      "face  0.945 0.157\n",
      "left  0.723 0.305\n",
      "right 0.857 0.208\n"
     ]
    },
    {
     "name": "stderr",
     "output_type": "stream",
     "text": [
      "  6%|▋         | 24599/392536 [1:19:26<16:09:25,  6.33it/s]"
     ]
    },
    {
     "name": "stdout",
     "output_type": "stream",
     "text": [
      "face  0.945 0.157\n",
      "left  0.723 0.305\n",
      "right 0.857 0.208\n"
     ]
    },
    {
     "name": "stderr",
     "output_type": "stream",
     "text": [
      "  6%|▋         | 24700/392536 [1:19:47<21:39:16,  4.72it/s]"
     ]
    },
    {
     "name": "stdout",
     "output_type": "stream",
     "text": [
      "face  0.945 0.156\n",
      "left  0.723 0.305\n",
      "right 0.858 0.208\n"
     ]
    },
    {
     "name": "stderr",
     "output_type": "stream",
     "text": [
      "  6%|▋         | 24799/392536 [1:20:07<25:07:56,  4.06it/s]"
     ]
    },
    {
     "name": "stdout",
     "output_type": "stream",
     "text": [
      "face  0.945 0.157\n",
      "left  0.723 0.305\n",
      "right 0.858 0.208\n"
     ]
    },
    {
     "name": "stderr",
     "output_type": "stream",
     "text": [
      "  6%|▋         | 24900/392536 [1:20:25<19:55:26,  5.13it/s]"
     ]
    },
    {
     "name": "stdout",
     "output_type": "stream",
     "text": [
      "face  0.945 0.157\n",
      "left  0.723 0.305\n",
      "right 0.858 0.208\n"
     ]
    },
    {
     "name": "stderr",
     "output_type": "stream",
     "text": [
      "  6%|▋         | 25000/392536 [1:20:46<25:59:09,  3.93it/s]"
     ]
    },
    {
     "name": "stdout",
     "output_type": "stream",
     "text": [
      "face  0.945 0.157\n",
      "left  0.723 0.305\n",
      "right 0.857 0.208\n"
     ]
    },
    {
     "name": "stderr",
     "output_type": "stream",
     "text": [
      "  6%|▋         | 25101/392536 [1:21:08<18:41:17,  5.46it/s]"
     ]
    },
    {
     "name": "stdout",
     "output_type": "stream",
     "text": [
      "face  0.945 0.157\n",
      "left  0.723 0.304\n",
      "right 0.857 0.208\n"
     ]
    },
    {
     "name": "stderr",
     "output_type": "stream",
     "text": [
      "  6%|▋         | 25201/392536 [1:21:26<18:44:07,  5.45it/s]"
     ]
    },
    {
     "name": "stdout",
     "output_type": "stream",
     "text": [
      "face  0.945 0.157\n",
      "left  0.723 0.304\n",
      "right 0.857 0.209\n"
     ]
    },
    {
     "name": "stderr",
     "output_type": "stream",
     "text": [
      "  6%|▋         | 25301/392536 [1:21:47<16:31:40,  6.17it/s]"
     ]
    },
    {
     "name": "stdout",
     "output_type": "stream",
     "text": [
      "face  0.945 0.157\n",
      "left  0.723 0.304\n",
      "right 0.857 0.209\n"
     ]
    },
    {
     "name": "stderr",
     "output_type": "stream",
     "text": [
      "  6%|▋         | 25401/392536 [1:22:05<20:30:25,  4.97it/s]"
     ]
    },
    {
     "name": "stdout",
     "output_type": "stream",
     "text": [
      "face  0.945 0.157\n",
      "left  0.723 0.305\n",
      "right 0.857 0.209\n"
     ]
    },
    {
     "name": "stderr",
     "output_type": "stream",
     "text": [
      "  6%|▋         | 25501/392536 [1:22:25<17:49:37,  5.72it/s]"
     ]
    },
    {
     "name": "stdout",
     "output_type": "stream",
     "text": [
      "face  0.945 0.157\n",
      "left  0.723 0.305\n",
      "right 0.857 0.209\n"
     ]
    },
    {
     "name": "stderr",
     "output_type": "stream",
     "text": [
      "  7%|▋         | 25600/392536 [1:22:45<32:10:59,  3.17it/s]"
     ]
    },
    {
     "name": "stdout",
     "output_type": "stream",
     "text": [
      "face  0.945 0.157\n",
      "left  0.723 0.304\n",
      "right 0.857 0.209\n"
     ]
    },
    {
     "name": "stderr",
     "output_type": "stream",
     "text": [
      "  7%|▋         | 25701/392536 [1:23:06<13:11:55,  7.72it/s]"
     ]
    },
    {
     "name": "stdout",
     "output_type": "stream",
     "text": [
      "face  0.945 0.157\n",
      "left  0.723 0.304\n",
      "right 0.857 0.209\n"
     ]
    },
    {
     "name": "stderr",
     "output_type": "stream",
     "text": [
      "  7%|▋         | 25801/392536 [1:23:25<20:55:55,  4.87it/s]"
     ]
    },
    {
     "name": "stdout",
     "output_type": "stream",
     "text": [
      "face  0.945 0.157\n",
      "left  0.723 0.304\n",
      "right 0.857 0.209\n"
     ]
    },
    {
     "name": "stderr",
     "output_type": "stream",
     "text": [
      "  7%|▋         | 25901/392536 [1:23:45<19:46:57,  5.15it/s]"
     ]
    },
    {
     "name": "stdout",
     "output_type": "stream",
     "text": [
      "face  0.945 0.156\n",
      "left  0.723 0.304\n",
      "right 0.857 0.209\n"
     ]
    },
    {
     "name": "stderr",
     "output_type": "stream",
     "text": [
      "  7%|▋         | 26002/392536 [1:24:03<12:54:05,  7.89it/s]"
     ]
    },
    {
     "name": "stdout",
     "output_type": "stream",
     "text": [
      "face  0.945 0.157\n",
      "left  0.723 0.304\n",
      "right 0.857 0.209\n"
     ]
    },
    {
     "name": "stderr",
     "output_type": "stream",
     "text": [
      "  7%|▋         | 26101/392536 [1:24:21<16:32:22,  6.15it/s]"
     ]
    },
    {
     "name": "stdout",
     "output_type": "stream",
     "text": [
      "face  0.945 0.157\n",
      "left  0.723 0.304\n",
      "right 0.857 0.209\n"
     ]
    },
    {
     "name": "stderr",
     "output_type": "stream",
     "text": [
      "  7%|▋         | 26200/392536 [1:24:41<15:23:01,  6.61it/s]"
     ]
    },
    {
     "name": "stdout",
     "output_type": "stream",
     "text": [
      "face  0.945 0.156\n",
      "left  0.723 0.304\n",
      "right 0.857 0.209\n"
     ]
    },
    {
     "name": "stderr",
     "output_type": "stream",
     "text": [
      "  7%|▋         | 26300/392536 [1:25:00<25:25:43,  4.00it/s]"
     ]
    },
    {
     "name": "stdout",
     "output_type": "stream",
     "text": [
      "face  0.945 0.157\n",
      "left  0.723 0.304\n",
      "right 0.857 0.209\n"
     ]
    },
    {
     "name": "stderr",
     "output_type": "stream",
     "text": [
      "  7%|▋         | 26400/392536 [1:25:18<16:42:28,  6.09it/s]"
     ]
    },
    {
     "name": "stdout",
     "output_type": "stream",
     "text": [
      "face  0.945 0.157\n",
      "left  0.723 0.304\n",
      "right 0.857 0.209\n"
     ]
    },
    {
     "name": "stderr",
     "output_type": "stream",
     "text": [
      "  7%|▋         | 26501/392536 [1:25:39<17:01:56,  5.97it/s]"
     ]
    },
    {
     "name": "stdout",
     "output_type": "stream",
     "text": [
      "face  0.945 0.157\n",
      "left  0.723 0.304\n",
      "right 0.857 0.209\n"
     ]
    },
    {
     "name": "stderr",
     "output_type": "stream",
     "text": [
      "  7%|▋         | 26601/392536 [1:25:57<18:07:50,  5.61it/s]"
     ]
    },
    {
     "name": "stdout",
     "output_type": "stream",
     "text": [
      "face  0.945 0.157\n",
      "left  0.723 0.304\n",
      "right 0.857 0.209\n"
     ]
    },
    {
     "name": "stderr",
     "output_type": "stream",
     "text": [
      "  7%|▋         | 26700/392536 [1:26:15<21:27:30,  4.74it/s]"
     ]
    },
    {
     "name": "stdout",
     "output_type": "stream",
     "text": [
      "face  0.945 0.157\n",
      "left  0.723 0.304\n",
      "right 0.857 0.209\n"
     ]
    },
    {
     "name": "stderr",
     "output_type": "stream",
     "text": [
      "  7%|▋         | 26800/392536 [1:26:37<17:50:28,  5.69it/s]"
     ]
    },
    {
     "name": "stdout",
     "output_type": "stream",
     "text": [
      "face  0.945 0.157\n",
      "left  0.723 0.304\n",
      "right 0.857 0.209\n"
     ]
    },
    {
     "name": "stderr",
     "output_type": "stream",
     "text": [
      "  7%|▋         | 26901/392536 [1:26:57<17:14:18,  5.89it/s]"
     ]
    },
    {
     "name": "stdout",
     "output_type": "stream",
     "text": [
      "face  0.945 0.157\n",
      "left  0.723 0.304\n",
      "right 0.857 0.209\n"
     ]
    },
    {
     "name": "stderr",
     "output_type": "stream",
     "text": [
      "  7%|▋         | 27001/392536 [1:27:17<28:44:20,  3.53it/s]"
     ]
    },
    {
     "name": "stdout",
     "output_type": "stream",
     "text": [
      "face  0.945 0.157\n",
      "left  0.723 0.304\n",
      "right 0.857 0.209\n"
     ]
    },
    {
     "name": "stderr",
     "output_type": "stream",
     "text": [
      "  7%|▋         | 27101/392536 [1:27:38<19:30:39,  5.20it/s]"
     ]
    },
    {
     "name": "stdout",
     "output_type": "stream",
     "text": [
      "face  0.945 0.157\n",
      "left  0.723 0.304\n",
      "right 0.857 0.209\n"
     ]
    },
    {
     "name": "stderr",
     "output_type": "stream",
     "text": [
      "  7%|▋         | 27201/392536 [1:27:57<13:00:07,  7.81it/s]"
     ]
    },
    {
     "name": "stdout",
     "output_type": "stream",
     "text": [
      "face  0.945 0.157\n",
      "left  0.723 0.304\n",
      "right 0.857 0.209\n"
     ]
    },
    {
     "name": "stderr",
     "output_type": "stream",
     "text": [
      "  7%|▋         | 27300/392536 [1:28:15<21:42:45,  4.67it/s]"
     ]
    },
    {
     "name": "stdout",
     "output_type": "stream",
     "text": [
      "face  0.945 0.157\n",
      "left  0.723 0.304\n",
      "right 0.857 0.209\n"
     ]
    },
    {
     "name": "stderr",
     "output_type": "stream",
     "text": [
      "  7%|▋         | 27400/392536 [1:28:37<21:16:25,  4.77it/s]"
     ]
    },
    {
     "name": "stdout",
     "output_type": "stream",
     "text": [
      "face  0.945 0.157\n",
      "left  0.723 0.304\n",
      "right 0.857 0.209\n"
     ]
    },
    {
     "name": "stderr",
     "output_type": "stream",
     "text": [
      "  7%|▋         | 27499/392536 [1:28:58<17:07:42,  5.92it/s]"
     ]
    },
    {
     "name": "stdout",
     "output_type": "stream",
     "text": [
      "face  0.944 0.158\n",
      "left  0.723 0.304\n",
      "right 0.857 0.209\n"
     ]
    },
    {
     "name": "stderr",
     "output_type": "stream",
     "text": [
      "  7%|▋         | 27600/392536 [1:29:20<18:54:57,  5.36it/s]"
     ]
    },
    {
     "name": "stdout",
     "output_type": "stream",
     "text": [
      "face  0.944 0.158\n",
      "left  0.723 0.304\n",
      "right 0.857 0.209\n"
     ]
    },
    {
     "name": "stderr",
     "output_type": "stream",
     "text": [
      "  7%|▋         | 27700/392536 [1:29:41<20:41:33,  4.90it/s]"
     ]
    },
    {
     "name": "stdout",
     "output_type": "stream",
     "text": [
      "face  0.944 0.158\n",
      "left  0.723 0.304\n",
      "right 0.857 0.209\n"
     ]
    },
    {
     "name": "stderr",
     "output_type": "stream",
     "text": [
      "  7%|▋         | 27801/392536 [1:30:02<16:50:56,  6.01it/s]"
     ]
    },
    {
     "name": "stdout",
     "output_type": "stream",
     "text": [
      "face  0.944 0.158\n",
      "left  0.723 0.304\n",
      "right 0.857 0.209\n"
     ]
    },
    {
     "name": "stderr",
     "output_type": "stream",
     "text": [
      "  7%|▋         | 27900/392536 [1:30:23<21:19:17,  4.75it/s]"
     ]
    },
    {
     "name": "stdout",
     "output_type": "stream",
     "text": [
      "face  0.944 0.158\n",
      "left  0.723 0.304\n",
      "right 0.857 0.209\n"
     ]
    },
    {
     "name": "stderr",
     "output_type": "stream",
     "text": [
      "  7%|▋         | 28001/392536 [1:30:41<18:26:22,  5.49it/s]"
     ]
    },
    {
     "name": "stdout",
     "output_type": "stream",
     "text": [
      "face  0.944 0.158\n",
      "left  0.723 0.304\n",
      "right 0.857 0.209\n"
     ]
    },
    {
     "name": "stderr",
     "output_type": "stream",
     "text": [
      "  7%|▋         | 28100/392536 [1:31:00<16:41:32,  6.06it/s]"
     ]
    },
    {
     "name": "stdout",
     "output_type": "stream",
     "text": [
      "face  0.944 0.158\n",
      "left  0.722 0.304\n",
      "right 0.857 0.209\n"
     ]
    },
    {
     "name": "stderr",
     "output_type": "stream",
     "text": [
      "  7%|▋         | 28201/392536 [1:31:20<24:51:08,  4.07it/s]"
     ]
    },
    {
     "name": "stdout",
     "output_type": "stream",
     "text": [
      "face  0.944 0.158\n",
      "left  0.722 0.304\n",
      "right 0.857 0.209\n"
     ]
    },
    {
     "name": "stderr",
     "output_type": "stream",
     "text": [
      "  7%|▋         | 28302/392536 [1:31:40<15:56:58,  6.34it/s]"
     ]
    },
    {
     "name": "stdout",
     "output_type": "stream",
     "text": [
      "face  0.944 0.158\n",
      "left  0.722 0.304\n",
      "right 0.857 0.209\n"
     ]
    },
    {
     "name": "stderr",
     "output_type": "stream",
     "text": [
      "  7%|▋         | 28400/392536 [1:32:00<22:56:11,  4.41it/s]"
     ]
    },
    {
     "name": "stdout",
     "output_type": "stream",
     "text": [
      "face  0.944 0.158\n",
      "left  0.722 0.305\n",
      "right 0.857 0.209\n"
     ]
    },
    {
     "name": "stderr",
     "output_type": "stream",
     "text": [
      "  7%|▋         | 28502/392536 [1:32:21<16:02:48,  6.30it/s]"
     ]
    },
    {
     "name": "stdout",
     "output_type": "stream",
     "text": [
      "face  0.944 0.158\n",
      "left  0.722 0.304\n",
      "right 0.857 0.209\n"
     ]
    },
    {
     "name": "stderr",
     "output_type": "stream",
     "text": [
      "  7%|▋         | 28601/392536 [1:32:40<16:53:02,  5.99it/s]"
     ]
    },
    {
     "name": "stdout",
     "output_type": "stream",
     "text": [
      "face  0.944 0.158\n",
      "left  0.722 0.305\n",
      "right 0.857 0.209\n"
     ]
    },
    {
     "name": "stderr",
     "output_type": "stream",
     "text": [
      "  7%|▋         | 28700/392536 [1:33:02<25:44:59,  3.92it/s]"
     ]
    },
    {
     "name": "stdout",
     "output_type": "stream",
     "text": [
      "face  0.944 0.158\n",
      "left  0.722 0.305\n",
      "right 0.857 0.209\n"
     ]
    },
    {
     "name": "stderr",
     "output_type": "stream",
     "text": [
      "  7%|▋         | 28800/392536 [1:33:22<16:35:54,  6.09it/s]"
     ]
    },
    {
     "name": "stdout",
     "output_type": "stream",
     "text": [
      "face  0.944 0.158\n",
      "left  0.722 0.305\n",
      "right 0.857 0.209\n"
     ]
    },
    {
     "name": "stderr",
     "output_type": "stream",
     "text": [
      "  7%|▋         | 28901/392536 [1:33:42<16:29:55,  6.12it/s]"
     ]
    },
    {
     "name": "stdout",
     "output_type": "stream",
     "text": [
      "face  0.944 0.158\n",
      "left  0.722 0.305\n",
      "right 0.857 0.209\n"
     ]
    },
    {
     "name": "stderr",
     "output_type": "stream",
     "text": [
      "  7%|▋         | 29001/392536 [1:34:02<16:22:35,  6.17it/s]"
     ]
    },
    {
     "name": "stdout",
     "output_type": "stream",
     "text": [
      "face  0.944 0.158\n",
      "left  0.722 0.305\n",
      "right 0.857 0.209\n"
     ]
    },
    {
     "name": "stderr",
     "output_type": "stream",
     "text": [
      "  7%|▋         | 29100/392536 [1:34:21<23:02:31,  4.38it/s]"
     ]
    },
    {
     "name": "stdout",
     "output_type": "stream",
     "text": [
      "face  0.944 0.158\n",
      "left  0.722 0.305\n",
      "right 0.857 0.209\n"
     ]
    },
    {
     "name": "stderr",
     "output_type": "stream",
     "text": [
      "  7%|▋         | 29201/392536 [1:34:39<27:51:23,  3.62it/s]"
     ]
    },
    {
     "name": "stdout",
     "output_type": "stream",
     "text": [
      "face  0.944 0.158\n",
      "left  0.722 0.305\n",
      "right 0.857 0.208\n"
     ]
    },
    {
     "name": "stderr",
     "output_type": "stream",
     "text": [
      "  7%|▋         | 29301/392536 [1:35:00<16:05:52,  6.27it/s]"
     ]
    },
    {
     "name": "stdout",
     "output_type": "stream",
     "text": [
      "face  0.944 0.158\n",
      "left  0.722 0.304\n",
      "right 0.857 0.209\n"
     ]
    },
    {
     "name": "stderr",
     "output_type": "stream",
     "text": [
      "  7%|▋         | 29400/392536 [1:35:18<27:19:06,  3.69it/s]"
     ]
    },
    {
     "name": "stdout",
     "output_type": "stream",
     "text": [
      "face  0.944 0.158\n",
      "left  0.722 0.304\n",
      "right 0.857 0.208\n"
     ]
    },
    {
     "name": "stderr",
     "output_type": "stream",
     "text": [
      "  8%|▊         | 29499/392536 [1:35:37<16:26:16,  6.13it/s]"
     ]
    },
    {
     "name": "stdout",
     "output_type": "stream",
     "text": [
      "face  0.944 0.158\n",
      "left  0.722 0.304\n",
      "right 0.857 0.209\n"
     ]
    },
    {
     "name": "stderr",
     "output_type": "stream",
     "text": [
      "  8%|▊         | 29600/392536 [1:35:55<16:14:52,  6.20it/s]"
     ]
    },
    {
     "name": "stdout",
     "output_type": "stream",
     "text": [
      "face  0.944 0.158\n",
      "left  0.722 0.305\n",
      "right 0.857 0.209\n"
     ]
    },
    {
     "name": "stderr",
     "output_type": "stream",
     "text": [
      "  8%|▊         | 29701/392536 [1:36:20<24:33:19,  4.10it/s]"
     ]
    },
    {
     "name": "stdout",
     "output_type": "stream",
     "text": [
      "face  0.944 0.158\n",
      "left  0.722 0.305\n",
      "right 0.857 0.209\n"
     ]
    },
    {
     "name": "stderr",
     "output_type": "stream",
     "text": [
      "  8%|▊         | 29800/392536 [1:36:56<58:49:03,  1.71it/s]"
     ]
    },
    {
     "name": "stdout",
     "output_type": "stream",
     "text": [
      "face  0.944 0.158\n",
      "left  0.722 0.304\n",
      "right 0.857 0.209\n"
     ]
    },
    {
     "name": "stderr",
     "output_type": "stream",
     "text": [
      "  8%|▊         | 29900/392536 [1:37:18<18:46:07,  5.37it/s]"
     ]
    },
    {
     "name": "stdout",
     "output_type": "stream",
     "text": [
      "face  0.944 0.158\n",
      "left  0.722 0.304\n",
      "right 0.857 0.209\n"
     ]
    },
    {
     "name": "stderr",
     "output_type": "stream",
     "text": [
      "  8%|▊         | 30001/392536 [1:37:37<21:50:07,  4.61it/s]"
     ]
    },
    {
     "name": "stdout",
     "output_type": "stream",
     "text": [
      "face  0.944 0.158\n",
      "left  0.722 0.304\n",
      "right 0.857 0.209\n"
     ]
    },
    {
     "name": "stderr",
     "output_type": "stream",
     "text": [
      "  8%|▊         | 30101/392536 [1:37:56<16:52:09,  5.97it/s]"
     ]
    },
    {
     "name": "stdout",
     "output_type": "stream",
     "text": [
      "face  0.944 0.158\n",
      "left  0.722 0.304\n",
      "right 0.857 0.209\n"
     ]
    },
    {
     "name": "stderr",
     "output_type": "stream",
     "text": [
      "  8%|▊         | 30199/392536 [1:38:21<25:01:13,  4.02it/s]"
     ]
    },
    {
     "name": "stdout",
     "output_type": "stream",
     "text": [
      "face  0.944 0.158\n",
      "left  0.722 0.305\n",
      "right 0.857 0.209\n"
     ]
    },
    {
     "name": "stderr",
     "output_type": "stream",
     "text": [
      "  8%|▊         | 30300/392536 [1:38:40<18:17:25,  5.50it/s]"
     ]
    },
    {
     "name": "stdout",
     "output_type": "stream",
     "text": [
      "face  0.944 0.158\n",
      "left  0.722 0.305\n",
      "right 0.857 0.208\n"
     ]
    },
    {
     "name": "stderr",
     "output_type": "stream",
     "text": [
      "  8%|▊         | 30401/392536 [1:39:08<24:31:21,  4.10it/s]"
     ]
    },
    {
     "name": "stdout",
     "output_type": "stream",
     "text": [
      "face  0.944 0.158\n",
      "left  0.722 0.305\n",
      "right 0.857 0.208\n"
     ]
    },
    {
     "name": "stderr",
     "output_type": "stream",
     "text": [
      "  8%|▊         | 30501/392536 [1:39:28<20:26:30,  4.92it/s]"
     ]
    },
    {
     "name": "stdout",
     "output_type": "stream",
     "text": [
      "face  0.944 0.158\n",
      "left  0.722 0.305\n",
      "right 0.857 0.208\n"
     ]
    },
    {
     "name": "stderr",
     "output_type": "stream",
     "text": [
      "  8%|▊         | 30602/392536 [1:39:48<13:25:55,  7.48it/s]"
     ]
    },
    {
     "name": "stdout",
     "output_type": "stream",
     "text": [
      "face  0.944 0.158\n",
      "left  0.722 0.305\n",
      "right 0.857 0.208\n"
     ]
    },
    {
     "name": "stderr",
     "output_type": "stream",
     "text": [
      "  8%|▊         | 30700/392536 [1:40:08<14:32:04,  6.92it/s]"
     ]
    },
    {
     "name": "stdout",
     "output_type": "stream",
     "text": [
      "face  0.944 0.159\n",
      "left  0.722 0.304\n",
      "right 0.857 0.208\n"
     ]
    },
    {
     "name": "stderr",
     "output_type": "stream",
     "text": [
      "  8%|▊         | 30800/392536 [1:40:32<30:22:54,  3.31it/s]"
     ]
    },
    {
     "name": "stdout",
     "output_type": "stream",
     "text": [
      "face  0.944 0.159\n",
      "left  0.722 0.304\n",
      "right 0.857 0.208\n"
     ]
    },
    {
     "name": "stderr",
     "output_type": "stream",
     "text": [
      "  8%|▊         | 30901/392536 [1:41:03<23:29:11,  4.28it/s]"
     ]
    },
    {
     "name": "stdout",
     "output_type": "stream",
     "text": [
      "face  0.944 0.158\n",
      "left  0.722 0.305\n",
      "right 0.857 0.208\n"
     ]
    },
    {
     "name": "stderr",
     "output_type": "stream",
     "text": [
      "  8%|▊         | 31000/392536 [1:41:35<40:52:41,  2.46it/s]"
     ]
    },
    {
     "name": "stdout",
     "output_type": "stream",
     "text": [
      "face  0.944 0.159\n",
      "left  0.722 0.304\n",
      "right 0.858 0.208\n"
     ]
    },
    {
     "name": "stderr",
     "output_type": "stream",
     "text": [
      "  8%|▊         | 31102/392536 [1:41:56<12:56:40,  7.76it/s]"
     ]
    },
    {
     "name": "stdout",
     "output_type": "stream",
     "text": [
      "face  0.944 0.158\n",
      "left  0.722 0.304\n",
      "right 0.858 0.208\n"
     ]
    },
    {
     "name": "stderr",
     "output_type": "stream",
     "text": [
      "  8%|▊         | 31201/392536 [1:42:19<28:21:22,  3.54it/s]"
     ]
    },
    {
     "name": "stdout",
     "output_type": "stream",
     "text": [
      "face  0.944 0.158\n",
      "left  0.722 0.304\n",
      "right 0.858 0.208\n"
     ]
    },
    {
     "name": "stderr",
     "output_type": "stream",
     "text": [
      "  8%|▊         | 31301/392536 [1:42:48<16:28:25,  6.09it/s]"
     ]
    },
    {
     "name": "stdout",
     "output_type": "stream",
     "text": [
      "face  0.944 0.158\n",
      "left  0.722 0.304\n",
      "right 0.858 0.208\n"
     ]
    },
    {
     "name": "stderr",
     "output_type": "stream",
     "text": [
      "  8%|▊         | 31402/392536 [1:43:07<14:07:17,  7.10it/s]"
     ]
    },
    {
     "name": "stdout",
     "output_type": "stream",
     "text": [
      "face  0.944 0.158\n",
      "left  0.722 0.304\n",
      "right 0.858 0.208\n"
     ]
    },
    {
     "name": "stderr",
     "output_type": "stream",
     "text": [
      "  8%|▊         | 31500/392536 [1:43:27<38:21:20,  2.61it/s]"
     ]
    },
    {
     "name": "stdout",
     "output_type": "stream",
     "text": [
      "face  0.944 0.158\n",
      "left  0.722 0.304\n",
      "right 0.858 0.208\n"
     ]
    },
    {
     "name": "stderr",
     "output_type": "stream",
     "text": [
      "  8%|▊         | 31600/392536 [1:43:55<21:50:39,  4.59it/s]"
     ]
    },
    {
     "name": "stdout",
     "output_type": "stream",
     "text": [
      "face  0.944 0.158\n",
      "left  0.722 0.304\n",
      "right 0.858 0.208\n"
     ]
    },
    {
     "name": "stderr",
     "output_type": "stream",
     "text": [
      "  8%|▊         | 31700/392536 [1:44:21<17:19:05,  5.79it/s]"
     ]
    },
    {
     "name": "stdout",
     "output_type": "stream",
     "text": [
      "face  0.944 0.158\n",
      "left  0.722 0.304\n",
      "right 0.858 0.208\n"
     ]
    },
    {
     "name": "stderr",
     "output_type": "stream",
     "text": [
      "  8%|▊         | 31801/392536 [1:44:51<24:07:04,  4.15it/s]"
     ]
    },
    {
     "name": "stdout",
     "output_type": "stream",
     "text": [
      "face  0.944 0.158\n",
      "left  0.722 0.304\n",
      "right 0.858 0.208\n"
     ]
    },
    {
     "name": "stderr",
     "output_type": "stream",
     "text": [
      "  8%|▊         | 31900/392536 [1:45:20<34:19:53,  2.92it/s]"
     ]
    },
    {
     "name": "stdout",
     "output_type": "stream",
     "text": [
      "face  0.944 0.159\n",
      "left  0.722 0.304\n",
      "right 0.858 0.208\n"
     ]
    },
    {
     "name": "stderr",
     "output_type": "stream",
     "text": [
      "  8%|▊         | 32001/392536 [1:45:45<21:20:42,  4.69it/s]"
     ]
    },
    {
     "name": "stdout",
     "output_type": "stream",
     "text": [
      "face  0.944 0.159\n",
      "left  0.722 0.304\n",
      "right 0.858 0.208\n"
     ]
    },
    {
     "name": "stderr",
     "output_type": "stream",
     "text": [
      "  8%|▊         | 32101/392536 [1:46:09<19:12:00,  5.21it/s]"
     ]
    },
    {
     "name": "stdout",
     "output_type": "stream",
     "text": [
      "face  0.944 0.159\n",
      "left  0.722 0.304\n",
      "right 0.858 0.208\n"
     ]
    },
    {
     "name": "stderr",
     "output_type": "stream",
     "text": [
      "  8%|▊         | 32200/392536 [1:46:29<15:01:11,  6.66it/s]"
     ]
    },
    {
     "name": "stdout",
     "output_type": "stream",
     "text": [
      "face  0.944 0.158\n",
      "left  0.722 0.304\n",
      "right 0.858 0.208\n"
     ]
    },
    {
     "name": "stderr",
     "output_type": "stream",
     "text": [
      "  8%|▊         | 32300/392536 [1:46:48<20:23:43,  4.91it/s]"
     ]
    },
    {
     "name": "stdout",
     "output_type": "stream",
     "text": [
      "face  0.944 0.158\n",
      "left  0.722 0.304\n",
      "right 0.858 0.208\n"
     ]
    },
    {
     "name": "stderr",
     "output_type": "stream",
     "text": [
      "  8%|▊         | 32400/392536 [1:47:09<20:15:38,  4.94it/s]"
     ]
    },
    {
     "name": "stdout",
     "output_type": "stream",
     "text": [
      "face  0.944 0.158\n",
      "left  0.722 0.304\n",
      "right 0.858 0.208\n"
     ]
    },
    {
     "name": "stderr",
     "output_type": "stream",
     "text": [
      "  8%|▊         | 32501/392536 [1:47:29<21:28:48,  4.66it/s]"
     ]
    },
    {
     "name": "stdout",
     "output_type": "stream",
     "text": [
      "face  0.944 0.158\n",
      "left  0.722 0.304\n",
      "right 0.858 0.208\n"
     ]
    },
    {
     "name": "stderr",
     "output_type": "stream",
     "text": [
      "  8%|▊         | 32601/392536 [1:47:48<17:11:20,  5.82it/s]"
     ]
    },
    {
     "name": "stdout",
     "output_type": "stream",
     "text": [
      "face  0.944 0.158\n",
      "left  0.722 0.304\n",
      "right 0.857 0.208\n"
     ]
    },
    {
     "name": "stderr",
     "output_type": "stream",
     "text": [
      "  8%|▊         | 32701/392536 [1:48:08<19:53:12,  5.03it/s]"
     ]
    },
    {
     "name": "stdout",
     "output_type": "stream",
     "text": [
      "face  0.944 0.158\n",
      "left  0.722 0.304\n",
      "right 0.857 0.208\n"
     ]
    },
    {
     "name": "stderr",
     "output_type": "stream",
     "text": [
      "  8%|▊         | 32800/392536 [1:48:30<22:05:39,  4.52it/s]"
     ]
    },
    {
     "name": "stdout",
     "output_type": "stream",
     "text": [
      "face  0.944 0.158\n",
      "left  0.722 0.304\n",
      "right 0.857 0.208\n"
     ]
    },
    {
     "name": "stderr",
     "output_type": "stream",
     "text": [
      "  8%|▊         | 32900/392536 [1:48:51<20:21:37,  4.91it/s]"
     ]
    },
    {
     "name": "stdout",
     "output_type": "stream",
     "text": [
      "face  0.944 0.158\n",
      "left  0.722 0.304\n",
      "right 0.857 0.208\n"
     ]
    },
    {
     "name": "stderr",
     "output_type": "stream",
     "text": [
      "  8%|▊         | 33000/392536 [1:49:12<23:08:05,  4.32it/s]"
     ]
    },
    {
     "name": "stdout",
     "output_type": "stream",
     "text": [
      "face  0.944 0.158\n",
      "left  0.722 0.304\n",
      "right 0.857 0.208\n"
     ]
    },
    {
     "name": "stderr",
     "output_type": "stream",
     "text": [
      "  8%|▊         | 33101/392536 [1:49:32<19:58:47,  5.00it/s]"
     ]
    },
    {
     "name": "stdout",
     "output_type": "stream",
     "text": [
      "face  0.944 0.158\n",
      "left  0.722 0.304\n",
      "right 0.857 0.208\n"
     ]
    },
    {
     "name": "stderr",
     "output_type": "stream",
     "text": [
      "  8%|▊         | 33200/392536 [1:49:51<21:04:36,  4.74it/s]"
     ]
    },
    {
     "name": "stdout",
     "output_type": "stream",
     "text": [
      "face  0.944 0.158\n",
      "left  0.722 0.304\n",
      "right 0.857 0.208\n"
     ]
    },
    {
     "name": "stderr",
     "output_type": "stream",
     "text": [
      "  8%|▊         | 33302/392536 [1:50:10<11:09:09,  8.95it/s]"
     ]
    },
    {
     "name": "stdout",
     "output_type": "stream",
     "text": [
      "face  0.944 0.158\n",
      "left  0.722 0.304\n",
      "right 0.857 0.208\n"
     ]
    },
    {
     "name": "stderr",
     "output_type": "stream",
     "text": [
      "  9%|▊         | 33400/392536 [1:50:29<22:00:13,  4.53it/s]"
     ]
    },
    {
     "name": "stdout",
     "output_type": "stream",
     "text": [
      "face  0.944 0.158\n",
      "left  0.722 0.304\n",
      "right 0.857 0.208\n"
     ]
    },
    {
     "name": "stderr",
     "output_type": "stream",
     "text": [
      "  9%|▊         | 33500/392536 [1:50:48<19:53:44,  5.01it/s]"
     ]
    },
    {
     "name": "stdout",
     "output_type": "stream",
     "text": [
      "face  0.944 0.158\n",
      "left  0.722 0.304\n",
      "right 0.857 0.208\n"
     ]
    },
    {
     "name": "stderr",
     "output_type": "stream",
     "text": [
      "  9%|▊         | 33600/392536 [1:51:20<32:12:52,  3.10it/s]"
     ]
    },
    {
     "name": "stdout",
     "output_type": "stream",
     "text": [
      "face  0.944 0.158\n",
      "left  0.722 0.304\n",
      "right 0.857 0.208\n"
     ]
    },
    {
     "name": "stderr",
     "output_type": "stream",
     "text": [
      "  9%|▊         | 33701/392536 [1:51:47<20:46:21,  4.80it/s]"
     ]
    },
    {
     "name": "stdout",
     "output_type": "stream",
     "text": [
      "face  0.944 0.158\n",
      "left  0.722 0.304\n",
      "right 0.857 0.208\n"
     ]
    },
    {
     "name": "stderr",
     "output_type": "stream",
     "text": [
      "  9%|▊         | 33800/392536 [1:52:17<33:51:56,  2.94it/s]"
     ]
    },
    {
     "name": "stdout",
     "output_type": "stream",
     "text": [
      "face  0.944 0.158\n",
      "left  0.722 0.304\n",
      "right 0.858 0.208\n"
     ]
    },
    {
     "name": "stderr",
     "output_type": "stream",
     "text": [
      "  9%|▊         | 33900/392536 [1:52:42<20:36:22,  4.83it/s]"
     ]
    },
    {
     "name": "stdout",
     "output_type": "stream",
     "text": [
      "face  0.944 0.158\n",
      "left  0.722 0.304\n",
      "right 0.857 0.208\n"
     ]
    },
    {
     "name": "stderr",
     "output_type": "stream",
     "text": [
      "  9%|▊         | 34000/392536 [1:53:06<29:47:10,  3.34it/s]"
     ]
    },
    {
     "name": "stdout",
     "output_type": "stream",
     "text": [
      "face  0.944 0.158\n",
      "left  0.722 0.304\n",
      "right 0.857 0.208\n"
     ]
    },
    {
     "name": "stderr",
     "output_type": "stream",
     "text": [
      "  9%|▊         | 34100/392536 [1:53:33<25:01:17,  3.98it/s]"
     ]
    },
    {
     "name": "stdout",
     "output_type": "stream",
     "text": [
      "face  0.944 0.158\n",
      "left  0.722 0.304\n",
      "right 0.857 0.208\n"
     ]
    },
    {
     "name": "stderr",
     "output_type": "stream",
     "text": [
      "  9%|▊         | 34200/392536 [1:54:00<28:13:25,  3.53it/s]"
     ]
    },
    {
     "name": "stdout",
     "output_type": "stream",
     "text": [
      "face  0.944 0.158\n",
      "left  0.722 0.304\n",
      "right 0.857 0.208\n"
     ]
    },
    {
     "name": "stderr",
     "output_type": "stream",
     "text": [
      "  9%|▊         | 34300/392536 [1:54:28<29:13:11,  3.41it/s]"
     ]
    },
    {
     "name": "stdout",
     "output_type": "stream",
     "text": [
      "face  0.944 0.158\n",
      "left  0.722 0.304\n",
      "right 0.857 0.208\n"
     ]
    },
    {
     "name": "stderr",
     "output_type": "stream",
     "text": [
      "  9%|▉         | 34400/392536 [1:54:56<24:19:18,  4.09it/s]"
     ]
    },
    {
     "name": "stdout",
     "output_type": "stream",
     "text": [
      "face  0.944 0.158\n",
      "left  0.722 0.304\n",
      "right 0.857 0.208\n"
     ]
    },
    {
     "name": "stderr",
     "output_type": "stream",
     "text": [
      "  9%|▉         | 34500/392536 [1:55:20<22:21:12,  4.45it/s]"
     ]
    },
    {
     "name": "stdout",
     "output_type": "stream",
     "text": [
      "face  0.944 0.158\n",
      "left  0.722 0.304\n",
      "right 0.857 0.208\n"
     ]
    },
    {
     "name": "stderr",
     "output_type": "stream",
     "text": [
      "  9%|▉         | 34600/392536 [1:55:48<27:31:00,  3.61it/s]"
     ]
    },
    {
     "name": "stdout",
     "output_type": "stream",
     "text": [
      "face  0.944 0.158\n",
      "left  0.722 0.304\n",
      "right 0.857 0.208\n"
     ]
    },
    {
     "name": "stderr",
     "output_type": "stream",
     "text": [
      "  9%|▉         | 34700/392536 [1:56:10<28:31:56,  3.48it/s]"
     ]
    },
    {
     "name": "stdout",
     "output_type": "stream",
     "text": [
      "face  0.944 0.158\n",
      "left  0.722 0.304\n",
      "right 0.857 0.209\n"
     ]
    },
    {
     "name": "stderr",
     "output_type": "stream",
     "text": [
      "  9%|▉         | 34801/392536 [1:56:37<21:39:12,  4.59it/s]"
     ]
    },
    {
     "name": "stdout",
     "output_type": "stream",
     "text": [
      "face  0.944 0.158\n",
      "left  0.722 0.304\n",
      "right 0.857 0.209\n"
     ]
    },
    {
     "name": "stderr",
     "output_type": "stream",
     "text": [
      "  9%|▉         | 34901/392536 [1:57:09<28:56:56,  3.43it/s]"
     ]
    },
    {
     "name": "stdout",
     "output_type": "stream",
     "text": [
      "face  0.944 0.158\n",
      "left  0.722 0.304\n",
      "right 0.857 0.209\n"
     ]
    },
    {
     "name": "stderr",
     "output_type": "stream",
     "text": [
      "  9%|▉         | 35001/392536 [1:57:35<33:06:31,  3.00it/s]"
     ]
    },
    {
     "name": "stdout",
     "output_type": "stream",
     "text": [
      "face  0.944 0.158\n",
      "left  0.722 0.304\n",
      "right 0.857 0.209\n"
     ]
    },
    {
     "name": "stderr",
     "output_type": "stream",
     "text": [
      "  9%|▉         | 35100/392536 [1:58:01<24:34:15,  4.04it/s]"
     ]
    },
    {
     "name": "stdout",
     "output_type": "stream",
     "text": [
      "face  0.944 0.158\n",
      "left  0.722 0.304\n",
      "right 0.857 0.209\n"
     ]
    },
    {
     "name": "stderr",
     "output_type": "stream",
     "text": [
      "  9%|▉         | 35200/392536 [1:58:32<26:19:27,  3.77it/s]"
     ]
    },
    {
     "name": "stdout",
     "output_type": "stream",
     "text": [
      "face  0.944 0.158\n",
      "left  0.722 0.304\n",
      "right 0.857 0.209\n"
     ]
    },
    {
     "name": "stderr",
     "output_type": "stream",
     "text": [
      "  9%|▉         | 35300/392536 [1:58:56<35:32:50,  2.79it/s]"
     ]
    },
    {
     "name": "stdout",
     "output_type": "stream",
     "text": [
      "face  0.944 0.158\n",
      "left  0.722 0.304\n",
      "right 0.857 0.209\n"
     ]
    },
    {
     "name": "stderr",
     "output_type": "stream",
     "text": [
      "  9%|▉         | 35400/392536 [1:59:24<21:29:20,  4.62it/s]"
     ]
    },
    {
     "name": "stdout",
     "output_type": "stream",
     "text": [
      "face  0.944 0.158\n",
      "left  0.722 0.304\n",
      "right 0.857 0.209\n"
     ]
    },
    {
     "name": "stderr",
     "output_type": "stream",
     "text": [
      "  9%|▉         | 35501/392536 [1:59:49<17:46:30,  5.58it/s]"
     ]
    },
    {
     "name": "stdout",
     "output_type": "stream",
     "text": [
      "face  0.944 0.158\n",
      "left  0.722 0.304\n",
      "right 0.857 0.209\n"
     ]
    },
    {
     "name": "stderr",
     "output_type": "stream",
     "text": [
      "  9%|▉         | 35601/392536 [2:00:14<15:47:59,  6.28it/s]"
     ]
    },
    {
     "name": "stdout",
     "output_type": "stream",
     "text": [
      "face  0.944 0.158\n",
      "left  0.722 0.304\n",
      "right 0.857 0.209\n"
     ]
    },
    {
     "name": "stderr",
     "output_type": "stream",
     "text": [
      "  9%|▉         | 35700/392536 [2:00:40<39:20:30,  2.52it/s]"
     ]
    },
    {
     "name": "stdout",
     "output_type": "stream",
     "text": [
      "face  0.944 0.158\n",
      "left  0.722 0.305\n",
      "right 0.857 0.209\n"
     ]
    },
    {
     "name": "stderr",
     "output_type": "stream",
     "text": [
      "  9%|▉         | 35800/392536 [2:01:07<29:02:19,  3.41it/s]"
     ]
    },
    {
     "name": "stdout",
     "output_type": "stream",
     "text": [
      "face  0.944 0.158\n",
      "left  0.722 0.305\n",
      "right 0.857 0.209\n"
     ]
    },
    {
     "name": "stderr",
     "output_type": "stream",
     "text": [
      "  9%|▉         | 35900/392536 [2:01:37<22:51:21,  4.33it/s]"
     ]
    },
    {
     "name": "stdout",
     "output_type": "stream",
     "text": [
      "face  0.944 0.158\n",
      "left  0.722 0.305\n",
      "right 0.857 0.209\n"
     ]
    },
    {
     "name": "stderr",
     "output_type": "stream",
     "text": [
      "  9%|▉         | 36000/392536 [2:02:05<45:09:30,  2.19it/s]"
     ]
    },
    {
     "name": "stdout",
     "output_type": "stream",
     "text": [
      "face  0.944 0.158\n",
      "left  0.722 0.305\n",
      "right 0.857 0.209\n"
     ]
    },
    {
     "name": "stderr",
     "output_type": "stream",
     "text": [
      "  9%|▉         | 36100/392536 [2:02:36<19:54:39,  4.97it/s]"
     ]
    },
    {
     "name": "stdout",
     "output_type": "stream",
     "text": [
      "face  0.944 0.158\n",
      "left  0.722 0.305\n",
      "right 0.857 0.209\n"
     ]
    },
    {
     "name": "stderr",
     "output_type": "stream",
     "text": [
      "  9%|▉         | 36201/392536 [2:03:03<23:35:07,  4.20it/s]"
     ]
    },
    {
     "name": "stdout",
     "output_type": "stream",
     "text": [
      "face  0.944 0.158\n",
      "left  0.722 0.305\n",
      "right 0.857 0.208\n"
     ]
    },
    {
     "name": "stderr",
     "output_type": "stream",
     "text": [
      "  9%|▉         | 36300/392536 [2:03:35<24:38:12,  4.02it/s]"
     ]
    },
    {
     "name": "stdout",
     "output_type": "stream",
     "text": [
      "face  0.944 0.158\n",
      "left  0.722 0.305\n",
      "right 0.857 0.209\n"
     ]
    },
    {
     "name": "stderr",
     "output_type": "stream",
     "text": [
      "  9%|▉         | 36400/392536 [2:04:06<24:37:25,  4.02it/s]"
     ]
    },
    {
     "name": "stdout",
     "output_type": "stream",
     "text": [
      "face  0.944 0.157\n",
      "left  0.722 0.305\n",
      "right 0.857 0.208\n"
     ]
    },
    {
     "name": "stderr",
     "output_type": "stream",
     "text": [
      "  9%|▉         | 36501/392536 [2:04:32<25:57:17,  3.81it/s]"
     ]
    },
    {
     "name": "stdout",
     "output_type": "stream",
     "text": [
      "face  0.944 0.157\n",
      "left  0.722 0.305\n",
      "right 0.857 0.209\n"
     ]
    },
    {
     "name": "stderr",
     "output_type": "stream",
     "text": [
      "  9%|▉         | 36600/392536 [2:04:58<30:13:01,  3.27it/s]"
     ]
    },
    {
     "name": "stdout",
     "output_type": "stream",
     "text": [
      "face  0.944 0.157\n",
      "left  0.722 0.305\n",
      "right 0.857 0.209\n"
     ]
    },
    {
     "name": "stderr",
     "output_type": "stream",
     "text": [
      "  9%|▉         | 36701/392536 [2:05:30<16:18:16,  6.06it/s]"
     ]
    },
    {
     "name": "stdout",
     "output_type": "stream",
     "text": [
      "face  0.944 0.157\n",
      "left  0.722 0.305\n",
      "right 0.857 0.209\n"
     ]
    },
    {
     "name": "stderr",
     "output_type": "stream",
     "text": [
      "  9%|▉         | 36800/392536 [2:06:01<33:04:07,  2.99it/s]"
     ]
    },
    {
     "name": "stdout",
     "output_type": "stream",
     "text": [
      "face  0.944 0.157\n",
      "left  0.722 0.305\n",
      "right 0.857 0.209\n"
     ]
    },
    {
     "name": "stderr",
     "output_type": "stream",
     "text": [
      "  9%|▉         | 36900/392536 [2:06:28<40:57:21,  2.41it/s]"
     ]
    },
    {
     "name": "stdout",
     "output_type": "stream",
     "text": [
      "face  0.944 0.157\n",
      "left  0.722 0.305\n",
      "right 0.857 0.209\n"
     ]
    },
    {
     "name": "stderr",
     "output_type": "stream",
     "text": [
      "  9%|▉         | 37001/392536 [2:06:58<28:20:36,  3.48it/s]"
     ]
    },
    {
     "name": "stdout",
     "output_type": "stream",
     "text": [
      "face  0.944 0.157\n",
      "left  0.722 0.305\n",
      "right 0.857 0.209\n"
     ]
    },
    {
     "name": "stderr",
     "output_type": "stream",
     "text": [
      "  9%|▉         | 37100/392536 [2:07:24<27:15:41,  3.62it/s]"
     ]
    },
    {
     "name": "stdout",
     "output_type": "stream",
     "text": [
      "face  0.944 0.157\n",
      "left  0.722 0.305\n",
      "right 0.857 0.208\n"
     ]
    },
    {
     "name": "stderr",
     "output_type": "stream",
     "text": [
      "  9%|▉         | 37201/392536 [2:07:57<32:45:27,  3.01it/s]"
     ]
    },
    {
     "name": "stdout",
     "output_type": "stream",
     "text": [
      "face  0.944 0.157\n",
      "left  0.722 0.305\n",
      "right 0.857 0.208\n"
     ]
    },
    {
     "name": "stderr",
     "output_type": "stream",
     "text": [
      " 10%|▉         | 37301/392536 [2:08:21<21:28:57,  4.59it/s]"
     ]
    },
    {
     "name": "stdout",
     "output_type": "stream",
     "text": [
      "face  0.944 0.157\n",
      "left  0.722 0.305\n",
      "right 0.857 0.208\n"
     ]
    },
    {
     "name": "stderr",
     "output_type": "stream",
     "text": [
      " 10%|▉         | 37400/392536 [2:08:47<17:43:30,  5.57it/s]"
     ]
    },
    {
     "name": "stdout",
     "output_type": "stream",
     "text": [
      "face  0.944 0.157\n",
      "left  0.722 0.304\n",
      "right 0.857 0.208\n"
     ]
    },
    {
     "name": "stderr",
     "output_type": "stream",
     "text": [
      " 10%|▉         | 37500/392536 [2:09:16<27:51:08,  3.54it/s] "
     ]
    },
    {
     "name": "stdout",
     "output_type": "stream",
     "text": [
      "face  0.944 0.157\n",
      "left  0.722 0.304\n",
      "right 0.857 0.209\n"
     ]
    },
    {
     "name": "stderr",
     "output_type": "stream",
     "text": [
      " 10%|▉         | 37600/392536 [2:09:44<34:13:07,  2.88it/s]"
     ]
    },
    {
     "name": "stdout",
     "output_type": "stream",
     "text": [
      "face  0.944 0.157\n",
      "left  0.722 0.304\n",
      "right 0.857 0.209\n"
     ]
    },
    {
     "name": "stderr",
     "output_type": "stream",
     "text": [
      " 10%|▉         | 37701/392536 [2:10:12<17:59:00,  5.48it/s]"
     ]
    },
    {
     "name": "stdout",
     "output_type": "stream",
     "text": [
      "face  0.944 0.157\n",
      "left  0.722 0.304\n",
      "right 0.857 0.209\n"
     ]
    },
    {
     "name": "stderr",
     "output_type": "stream",
     "text": [
      " 10%|▉         | 37801/392536 [2:10:44<30:51:23,  3.19it/s]"
     ]
    },
    {
     "name": "stdout",
     "output_type": "stream",
     "text": [
      "face  0.944 0.157\n",
      "left  0.722 0.304\n",
      "right 0.857 0.208\n"
     ]
    },
    {
     "name": "stderr",
     "output_type": "stream",
     "text": [
      " 10%|▉         | 37900/392536 [2:11:06<29:11:03,  3.38it/s]"
     ]
    },
    {
     "name": "stdout",
     "output_type": "stream",
     "text": [
      "face  0.944 0.157\n",
      "left  0.722 0.304\n",
      "right 0.858 0.209\n"
     ]
    },
    {
     "name": "stderr",
     "output_type": "stream",
     "text": [
      " 10%|▉         | 38000/392536 [2:11:49<46:50:17,  2.10it/s]"
     ]
    },
    {
     "name": "stdout",
     "output_type": "stream",
     "text": [
      "face  0.944 0.157\n",
      "left  0.722 0.304\n",
      "right 0.858 0.208\n"
     ]
    },
    {
     "name": "stderr",
     "output_type": "stream",
     "text": [
      " 10%|▉         | 38100/392536 [2:12:37<32:47:12,  3.00it/s]"
     ]
    },
    {
     "name": "stdout",
     "output_type": "stream",
     "text": [
      "face  0.944 0.157\n",
      "left  0.722 0.304\n",
      "right 0.858 0.208\n"
     ]
    },
    {
     "name": "stderr",
     "output_type": "stream",
     "text": [
      " 10%|▉         | 38201/392536 [2:13:15<22:02:24,  4.47it/s]"
     ]
    },
    {
     "name": "stdout",
     "output_type": "stream",
     "text": [
      "face  0.944 0.157\n",
      "left  0.723 0.304\n",
      "right 0.858 0.208\n"
     ]
    },
    {
     "name": "stderr",
     "output_type": "stream",
     "text": [
      " 10%|▉         | 38301/392536 [2:13:35<16:05:14,  6.12it/s]"
     ]
    },
    {
     "name": "stdout",
     "output_type": "stream",
     "text": [
      "face  0.944 0.157\n",
      "left  0.723 0.304\n",
      "right 0.858 0.208\n"
     ]
    },
    {
     "name": "stderr",
     "output_type": "stream",
     "text": [
      " 10%|▉         | 38400/392536 [2:13:55<16:22:44,  6.01it/s]"
     ]
    },
    {
     "name": "stdout",
     "output_type": "stream",
     "text": [
      "face  0.944 0.157\n",
      "left  0.723 0.304\n",
      "right 0.858 0.208\n"
     ]
    },
    {
     "name": "stderr",
     "output_type": "stream",
     "text": [
      " 10%|▉         | 38500/392536 [2:14:15<25:52:21,  3.80it/s]"
     ]
    },
    {
     "name": "stdout",
     "output_type": "stream",
     "text": [
      "face  0.944 0.157\n",
      "left  0.723 0.304\n",
      "right 0.858 0.208\n"
     ]
    },
    {
     "name": "stderr",
     "output_type": "stream",
     "text": [
      " 10%|▉         | 38600/392536 [2:14:36<19:04:40,  5.15it/s]"
     ]
    },
    {
     "name": "stdout",
     "output_type": "stream",
     "text": [
      "face  0.944 0.157\n",
      "left  0.723 0.304\n",
      "right 0.858 0.208\n"
     ]
    },
    {
     "name": "stderr",
     "output_type": "stream",
     "text": [
      " 10%|▉         | 38701/392536 [2:14:57<16:49:02,  5.84it/s]"
     ]
    },
    {
     "name": "stdout",
     "output_type": "stream",
     "text": [
      "face  0.944 0.157\n",
      "left  0.723 0.304\n",
      "right 0.858 0.208\n"
     ]
    },
    {
     "name": "stderr",
     "output_type": "stream",
     "text": [
      " 10%|▉         | 38801/392536 [2:15:18<15:13:16,  6.46it/s]"
     ]
    },
    {
     "name": "stdout",
     "output_type": "stream",
     "text": [
      "face  0.944 0.157\n",
      "left  0.723 0.304\n",
      "right 0.858 0.208\n"
     ]
    },
    {
     "name": "stderr",
     "output_type": "stream",
     "text": [
      " 10%|▉         | 38901/392536 [2:15:39<19:58:32,  4.92it/s]"
     ]
    },
    {
     "name": "stdout",
     "output_type": "stream",
     "text": [
      "face  0.944 0.157\n",
      "left  0.723 0.304\n",
      "right 0.858 0.208\n"
     ]
    },
    {
     "name": "stderr",
     "output_type": "stream",
     "text": [
      " 10%|▉         | 39001/392536 [2:16:01<17:54:47,  5.48it/s]"
     ]
    },
    {
     "name": "stdout",
     "output_type": "stream",
     "text": [
      "face  0.944 0.157\n",
      "left  0.723 0.304\n",
      "right 0.858 0.208\n"
     ]
    },
    {
     "name": "stderr",
     "output_type": "stream",
     "text": [
      " 10%|▉         | 39101/392536 [2:16:20<18:11:16,  5.40it/s]"
     ]
    },
    {
     "name": "stdout",
     "output_type": "stream",
     "text": [
      "face  0.944 0.157\n",
      "left  0.723 0.304\n",
      "right 0.858 0.208\n"
     ]
    },
    {
     "name": "stderr",
     "output_type": "stream",
     "text": [
      " 10%|▉         | 39201/392536 [2:16:41<19:38:34,  5.00it/s]"
     ]
    },
    {
     "name": "stdout",
     "output_type": "stream",
     "text": [
      "face  0.944 0.157\n",
      "left  0.723 0.304\n",
      "right 0.858 0.208\n"
     ]
    },
    {
     "name": "stderr",
     "output_type": "stream",
     "text": [
      " 10%|█         | 39301/392536 [2:17:00<15:03:55,  6.51it/s]"
     ]
    },
    {
     "name": "stdout",
     "output_type": "stream",
     "text": [
      "face  0.944 0.157\n",
      "left  0.723 0.304\n",
      "right 0.858 0.208\n"
     ]
    },
    {
     "name": "stderr",
     "output_type": "stream",
     "text": [
      " 10%|█         | 39402/392536 [2:17:22<18:01:41,  5.44it/s]"
     ]
    },
    {
     "name": "stdout",
     "output_type": "stream",
     "text": [
      "face  0.944 0.157\n",
      "left  0.723 0.304\n",
      "right 0.858 0.208\n"
     ]
    },
    {
     "name": "stderr",
     "output_type": "stream",
     "text": [
      " 10%|█         | 39500/392536 [2:17:43<16:35:08,  5.91it/s]"
     ]
    },
    {
     "name": "stdout",
     "output_type": "stream",
     "text": [
      "face  0.944 0.157\n",
      "left  0.723 0.304\n",
      "right 0.858 0.208\n"
     ]
    },
    {
     "name": "stderr",
     "output_type": "stream",
     "text": [
      " 10%|█         | 39601/392536 [2:18:03<20:58:34,  4.67it/s]"
     ]
    },
    {
     "name": "stdout",
     "output_type": "stream",
     "text": [
      "face  0.944 0.157\n",
      "left  0.723 0.304\n",
      "right 0.858 0.208\n"
     ]
    },
    {
     "name": "stderr",
     "output_type": "stream",
     "text": [
      " 10%|█         | 39701/392536 [2:18:26<22:47:16,  4.30it/s]"
     ]
    },
    {
     "name": "stdout",
     "output_type": "stream",
     "text": [
      "face  0.944 0.157\n",
      "left  0.723 0.304\n",
      "right 0.858 0.208\n"
     ]
    },
    {
     "name": "stderr",
     "output_type": "stream",
     "text": [
      " 10%|█         | 39801/392536 [2:18:50<29:13:36,  3.35it/s]"
     ]
    },
    {
     "name": "stdout",
     "output_type": "stream",
     "text": [
      "face  0.944 0.157\n",
      "left  0.723 0.304\n",
      "right 0.858 0.208\n"
     ]
    },
    {
     "name": "stderr",
     "output_type": "stream",
     "text": [
      " 10%|█         | 39901/392536 [2:19:08<17:44:12,  5.52it/s]"
     ]
    },
    {
     "name": "stdout",
     "output_type": "stream",
     "text": [
      "face  0.944 0.158\n",
      "left  0.723 0.304\n",
      "right 0.858 0.208\n"
     ]
    },
    {
     "name": "stderr",
     "output_type": "stream",
     "text": [
      " 10%|█         | 40001/392536 [2:19:26<18:18:45,  5.35it/s]"
     ]
    },
    {
     "name": "stdout",
     "output_type": "stream",
     "text": [
      "face  0.944 0.158\n",
      "left  0.723 0.304\n",
      "right 0.858 0.208\n"
     ]
    },
    {
     "name": "stderr",
     "output_type": "stream",
     "text": [
      " 10%|█         | 40100/392536 [2:19:45<17:17:40,  5.66it/s]"
     ]
    },
    {
     "name": "stdout",
     "output_type": "stream",
     "text": [
      "face  0.944 0.158\n",
      "left  0.723 0.304\n",
      "right 0.858 0.208\n"
     ]
    },
    {
     "name": "stderr",
     "output_type": "stream",
     "text": [
      " 10%|█         | 40200/392536 [2:20:04<25:59:39,  3.77it/s]"
     ]
    },
    {
     "name": "stdout",
     "output_type": "stream",
     "text": [
      "face  0.944 0.158\n",
      "left  0.723 0.304\n",
      "right 0.858 0.208\n"
     ]
    },
    {
     "name": "stderr",
     "output_type": "stream",
     "text": [
      " 10%|█         | 40300/392536 [2:20:25<19:57:08,  4.90it/s]"
     ]
    },
    {
     "name": "stdout",
     "output_type": "stream",
     "text": [
      "face  0.944 0.158\n",
      "left  0.723 0.304\n",
      "right 0.858 0.208\n"
     ]
    },
    {
     "name": "stderr",
     "output_type": "stream",
     "text": [
      " 10%|█         | 40400/392536 [2:20:43<17:31:08,  5.58it/s]"
     ]
    },
    {
     "name": "stdout",
     "output_type": "stream",
     "text": [
      "face  0.944 0.158\n",
      "left  0.723 0.304\n",
      "right 0.858 0.208\n"
     ]
    },
    {
     "name": "stderr",
     "output_type": "stream",
     "text": [
      " 10%|█         | 40501/392536 [2:21:04<17:16:20,  5.66it/s]"
     ]
    },
    {
     "name": "stdout",
     "output_type": "stream",
     "text": [
      "face  0.944 0.158\n",
      "left  0.723 0.304\n",
      "right 0.858 0.208\n"
     ]
    },
    {
     "name": "stderr",
     "output_type": "stream",
     "text": [
      " 10%|█         | 40601/392536 [2:21:21<15:50:16,  6.17it/s]"
     ]
    },
    {
     "name": "stdout",
     "output_type": "stream",
     "text": [
      "face  0.944 0.158\n",
      "left  0.723 0.304\n",
      "right 0.858 0.208\n"
     ]
    },
    {
     "name": "stderr",
     "output_type": "stream",
     "text": [
      " 10%|█         | 40700/392536 [2:21:42<18:26:18,  5.30it/s]"
     ]
    },
    {
     "name": "stdout",
     "output_type": "stream",
     "text": [
      "face  0.944 0.158\n",
      "left  0.723 0.304\n",
      "right 0.858 0.208\n"
     ]
    },
    {
     "name": "stderr",
     "output_type": "stream",
     "text": [
      " 10%|█         | 40801/392536 [2:22:01<14:18:09,  6.83it/s]"
     ]
    },
    {
     "name": "stdout",
     "output_type": "stream",
     "text": [
      "face  0.944 0.158\n",
      "left  0.723 0.304\n",
      "right 0.858 0.208\n"
     ]
    },
    {
     "name": "stderr",
     "output_type": "stream",
     "text": [
      " 10%|█         | 40901/392536 [2:22:21<18:29:28,  5.28it/s]"
     ]
    },
    {
     "name": "stdout",
     "output_type": "stream",
     "text": [
      "face  0.944 0.158\n",
      "left  0.723 0.304\n",
      "right 0.858 0.208\n"
     ]
    },
    {
     "name": "stderr",
     "output_type": "stream",
     "text": [
      " 10%|█         | 41000/392536 [2:22:40<16:53:55,  5.78it/s]"
     ]
    },
    {
     "name": "stdout",
     "output_type": "stream",
     "text": [
      "face  0.944 0.158\n",
      "left  0.723 0.304\n",
      "right 0.858 0.208\n"
     ]
    },
    {
     "name": "stderr",
     "output_type": "stream",
     "text": [
      " 10%|█         | 41101/392536 [2:23:01<16:14:17,  6.01it/s]"
     ]
    },
    {
     "name": "stdout",
     "output_type": "stream",
     "text": [
      "face  0.944 0.158\n",
      "left  0.723 0.304\n",
      "right 0.858 0.208\n"
     ]
    },
    {
     "name": "stderr",
     "output_type": "stream",
     "text": [
      " 10%|█         | 41200/392536 [2:23:19<17:25:14,  5.60it/s]"
     ]
    },
    {
     "name": "stdout",
     "output_type": "stream",
     "text": [
      "face  0.944 0.158\n",
      "left  0.723 0.304\n",
      "right 0.858 0.208\n"
     ]
    },
    {
     "name": "stderr",
     "output_type": "stream",
     "text": [
      " 11%|█         | 41301/392536 [2:23:40<19:34:40,  4.98it/s]"
     ]
    },
    {
     "name": "stdout",
     "output_type": "stream",
     "text": [
      "face  0.944 0.158\n",
      "left  0.723 0.304\n",
      "right 0.858 0.208\n"
     ]
    },
    {
     "name": "stderr",
     "output_type": "stream",
     "text": [
      " 11%|█         | 41400/392536 [2:23:59<18:49:48,  5.18it/s]"
     ]
    },
    {
     "name": "stdout",
     "output_type": "stream",
     "text": [
      "face  0.944 0.158\n",
      "left  0.723 0.304\n",
      "right 0.858 0.208\n"
     ]
    },
    {
     "name": "stderr",
     "output_type": "stream",
     "text": [
      " 11%|█         | 41501/392536 [2:24:19<16:48:27,  5.80it/s]"
     ]
    },
    {
     "name": "stdout",
     "output_type": "stream",
     "text": [
      "face  0.944 0.158\n",
      "left  0.723 0.304\n",
      "right 0.858 0.208\n"
     ]
    },
    {
     "name": "stderr",
     "output_type": "stream",
     "text": [
      " 11%|█         | 41600/392536 [2:24:42<20:14:02,  4.82it/s]"
     ]
    },
    {
     "name": "stdout",
     "output_type": "stream",
     "text": [
      "face  0.944 0.158\n",
      "left  0.723 0.304\n",
      "right 0.858 0.208\n"
     ]
    },
    {
     "name": "stderr",
     "output_type": "stream",
     "text": [
      " 11%|█         | 41700/392536 [2:25:01<21:28:29,  4.54it/s]"
     ]
    },
    {
     "name": "stdout",
     "output_type": "stream",
     "text": [
      "face  0.944 0.158\n",
      "left  0.723 0.304\n",
      "right 0.858 0.208\n"
     ]
    },
    {
     "name": "stderr",
     "output_type": "stream",
     "text": [
      " 11%|█         | 41801/392536 [2:25:22<14:43:39,  6.62it/s]"
     ]
    },
    {
     "name": "stdout",
     "output_type": "stream",
     "text": [
      "face  0.944 0.158\n",
      "left  0.723 0.304\n",
      "right 0.858 0.208\n"
     ]
    },
    {
     "name": "stderr",
     "output_type": "stream",
     "text": [
      " 11%|█         | 41901/392536 [2:25:43<12:02:41,  8.09it/s]"
     ]
    },
    {
     "name": "stdout",
     "output_type": "stream",
     "text": [
      "face  0.944 0.158\n",
      "left  0.723 0.304\n",
      "right 0.858 0.208\n"
     ]
    },
    {
     "name": "stderr",
     "output_type": "stream",
     "text": [
      " 11%|█         | 42001/392536 [2:26:03<17:11:05,  5.67it/s]"
     ]
    },
    {
     "name": "stdout",
     "output_type": "stream",
     "text": [
      "face  0.944 0.158\n",
      "left  0.723 0.304\n",
      "right 0.858 0.208\n"
     ]
    },
    {
     "name": "stderr",
     "output_type": "stream",
     "text": [
      " 11%|█         | 42100/392536 [2:26:23<20:50:08,  4.67it/s]"
     ]
    },
    {
     "name": "stdout",
     "output_type": "stream",
     "text": [
      "face  0.944 0.158\n",
      "left  0.723 0.304\n",
      "right 0.858 0.208\n"
     ]
    },
    {
     "name": "stderr",
     "output_type": "stream",
     "text": [
      " 11%|█         | 42200/392536 [2:26:41<16:27:48,  5.91it/s]"
     ]
    },
    {
     "name": "stdout",
     "output_type": "stream",
     "text": [
      "face  0.944 0.158\n",
      "left  0.723 0.304\n",
      "right 0.858 0.208\n"
     ]
    },
    {
     "name": "stderr",
     "output_type": "stream",
     "text": [
      " 11%|█         | 42301/392536 [2:27:01<20:53:39,  4.66it/s]"
     ]
    },
    {
     "name": "stdout",
     "output_type": "stream",
     "text": [
      "face  0.944 0.158\n",
      "left  0.723 0.304\n",
      "right 0.858 0.208\n"
     ]
    },
    {
     "name": "stderr",
     "output_type": "stream",
     "text": [
      " 11%|█         | 42400/392536 [2:27:19<15:25:03,  6.31it/s]"
     ]
    },
    {
     "name": "stdout",
     "output_type": "stream",
     "text": [
      "face  0.944 0.158\n",
      "left  0.723 0.304\n",
      "right 0.858 0.208\n"
     ]
    },
    {
     "name": "stderr",
     "output_type": "stream",
     "text": [
      " 11%|█         | 42501/392536 [2:27:41<19:50:59,  4.90it/s]"
     ]
    },
    {
     "name": "stdout",
     "output_type": "stream",
     "text": [
      "face  0.944 0.158\n",
      "left  0.723 0.304\n",
      "right 0.858 0.208\n"
     ]
    },
    {
     "name": "stderr",
     "output_type": "stream",
     "text": [
      " 11%|█         | 42601/392536 [2:28:01<17:54:39,  5.43it/s]"
     ]
    },
    {
     "name": "stdout",
     "output_type": "stream",
     "text": [
      "face  0.944 0.158\n",
      "left  0.723 0.304\n",
      "right 0.858 0.208\n"
     ]
    },
    {
     "name": "stderr",
     "output_type": "stream",
     "text": [
      " 11%|█         | 42701/392536 [2:28:23<23:43:46,  4.10it/s]"
     ]
    },
    {
     "name": "stdout",
     "output_type": "stream",
     "text": [
      "face  0.944 0.158\n",
      "left  0.723 0.304\n",
      "right 0.858 0.208\n"
     ]
    },
    {
     "name": "stderr",
     "output_type": "stream",
     "text": [
      " 11%|█         | 42801/392536 [2:28:43<14:18:54,  6.79it/s]"
     ]
    },
    {
     "name": "stdout",
     "output_type": "stream",
     "text": [
      "face  0.944 0.158\n",
      "left  0.723 0.304\n",
      "right 0.858 0.208\n"
     ]
    },
    {
     "name": "stderr",
     "output_type": "stream",
     "text": [
      " 11%|█         | 42900/392536 [2:29:04<19:47:55,  4.91it/s]"
     ]
    },
    {
     "name": "stdout",
     "output_type": "stream",
     "text": [
      "face  0.944 0.158\n",
      "left  0.723 0.304\n",
      "right 0.858 0.208\n"
     ]
    },
    {
     "name": "stderr",
     "output_type": "stream",
     "text": [
      " 11%|█         | 43000/392536 [2:29:22<19:31:52,  4.97it/s]"
     ]
    },
    {
     "name": "stdout",
     "output_type": "stream",
     "text": [
      "face  0.944 0.158\n",
      "left  0.723 0.304\n",
      "right 0.858 0.208\n"
     ]
    },
    {
     "name": "stderr",
     "output_type": "stream",
     "text": [
      " 11%|█         | 43100/392536 [2:29:41<23:04:58,  4.21it/s]"
     ]
    },
    {
     "name": "stdout",
     "output_type": "stream",
     "text": [
      "face  0.944 0.158\n",
      "left  0.723 0.304\n",
      "right 0.858 0.208\n"
     ]
    },
    {
     "name": "stderr",
     "output_type": "stream",
     "text": [
      " 11%|█         | 43201/392536 [2:30:00<19:00:23,  5.11it/s]"
     ]
    },
    {
     "name": "stdout",
     "output_type": "stream",
     "text": [
      "face  0.944 0.158\n",
      "left  0.723 0.304\n",
      "right 0.858 0.208\n"
     ]
    },
    {
     "name": "stderr",
     "output_type": "stream",
     "text": [
      " 11%|█         | 43301/392536 [2:30:22<16:27:30,  5.89it/s]"
     ]
    },
    {
     "name": "stdout",
     "output_type": "stream",
     "text": [
      "face  0.944 0.158\n",
      "left  0.723 0.304\n",
      "right 0.858 0.208\n"
     ]
    },
    {
     "name": "stderr",
     "output_type": "stream",
     "text": [
      " 11%|█         | 43400/392536 [2:30:41<24:03:31,  4.03it/s]"
     ]
    },
    {
     "name": "stdout",
     "output_type": "stream",
     "text": [
      "face  0.944 0.158\n",
      "left  0.723 0.304\n",
      "right 0.858 0.208\n"
     ]
    },
    {
     "name": "stderr",
     "output_type": "stream",
     "text": [
      " 11%|█         | 43500/392536 [2:31:00<15:42:35,  6.17it/s]"
     ]
    },
    {
     "name": "stdout",
     "output_type": "stream",
     "text": [
      "face  0.944 0.158\n",
      "left  0.723 0.304\n",
      "right 0.858 0.208\n"
     ]
    },
    {
     "name": "stderr",
     "output_type": "stream",
     "text": [
      " 11%|█         | 43602/392536 [2:31:22<13:14:49,  7.32it/s]"
     ]
    },
    {
     "name": "stdout",
     "output_type": "stream",
     "text": [
      "face  0.944 0.158\n",
      "left  0.723 0.304\n",
      "right 0.858 0.208\n"
     ]
    },
    {
     "name": "stderr",
     "output_type": "stream",
     "text": [
      " 11%|█         | 43700/392536 [2:31:40<14:20:25,  6.76it/s]"
     ]
    },
    {
     "name": "stdout",
     "output_type": "stream",
     "text": [
      "face  0.944 0.158\n",
      "left  0.723 0.304\n",
      "right 0.858 0.208\n"
     ]
    },
    {
     "name": "stderr",
     "output_type": "stream",
     "text": [
      " 11%|█         | 43800/392536 [2:32:00<19:22:29,  5.00it/s]"
     ]
    },
    {
     "name": "stdout",
     "output_type": "stream",
     "text": [
      "face  0.944 0.158\n",
      "left  0.723 0.304\n",
      "right 0.858 0.208\n"
     ]
    },
    {
     "name": "stderr",
     "output_type": "stream",
     "text": [
      " 11%|█         | 43901/392536 [2:32:19<15:19:22,  6.32it/s]"
     ]
    },
    {
     "name": "stdout",
     "output_type": "stream",
     "text": [
      "face  0.944 0.158\n",
      "left  0.723 0.304\n",
      "right 0.858 0.208\n"
     ]
    },
    {
     "name": "stderr",
     "output_type": "stream",
     "text": [
      " 11%|█         | 44000/392536 [2:32:37<14:04:14,  6.88it/s]"
     ]
    },
    {
     "name": "stdout",
     "output_type": "stream",
     "text": [
      "face  0.944 0.158\n",
      "left  0.723 0.304\n",
      "right 0.858 0.208\n"
     ]
    },
    {
     "name": "stderr",
     "output_type": "stream",
     "text": [
      " 11%|█         | 44101/392536 [2:32:59<18:15:44,  5.30it/s]"
     ]
    },
    {
     "name": "stdout",
     "output_type": "stream",
     "text": [
      "face  0.944 0.158\n",
      "left  0.723 0.304\n",
      "right 0.858 0.208\n"
     ]
    },
    {
     "name": "stderr",
     "output_type": "stream",
     "text": [
      " 11%|█▏        | 44200/392536 [2:33:17<17:10:33,  5.63it/s]"
     ]
    },
    {
     "name": "stdout",
     "output_type": "stream",
     "text": [
      "face  0.944 0.158\n",
      "left  0.723 0.304\n",
      "right 0.858 0.208\n"
     ]
    },
    {
     "name": "stderr",
     "output_type": "stream",
     "text": [
      " 11%|█▏        | 44300/392536 [2:33:36<20:58:04,  4.61it/s]"
     ]
    },
    {
     "name": "stdout",
     "output_type": "stream",
     "text": [
      "face  0.944 0.158\n",
      "left  0.723 0.304\n",
      "right 0.858 0.208\n"
     ]
    },
    {
     "name": "stderr",
     "output_type": "stream",
     "text": [
      " 11%|█▏        | 44400/392536 [2:33:55<22:17:45,  4.34it/s]"
     ]
    },
    {
     "name": "stdout",
     "output_type": "stream",
     "text": [
      "face  0.944 0.158\n",
      "left  0.723 0.304\n",
      "right 0.858 0.208\n"
     ]
    },
    {
     "name": "stderr",
     "output_type": "stream",
     "text": [
      " 11%|█▏        | 44501/392536 [2:34:15<17:42:27,  5.46it/s]"
     ]
    },
    {
     "name": "stdout",
     "output_type": "stream",
     "text": [
      "face  0.944 0.158\n",
      "left  0.723 0.304\n",
      "right 0.858 0.208\n"
     ]
    },
    {
     "name": "stderr",
     "output_type": "stream",
     "text": [
      " 11%|█▏        | 44600/392536 [2:34:36<16:47:38,  5.75it/s]"
     ]
    },
    {
     "name": "stdout",
     "output_type": "stream",
     "text": [
      "face  0.944 0.158\n",
      "left  0.723 0.304\n",
      "right 0.858 0.208\n"
     ]
    },
    {
     "name": "stderr",
     "output_type": "stream",
     "text": [
      " 11%|█▏        | 44701/392536 [2:34:54<15:27:35,  6.25it/s]"
     ]
    },
    {
     "name": "stdout",
     "output_type": "stream",
     "text": [
      "face  0.944 0.158\n",
      "left  0.723 0.304\n",
      "right 0.858 0.208\n"
     ]
    },
    {
     "name": "stderr",
     "output_type": "stream",
     "text": [
      " 11%|█▏        | 44801/392536 [2:35:11<11:29:50,  8.40it/s]"
     ]
    },
    {
     "name": "stdout",
     "output_type": "stream",
     "text": [
      "face  0.944 0.158\n",
      "left  0.723 0.304\n",
      "right 0.858 0.208\n"
     ]
    },
    {
     "name": "stderr",
     "output_type": "stream",
     "text": [
      " 11%|█▏        | 44900/392536 [2:35:33<18:38:43,  5.18it/s]"
     ]
    },
    {
     "name": "stdout",
     "output_type": "stream",
     "text": [
      "face  0.944 0.158\n",
      "left  0.723 0.304\n",
      "right 0.858 0.208\n"
     ]
    },
    {
     "name": "stderr",
     "output_type": "stream",
     "text": [
      " 11%|█▏        | 45001/392536 [2:35:53<13:35:32,  7.10it/s]"
     ]
    },
    {
     "name": "stdout",
     "output_type": "stream",
     "text": [
      "face  0.944 0.158\n",
      "left  0.723 0.304\n",
      "right 0.858 0.208\n"
     ]
    },
    {
     "name": "stderr",
     "output_type": "stream",
     "text": [
      " 11%|█▏        | 45100/392536 [2:36:14<21:40:16,  4.45it/s]"
     ]
    },
    {
     "name": "stdout",
     "output_type": "stream",
     "text": [
      "face  0.944 0.158\n",
      "left  0.723 0.304\n",
      "right 0.858 0.208\n"
     ]
    },
    {
     "name": "stderr",
     "output_type": "stream",
     "text": [
      " 12%|█▏        | 45200/392536 [2:36:35<14:34:13,  6.62it/s]"
     ]
    },
    {
     "name": "stdout",
     "output_type": "stream",
     "text": [
      "face  0.944 0.158\n",
      "left  0.723 0.304\n",
      "right 0.858 0.208\n"
     ]
    },
    {
     "name": "stderr",
     "output_type": "stream",
     "text": [
      " 12%|█▏        | 45299/392536 [2:36:56<15:53:35,  6.07it/s]"
     ]
    },
    {
     "name": "stdout",
     "output_type": "stream",
     "text": [
      "face  0.944 0.158\n",
      "left  0.723 0.304\n",
      "right 0.858 0.208\n"
     ]
    },
    {
     "name": "stderr",
     "output_type": "stream",
     "text": [
      " 12%|█▏        | 45400/392536 [2:37:16<16:42:52,  5.77it/s]"
     ]
    },
    {
     "name": "stdout",
     "output_type": "stream",
     "text": [
      "face  0.944 0.158\n",
      "left  0.723 0.304\n",
      "right 0.858 0.208\n"
     ]
    },
    {
     "name": "stderr",
     "output_type": "stream",
     "text": [
      " 12%|█▏        | 45500/392536 [2:37:36<21:09:42,  4.56it/s]"
     ]
    },
    {
     "name": "stdout",
     "output_type": "stream",
     "text": [
      "face  0.944 0.158\n",
      "left  0.723 0.304\n",
      "right 0.858 0.208\n"
     ]
    },
    {
     "name": "stderr",
     "output_type": "stream",
     "text": [
      " 12%|█▏        | 45600/392536 [2:37:56<18:00:09,  5.35it/s]"
     ]
    },
    {
     "name": "stdout",
     "output_type": "stream",
     "text": [
      "face  0.944 0.158\n",
      "left  0.723 0.304\n",
      "right 0.858 0.208\n"
     ]
    },
    {
     "name": "stderr",
     "output_type": "stream",
     "text": [
      " 12%|█▏        | 45701/392536 [2:38:17<17:16:13,  5.58it/s]"
     ]
    },
    {
     "name": "stdout",
     "output_type": "stream",
     "text": [
      "face  0.944 0.158\n",
      "left  0.723 0.304\n",
      "right 0.858 0.208\n"
     ]
    },
    {
     "name": "stderr",
     "output_type": "stream",
     "text": [
      " 12%|█▏        | 45800/392536 [2:38:36<16:06:45,  5.98it/s]"
     ]
    },
    {
     "name": "stdout",
     "output_type": "stream",
     "text": [
      "face  0.944 0.158\n",
      "left  0.723 0.304\n",
      "right 0.858 0.208\n"
     ]
    },
    {
     "name": "stderr",
     "output_type": "stream",
     "text": [
      " 12%|█▏        | 45901/392536 [2:38:55<12:18:18,  7.82it/s]"
     ]
    },
    {
     "name": "stdout",
     "output_type": "stream",
     "text": [
      "face  0.944 0.158\n",
      "left  0.723 0.304\n",
      "right 0.858 0.208\n"
     ]
    },
    {
     "name": "stderr",
     "output_type": "stream",
     "text": [
      " 12%|█▏        | 46001/392536 [2:39:14<16:55:59,  5.68it/s]"
     ]
    },
    {
     "name": "stdout",
     "output_type": "stream",
     "text": [
      "face  0.944 0.158\n",
      "left  0.723 0.304\n",
      "right 0.858 0.208\n"
     ]
    },
    {
     "name": "stderr",
     "output_type": "stream",
     "text": [
      " 12%|█▏        | 46100/392536 [2:39:34<14:49:37,  6.49it/s]"
     ]
    },
    {
     "name": "stdout",
     "output_type": "stream",
     "text": [
      "face  0.944 0.158\n",
      "left  0.723 0.304\n",
      "right 0.858 0.208\n"
     ]
    },
    {
     "name": "stderr",
     "output_type": "stream",
     "text": [
      " 12%|█▏        | 46202/392536 [2:39:54<17:08:02,  5.61it/s]"
     ]
    },
    {
     "name": "stdout",
     "output_type": "stream",
     "text": [
      "face  0.944 0.158\n",
      "left  0.723 0.304\n",
      "right 0.858 0.208\n"
     ]
    },
    {
     "name": "stderr",
     "output_type": "stream",
     "text": [
      " 12%|█▏        | 46301/392536 [2:40:13<19:13:35,  5.00it/s]"
     ]
    },
    {
     "name": "stdout",
     "output_type": "stream",
     "text": [
      "face  0.944 0.158\n",
      "left  0.723 0.304\n",
      "right 0.858 0.208\n"
     ]
    },
    {
     "name": "stderr",
     "output_type": "stream",
     "text": [
      " 12%|█▏        | 46400/392536 [2:40:30<15:33:15,  6.18it/s]"
     ]
    },
    {
     "name": "stdout",
     "output_type": "stream",
     "text": [
      "face  0.944 0.158\n",
      "left  0.723 0.304\n",
      "right 0.858 0.208\n"
     ]
    },
    {
     "name": "stderr",
     "output_type": "stream",
     "text": [
      " 12%|█▏        | 46501/392536 [2:40:51<21:23:40,  4.49it/s]"
     ]
    },
    {
     "name": "stdout",
     "output_type": "stream",
     "text": [
      "face  0.944 0.158\n",
      "left  0.723 0.304\n",
      "right 0.858 0.208\n"
     ]
    },
    {
     "name": "stderr",
     "output_type": "stream",
     "text": [
      " 12%|█▏        | 46600/392536 [2:41:12<14:46:53,  6.50it/s]"
     ]
    },
    {
     "name": "stdout",
     "output_type": "stream",
     "text": [
      "face  0.944 0.158\n",
      "left  0.724 0.304\n",
      "right 0.858 0.208\n"
     ]
    },
    {
     "name": "stderr",
     "output_type": "stream",
     "text": [
      " 12%|█▏        | 46701/392536 [2:41:32<18:07:38,  5.30it/s]"
     ]
    },
    {
     "name": "stdout",
     "output_type": "stream",
     "text": [
      "face  0.944 0.158\n",
      "left  0.724 0.304\n",
      "right 0.858 0.208\n"
     ]
    },
    {
     "name": "stderr",
     "output_type": "stream",
     "text": [
      " 12%|█▏        | 46801/392536 [2:41:52<21:40:48,  4.43it/s]"
     ]
    },
    {
     "name": "stdout",
     "output_type": "stream",
     "text": [
      "face  0.944 0.158\n",
      "left  0.724 0.304\n",
      "right 0.858 0.208\n"
     ]
    },
    {
     "name": "stderr",
     "output_type": "stream",
     "text": [
      " 12%|█▏        | 46900/392536 [2:42:15<22:31:24,  4.26it/s]"
     ]
    },
    {
     "name": "stdout",
     "output_type": "stream",
     "text": [
      "face  0.944 0.158\n",
      "left  0.724 0.304\n",
      "right 0.858 0.208\n"
     ]
    },
    {
     "name": "stderr",
     "output_type": "stream",
     "text": [
      " 12%|█▏        | 47001/392536 [2:42:36<20:24:32,  4.70it/s]"
     ]
    },
    {
     "name": "stdout",
     "output_type": "stream",
     "text": [
      "face  0.944 0.158\n",
      "left  0.724 0.304\n",
      "right 0.858 0.208\n"
     ]
    },
    {
     "name": "stderr",
     "output_type": "stream",
     "text": [
      " 12%|█▏        | 47101/392536 [2:42:56<18:07:19,  5.29it/s]"
     ]
    },
    {
     "name": "stdout",
     "output_type": "stream",
     "text": [
      "face  0.944 0.158\n",
      "left  0.724 0.304\n",
      "right 0.858 0.208\n"
     ]
    },
    {
     "name": "stderr",
     "output_type": "stream",
     "text": [
      " 12%|█▏        | 47201/392536 [2:43:16<17:59:37,  5.33it/s]"
     ]
    },
    {
     "name": "stdout",
     "output_type": "stream",
     "text": [
      "face  0.944 0.158\n",
      "left  0.724 0.304\n",
      "right 0.858 0.208\n"
     ]
    },
    {
     "name": "stderr",
     "output_type": "stream",
     "text": [
      " 12%|█▏        | 47301/392536 [2:43:35<19:39:54,  4.88it/s]"
     ]
    },
    {
     "name": "stdout",
     "output_type": "stream",
     "text": [
      "face  0.944 0.158\n",
      "left  0.724 0.304\n",
      "right 0.858 0.208\n"
     ]
    },
    {
     "name": "stderr",
     "output_type": "stream",
     "text": [
      " 12%|█▏        | 47400/392536 [2:43:53<19:59:02,  4.80it/s]"
     ]
    },
    {
     "name": "stdout",
     "output_type": "stream",
     "text": [
      "face  0.944 0.158\n",
      "left  0.724 0.304\n",
      "right 0.858 0.208\n"
     ]
    },
    {
     "name": "stderr",
     "output_type": "stream",
     "text": [
      " 12%|█▏        | 47500/392536 [2:44:16<22:51:39,  4.19it/s]"
     ]
    },
    {
     "name": "stdout",
     "output_type": "stream",
     "text": [
      "face  0.944 0.158\n",
      "left  0.724 0.304\n",
      "right 0.858 0.208\n"
     ]
    },
    {
     "name": "stderr",
     "output_type": "stream",
     "text": [
      " 12%|█▏        | 47601/392536 [2:44:39<15:32:47,  6.16it/s]"
     ]
    },
    {
     "name": "stdout",
     "output_type": "stream",
     "text": [
      "face  0.944 0.158\n",
      "left  0.724 0.304\n",
      "right 0.858 0.208\n"
     ]
    },
    {
     "name": "stderr",
     "output_type": "stream",
     "text": [
      " 12%|█▏        | 47701/392536 [2:44:59<19:07:54,  5.01it/s]"
     ]
    },
    {
     "name": "stdout",
     "output_type": "stream",
     "text": [
      "face  0.944 0.158\n",
      "left  0.724 0.304\n",
      "right 0.858 0.208\n"
     ]
    },
    {
     "name": "stderr",
     "output_type": "stream",
     "text": [
      " 12%|█▏        | 47800/392536 [2:45:19<20:53:07,  4.59it/s]"
     ]
    },
    {
     "name": "stdout",
     "output_type": "stream",
     "text": [
      "face  0.944 0.158\n",
      "left  0.724 0.304\n",
      "right 0.858 0.208\n"
     ]
    },
    {
     "name": "stderr",
     "output_type": "stream",
     "text": [
      " 12%|█▏        | 47900/392536 [2:45:37<12:44:54,  7.51it/s]"
     ]
    },
    {
     "name": "stdout",
     "output_type": "stream",
     "text": [
      "face  0.944 0.158\n",
      "left  0.724 0.304\n",
      "right 0.858 0.208\n"
     ]
    },
    {
     "name": "stderr",
     "output_type": "stream",
     "text": [
      " 12%|█▏        | 47999/392536 [2:45:58<17:41:21,  5.41it/s]"
     ]
    },
    {
     "name": "stdout",
     "output_type": "stream",
     "text": [
      "face  0.944 0.158\n",
      "left  0.724 0.304\n",
      "right 0.858 0.208\n"
     ]
    },
    {
     "name": "stderr",
     "output_type": "stream",
     "text": [
      " 12%|█▏        | 48101/392536 [2:46:19<22:17:53,  4.29it/s]"
     ]
    },
    {
     "name": "stdout",
     "output_type": "stream",
     "text": [
      "face  0.943 0.158\n",
      "left  0.724 0.304\n",
      "right 0.858 0.208\n"
     ]
    },
    {
     "name": "stderr",
     "output_type": "stream",
     "text": [
      " 12%|█▏        | 48201/392536 [2:46:37<16:22:34,  5.84it/s]"
     ]
    },
    {
     "name": "stdout",
     "output_type": "stream",
     "text": [
      "face  0.943 0.159\n",
      "left  0.724 0.304\n",
      "right 0.858 0.208\n"
     ]
    },
    {
     "name": "stderr",
     "output_type": "stream",
     "text": [
      " 12%|█▏        | 48300/392536 [2:46:57<23:30:42,  4.07it/s]"
     ]
    },
    {
     "name": "stdout",
     "output_type": "stream",
     "text": [
      "face  0.943 0.159\n",
      "left  0.724 0.304\n",
      "right 0.858 0.208\n"
     ]
    },
    {
     "name": "stderr",
     "output_type": "stream",
     "text": [
      " 12%|█▏        | 48401/392536 [2:47:17<14:24:24,  6.64it/s]"
     ]
    },
    {
     "name": "stdout",
     "output_type": "stream",
     "text": [
      "face  0.943 0.159\n",
      "left  0.724 0.304\n",
      "right 0.858 0.208\n"
     ]
    },
    {
     "name": "stderr",
     "output_type": "stream",
     "text": [
      " 12%|█▏        | 48500/392536 [2:47:36<17:44:19,  5.39it/s]"
     ]
    },
    {
     "name": "stdout",
     "output_type": "stream",
     "text": [
      "face  0.943 0.159\n",
      "left  0.724 0.304\n",
      "right 0.858 0.208\n"
     ]
    },
    {
     "name": "stderr",
     "output_type": "stream",
     "text": [
      " 12%|█▏        | 48600/392536 [2:47:56<17:15:10,  5.54it/s]"
     ]
    },
    {
     "name": "stdout",
     "output_type": "stream",
     "text": [
      "face  0.943 0.159\n",
      "left  0.724 0.304\n",
      "right 0.858 0.208\n"
     ]
    },
    {
     "name": "stderr",
     "output_type": "stream",
     "text": [
      " 12%|█▏        | 48701/392536 [2:48:18<18:23:22,  5.19it/s]"
     ]
    },
    {
     "name": "stdout",
     "output_type": "stream",
     "text": [
      "face  0.943 0.158\n",
      "left  0.724 0.304\n",
      "right 0.858 0.208\n"
     ]
    },
    {
     "name": "stderr",
     "output_type": "stream",
     "text": [
      " 12%|█▏        | 48801/392536 [2:48:41<14:55:12,  6.40it/s]"
     ]
    },
    {
     "name": "stdout",
     "output_type": "stream",
     "text": [
      "face  0.944 0.158\n",
      "left  0.724 0.304\n",
      "right 0.858 0.208\n"
     ]
    },
    {
     "name": "stderr",
     "output_type": "stream",
     "text": [
      " 12%|█▏        | 48901/392536 [2:49:04<28:02:41,  3.40it/s]"
     ]
    },
    {
     "name": "stdout",
     "output_type": "stream",
     "text": [
      "face  0.944 0.158\n",
      "left  0.724 0.304\n",
      "right 0.858 0.208\n"
     ]
    },
    {
     "name": "stderr",
     "output_type": "stream",
     "text": [
      " 12%|█▏        | 49002/392536 [2:49:25<15:33:01,  6.14it/s]"
     ]
    },
    {
     "name": "stdout",
     "output_type": "stream",
     "text": [
      "face  0.944 0.158\n",
      "left  0.724 0.304\n",
      "right 0.858 0.208\n"
     ]
    },
    {
     "name": "stderr",
     "output_type": "stream",
     "text": [
      " 13%|█▎        | 49100/392536 [2:49:44<24:26:13,  3.90it/s]"
     ]
    },
    {
     "name": "stdout",
     "output_type": "stream",
     "text": [
      "face  0.944 0.158\n",
      "left  0.724 0.304\n",
      "right 0.858 0.208\n"
     ]
    },
    {
     "name": "stderr",
     "output_type": "stream",
     "text": [
      " 13%|█▎        | 49201/392536 [2:50:05<15:50:01,  6.02it/s]"
     ]
    },
    {
     "name": "stdout",
     "output_type": "stream",
     "text": [
      "face  0.943 0.159\n",
      "left  0.724 0.304\n",
      "right 0.858 0.208\n"
     ]
    },
    {
     "name": "stderr",
     "output_type": "stream",
     "text": [
      " 13%|█▎        | 49300/392536 [2:50:24<20:32:04,  4.64it/s]"
     ]
    },
    {
     "name": "stdout",
     "output_type": "stream",
     "text": [
      "face  0.943 0.158\n",
      "left  0.724 0.304\n",
      "right 0.858 0.208\n"
     ]
    },
    {
     "name": "stderr",
     "output_type": "stream",
     "text": [
      " 13%|█▎        | 49399/392536 [2:50:45<20:46:58,  4.59it/s]"
     ]
    },
    {
     "name": "stdout",
     "output_type": "stream",
     "text": [
      "face  0.943 0.159\n",
      "left  0.724 0.304\n",
      "right 0.858 0.208\n"
     ]
    },
    {
     "name": "stderr",
     "output_type": "stream",
     "text": [
      " 13%|█▎        | 49501/392536 [2:51:04<14:33:45,  6.54it/s]"
     ]
    },
    {
     "name": "stdout",
     "output_type": "stream",
     "text": [
      "face  0.943 0.159\n",
      "left  0.724 0.304\n",
      "right 0.858 0.208\n"
     ]
    },
    {
     "name": "stderr",
     "output_type": "stream",
     "text": [
      " 13%|█▎        | 49601/392536 [2:51:22<14:20:52,  6.64it/s]"
     ]
    },
    {
     "name": "stdout",
     "output_type": "stream",
     "text": [
      "face  0.943 0.159\n",
      "left  0.724 0.304\n",
      "right 0.858 0.208\n"
     ]
    },
    {
     "name": "stderr",
     "output_type": "stream",
     "text": [
      " 13%|█▎        | 49701/392536 [2:51:40<16:26:33,  5.79it/s]"
     ]
    },
    {
     "name": "stdout",
     "output_type": "stream",
     "text": [
      "face  0.943 0.159\n",
      "left  0.724 0.304\n",
      "right 0.858 0.208\n"
     ]
    },
    {
     "name": "stderr",
     "output_type": "stream",
     "text": [
      " 13%|█▎        | 50301/392536 [2:53:43<18:05:42,  5.25it/s]"
     ]
    },
    {
     "name": "stdout",
     "output_type": "stream",
     "text": [
      "face  0.943 0.159\n",
      "left  0.724 0.304\n",
      "right 0.858 0.208\n"
     ]
    },
    {
     "name": "stderr",
     "output_type": "stream",
     "text": [
      " 13%|█▎        | 50400/392536 [2:54:04<16:12:59,  5.86it/s]"
     ]
    },
    {
     "name": "stdout",
     "output_type": "stream",
     "text": [
      "face  0.943 0.159\n",
      "left  0.724 0.304\n",
      "right 0.858 0.208\n"
     ]
    },
    {
     "name": "stderr",
     "output_type": "stream",
     "text": [
      " 13%|█▎        | 50501/392536 [2:54:26<19:51:13,  4.79it/s]"
     ]
    },
    {
     "name": "stdout",
     "output_type": "stream",
     "text": [
      "face  0.943 0.159\n",
      "left  0.724 0.304\n",
      "right 0.858 0.208\n"
     ]
    },
    {
     "name": "stderr",
     "output_type": "stream",
     "text": [
      " 13%|█▎        | 50601/392536 [2:54:47<16:48:48,  5.65it/s]"
     ]
    },
    {
     "name": "stdout",
     "output_type": "stream",
     "text": [
      "face  0.943 0.159\n",
      "left  0.724 0.304\n",
      "right 0.858 0.208\n"
     ]
    },
    {
     "name": "stderr",
     "output_type": "stream",
     "text": [
      " 13%|█▎        | 50701/392536 [2:55:08<12:14:09,  7.76it/s]"
     ]
    },
    {
     "name": "stdout",
     "output_type": "stream",
     "text": [
      "face  0.943 0.159\n",
      "left  0.724 0.304\n",
      "right 0.858 0.208\n"
     ]
    },
    {
     "name": "stderr",
     "output_type": "stream",
     "text": [
      " 13%|█▎        | 50800/392536 [2:55:26<17:38:16,  5.38it/s]"
     ]
    },
    {
     "name": "stdout",
     "output_type": "stream",
     "text": [
      "face  0.943 0.159\n",
      "left  0.724 0.304\n",
      "right 0.858 0.208\n"
     ]
    },
    {
     "name": "stderr",
     "output_type": "stream",
     "text": [
      " 13%|█▎        | 50900/392536 [2:55:45<18:47:44,  5.05it/s]"
     ]
    },
    {
     "name": "stdout",
     "output_type": "stream",
     "text": [
      "face  0.943 0.159\n",
      "left  0.725 0.303\n",
      "right 0.858 0.207\n"
     ]
    },
    {
     "name": "stderr",
     "output_type": "stream",
     "text": [
      " 13%|█▎        | 51001/392536 [2:56:07<18:50:59,  5.03it/s]"
     ]
    },
    {
     "name": "stdout",
     "output_type": "stream",
     "text": [
      "face  0.943 0.159\n",
      "left  0.725 0.303\n",
      "right 0.858 0.207\n"
     ]
    },
    {
     "name": "stderr",
     "output_type": "stream",
     "text": [
      " 13%|█▎        | 51100/392536 [2:56:28<20:06:42,  4.72it/s]"
     ]
    },
    {
     "name": "stdout",
     "output_type": "stream",
     "text": [
      "face  0.943 0.159\n",
      "left  0.725 0.303\n",
      "right 0.858 0.207\n"
     ]
    },
    {
     "name": "stderr",
     "output_type": "stream",
     "text": [
      " 13%|█▎        | 51199/392536 [2:56:51<20:43:29,  4.57it/s]"
     ]
    },
    {
     "name": "stdout",
     "output_type": "stream",
     "text": [
      "face  0.943 0.159\n",
      "left  0.725 0.303\n",
      "right 0.858 0.207\n"
     ]
    },
    {
     "name": "stderr",
     "output_type": "stream",
     "text": [
      " 13%|█▎        | 51301/392536 [2:57:11<24:43:12,  3.83it/s]"
     ]
    },
    {
     "name": "stdout",
     "output_type": "stream",
     "text": [
      "face  0.943 0.159\n",
      "left  0.725 0.303\n",
      "right 0.859 0.207\n"
     ]
    },
    {
     "name": "stderr",
     "output_type": "stream",
     "text": [
      " 13%|█▎        | 51402/392536 [2:57:34<14:54:45,  6.35it/s]"
     ]
    },
    {
     "name": "stdout",
     "output_type": "stream",
     "text": [
      "face  0.943 0.159\n",
      "left  0.725 0.304\n",
      "right 0.858 0.207\n"
     ]
    },
    {
     "name": "stderr",
     "output_type": "stream",
     "text": [
      " 13%|█▎        | 51500/392536 [2:57:52<16:01:42,  5.91it/s]"
     ]
    },
    {
     "name": "stdout",
     "output_type": "stream",
     "text": [
      "face  0.943 0.159\n",
      "left  0.725 0.304\n",
      "right 0.858 0.207\n"
     ]
    },
    {
     "name": "stderr",
     "output_type": "stream",
     "text": [
      " 13%|█▎        | 51600/392536 [2:58:12<20:12:50,  4.69it/s]"
     ]
    },
    {
     "name": "stdout",
     "output_type": "stream",
     "text": [
      "face  0.943 0.159\n",
      "left  0.725 0.303\n",
      "right 0.858 0.207\n"
     ]
    },
    {
     "name": "stderr",
     "output_type": "stream",
     "text": [
      " 13%|█▎        | 51701/392536 [2:58:36<30:58:23,  3.06it/s]"
     ]
    },
    {
     "name": "stdout",
     "output_type": "stream",
     "text": [
      "face  0.943 0.159\n",
      "left  0.725 0.303\n",
      "right 0.858 0.207\n"
     ]
    },
    {
     "name": "stderr",
     "output_type": "stream",
     "text": [
      " 13%|█▎        | 51801/392536 [2:58:56<19:42:36,  4.80it/s]"
     ]
    },
    {
     "name": "stdout",
     "output_type": "stream",
     "text": [
      "face  0.943 0.159\n",
      "left  0.725 0.303\n",
      "right 0.858 0.207\n"
     ]
    },
    {
     "name": "stderr",
     "output_type": "stream",
     "text": [
      " 13%|█▎        | 51899/392536 [2:59:17<15:36:09,  6.06it/s]"
     ]
    },
    {
     "name": "stdout",
     "output_type": "stream",
     "text": [
      "face  0.943 0.159\n",
      "left  0.725 0.304\n",
      "right 0.858 0.207\n"
     ]
    },
    {
     "name": "stderr",
     "output_type": "stream",
     "text": [
      " 13%|█▎        | 52001/392536 [2:59:38<18:52:29,  5.01it/s]"
     ]
    },
    {
     "name": "stdout",
     "output_type": "stream",
     "text": [
      "face  0.943 0.159\n",
      "left  0.725 0.304\n",
      "right 0.858 0.207\n"
     ]
    },
    {
     "name": "stderr",
     "output_type": "stream",
     "text": [
      " 13%|█▎        | 52100/392536 [2:59:56<19:59:22,  4.73it/s]"
     ]
    },
    {
     "name": "stdout",
     "output_type": "stream",
     "text": [
      "face  0.943 0.159\n",
      "left  0.724 0.304\n",
      "right 0.858 0.207\n"
     ]
    },
    {
     "name": "stderr",
     "output_type": "stream",
     "text": [
      " 13%|█▎        | 52200/392536 [3:00:17<15:07:15,  6.25it/s]"
     ]
    },
    {
     "name": "stdout",
     "output_type": "stream",
     "text": [
      "face  0.943 0.159\n",
      "left  0.725 0.304\n",
      "right 0.858 0.207\n"
     ]
    },
    {
     "name": "stderr",
     "output_type": "stream",
     "text": [
      " 13%|█▎        | 52300/392536 [3:00:39<19:17:17,  4.90it/s]"
     ]
    },
    {
     "name": "stdout",
     "output_type": "stream",
     "text": [
      "face  0.943 0.159\n",
      "left  0.724 0.304\n",
      "right 0.858 0.207\n"
     ]
    },
    {
     "name": "stderr",
     "output_type": "stream",
     "text": [
      " 13%|█▎        | 52400/392536 [3:00:58<14:42:58,  6.42it/s]"
     ]
    },
    {
     "name": "stdout",
     "output_type": "stream",
     "text": [
      "face  0.943 0.159\n",
      "left  0.725 0.304\n",
      "right 0.858 0.207\n"
     ]
    },
    {
     "name": "stderr",
     "output_type": "stream",
     "text": [
      " 13%|█▎        | 52501/392536 [3:01:20<17:28:07,  5.41it/s]"
     ]
    },
    {
     "name": "stdout",
     "output_type": "stream",
     "text": [
      "face  0.943 0.159\n",
      "left  0.725 0.304\n",
      "right 0.858 0.207\n"
     ]
    },
    {
     "name": "stderr",
     "output_type": "stream",
     "text": [
      " 13%|█▎        | 52599/392536 [3:01:36<15:39:32,  6.03it/s]"
     ]
    },
    {
     "name": "stdout",
     "output_type": "stream",
     "text": [
      "face  0.943 0.159\n",
      "left  0.725 0.304\n",
      "right 0.858 0.207\n"
     ]
    },
    {
     "name": "stderr",
     "output_type": "stream",
     "text": [
      " 13%|█▎        | 52701/392536 [3:01:56<16:46:14,  5.63it/s]"
     ]
    },
    {
     "name": "stdout",
     "output_type": "stream",
     "text": [
      "face  0.943 0.159\n",
      "left  0.725 0.304\n",
      "right 0.858 0.207\n"
     ]
    },
    {
     "name": "stderr",
     "output_type": "stream",
     "text": [
      " 13%|█▎        | 52800/392536 [3:02:13<19:37:52,  4.81it/s]"
     ]
    },
    {
     "name": "stdout",
     "output_type": "stream",
     "text": [
      "face  0.944 0.158\n",
      "left  0.724 0.304\n",
      "right 0.859 0.207\n"
     ]
    },
    {
     "name": "stderr",
     "output_type": "stream",
     "text": [
      " 13%|█▎        | 52900/392536 [3:02:33<21:44:25,  4.34it/s]"
     ]
    },
    {
     "name": "stdout",
     "output_type": "stream",
     "text": [
      "face  0.944 0.158\n",
      "left  0.725 0.304\n",
      "right 0.859 0.207\n"
     ]
    },
    {
     "name": "stderr",
     "output_type": "stream",
     "text": [
      " 14%|█▎        | 53001/392536 [3:02:52<19:04:38,  4.94it/s]"
     ]
    },
    {
     "name": "stdout",
     "output_type": "stream",
     "text": [
      "face  0.943 0.159\n",
      "left  0.725 0.304\n",
      "right 0.859 0.207\n"
     ]
    },
    {
     "name": "stderr",
     "output_type": "stream",
     "text": [
      " 14%|█▎        | 53100/392536 [3:03:11<18:04:19,  5.22it/s]"
     ]
    },
    {
     "name": "stdout",
     "output_type": "stream",
     "text": [
      "face  0.943 0.159\n",
      "left  0.724 0.304\n",
      "right 0.859 0.207\n"
     ]
    },
    {
     "name": "stderr",
     "output_type": "stream",
     "text": [
      " 14%|█▎        | 53199/392536 [3:03:32<16:17:37,  5.79it/s]"
     ]
    },
    {
     "name": "stdout",
     "output_type": "stream",
     "text": [
      "face  0.943 0.159\n",
      "left  0.725 0.304\n",
      "right 0.859 0.207\n"
     ]
    },
    {
     "name": "stderr",
     "output_type": "stream",
     "text": [
      " 14%|█▎        | 53300/392536 [3:03:52<17:18:28,  5.44it/s]"
     ]
    },
    {
     "name": "stdout",
     "output_type": "stream",
     "text": [
      "face  0.943 0.159\n",
      "left  0.725 0.304\n",
      "right 0.859 0.207\n"
     ]
    },
    {
     "name": "stderr",
     "output_type": "stream",
     "text": [
      " 14%|█▎        | 53401/392536 [3:04:12<16:16:00,  5.79it/s]"
     ]
    },
    {
     "name": "stdout",
     "output_type": "stream",
     "text": [
      "face  0.944 0.158\n",
      "left  0.725 0.304\n",
      "right 0.859 0.207\n"
     ]
    },
    {
     "name": "stderr",
     "output_type": "stream",
     "text": [
      " 14%|█▎        | 53500/392536 [3:04:31<13:50:52,  6.80it/s]"
     ]
    },
    {
     "name": "stdout",
     "output_type": "stream",
     "text": [
      "face  0.944 0.158\n",
      "left  0.725 0.304\n",
      "right 0.859 0.207\n"
     ]
    },
    {
     "name": "stderr",
     "output_type": "stream",
     "text": [
      " 14%|█▎        | 53600/392536 [3:04:51<14:10:33,  6.64it/s]"
     ]
    },
    {
     "name": "stdout",
     "output_type": "stream",
     "text": [
      "face  0.944 0.158\n",
      "left  0.725 0.304\n",
      "right 0.859 0.207\n"
     ]
    },
    {
     "name": "stderr",
     "output_type": "stream",
     "text": [
      " 14%|█▎        | 53700/392536 [3:05:12<22:07:55,  4.25it/s]"
     ]
    },
    {
     "name": "stdout",
     "output_type": "stream",
     "text": [
      "face  0.944 0.158\n",
      "left  0.725 0.304\n",
      "right 0.859 0.207\n"
     ]
    },
    {
     "name": "stderr",
     "output_type": "stream",
     "text": [
      " 14%|█▎        | 53801/392536 [3:05:32<16:34:50,  5.67it/s]"
     ]
    },
    {
     "name": "stdout",
     "output_type": "stream",
     "text": [
      "face  0.944 0.158\n",
      "left  0.725 0.304\n",
      "right 0.859 0.207\n"
     ]
    },
    {
     "name": "stderr",
     "output_type": "stream",
     "text": [
      " 14%|█▎        | 53901/392536 [3:05:51<18:25:25,  5.11it/s]"
     ]
    },
    {
     "name": "stdout",
     "output_type": "stream",
     "text": [
      "face  0.944 0.158\n",
      "left  0.725 0.304\n",
      "right 0.859 0.207\n"
     ]
    },
    {
     "name": "stderr",
     "output_type": "stream",
     "text": [
      " 14%|█▍        | 54000/392536 [3:06:15<21:29:33,  4.38it/s]"
     ]
    },
    {
     "name": "stdout",
     "output_type": "stream",
     "text": [
      "face  0.944 0.159\n",
      "left  0.725 0.304\n",
      "right 0.859 0.207\n"
     ]
    },
    {
     "name": "stderr",
     "output_type": "stream",
     "text": [
      " 14%|█▍        | 54701/392536 [3:08:35<25:13:50,  3.72it/s]"
     ]
    },
    {
     "name": "stdout",
     "output_type": "stream",
     "text": [
      "face  0.943 0.159\n",
      "left  0.725 0.303\n",
      "right 0.859 0.207\n"
     ]
    },
    {
     "name": "stderr",
     "output_type": "stream",
     "text": [
      " 14%|█▍        | 54800/392536 [3:08:57<13:54:12,  6.75it/s]"
     ]
    },
    {
     "name": "stdout",
     "output_type": "stream",
     "text": [
      "face  0.943 0.159\n",
      "left  0.725 0.304\n",
      "right 0.859 0.207\n"
     ]
    },
    {
     "name": "stderr",
     "output_type": "stream",
     "text": [
      " 14%|█▍        | 54900/392536 [3:09:19<20:59:25,  4.47it/s]"
     ]
    },
    {
     "name": "stdout",
     "output_type": "stream",
     "text": [
      "face  0.943 0.159\n",
      "left  0.725 0.303\n",
      "right 0.859 0.207\n"
     ]
    },
    {
     "name": "stderr",
     "output_type": "stream",
     "text": [
      " 14%|█▍        | 55000/392536 [3:09:39<27:10:04,  3.45it/s]"
     ]
    },
    {
     "name": "stdout",
     "output_type": "stream",
     "text": [
      "face  0.943 0.159\n",
      "left  0.725 0.303\n",
      "right 0.859 0.207\n"
     ]
    },
    {
     "name": "stderr",
     "output_type": "stream",
     "text": [
      " 14%|█▍        | 55100/392536 [3:09:58<15:23:31,  6.09it/s]"
     ]
    },
    {
     "name": "stdout",
     "output_type": "stream",
     "text": [
      "face  0.943 0.159\n",
      "left  0.725 0.303\n",
      "right 0.859 0.207\n"
     ]
    },
    {
     "name": "stderr",
     "output_type": "stream",
     "text": [
      " 14%|█▍        | 55200/392536 [3:10:16<16:29:58,  5.68it/s]"
     ]
    },
    {
     "name": "stdout",
     "output_type": "stream",
     "text": [
      "face  0.943 0.159\n",
      "left  0.725 0.303\n",
      "right 0.859 0.207\n"
     ]
    },
    {
     "name": "stderr",
     "output_type": "stream",
     "text": [
      " 14%|█▍        | 55301/392536 [3:10:37<15:02:02,  6.23it/s]"
     ]
    },
    {
     "name": "stdout",
     "output_type": "stream",
     "text": [
      "face  0.943 0.159\n",
      "left  0.725 0.303\n",
      "right 0.859 0.207\n"
     ]
    },
    {
     "name": "stderr",
     "output_type": "stream",
     "text": [
      " 14%|█▍        | 55401/392536 [3:10:57<17:03:28,  5.49it/s]"
     ]
    },
    {
     "name": "stdout",
     "output_type": "stream",
     "text": [
      "face  0.943 0.159\n",
      "left  0.725 0.303\n",
      "right 0.859 0.207\n"
     ]
    },
    {
     "name": "stderr",
     "output_type": "stream",
     "text": [
      " 14%|█▍        | 55500/392536 [3:11:17<26:43:17,  3.50it/s]"
     ]
    },
    {
     "name": "stdout",
     "output_type": "stream",
     "text": [
      "face  0.943 0.159\n",
      "left  0.725 0.303\n",
      "right 0.858 0.207\n"
     ]
    },
    {
     "name": "stderr",
     "output_type": "stream",
     "text": [
      " 14%|█▍        | 55601/392536 [3:11:39<18:54:34,  4.95it/s]"
     ]
    },
    {
     "name": "stdout",
     "output_type": "stream",
     "text": [
      "face  0.943 0.159\n",
      "left  0.725 0.303\n",
      "right 0.858 0.207\n"
     ]
    },
    {
     "name": "stderr",
     "output_type": "stream",
     "text": [
      " 14%|█▍        | 55700/392536 [3:12:02<21:47:14,  4.29it/s]"
     ]
    },
    {
     "name": "stdout",
     "output_type": "stream",
     "text": [
      "face  0.943 0.159\n",
      "left  0.725 0.303\n",
      "right 0.859 0.207\n"
     ]
    },
    {
     "name": "stderr",
     "output_type": "stream",
     "text": [
      " 14%|█▍        | 55800/392536 [3:12:23<33:47:38,  2.77it/s]"
     ]
    },
    {
     "name": "stdout",
     "output_type": "stream",
     "text": [
      "face  0.943 0.159\n",
      "left  0.725 0.303\n",
      "right 0.859 0.207\n"
     ]
    },
    {
     "name": "stderr",
     "output_type": "stream",
     "text": [
      " 14%|█▍        | 55901/392536 [3:12:45<15:46:57,  5.92it/s]"
     ]
    },
    {
     "name": "stdout",
     "output_type": "stream",
     "text": [
      "face  0.943 0.159\n",
      "left  0.725 0.303\n",
      "right 0.859 0.207\n"
     ]
    },
    {
     "name": "stderr",
     "output_type": "stream",
     "text": [
      " 14%|█▍        | 56001/392536 [3:13:04<16:07:17,  5.80it/s]"
     ]
    },
    {
     "name": "stdout",
     "output_type": "stream",
     "text": [
      "face  0.943 0.159\n",
      "left  0.725 0.303\n",
      "right 0.859 0.207\n"
     ]
    },
    {
     "name": "stderr",
     "output_type": "stream",
     "text": [
      " 14%|█▍        | 56101/392536 [3:13:24<18:52:58,  4.95it/s]"
     ]
    },
    {
     "name": "stdout",
     "output_type": "stream",
     "text": [
      "face  0.943 0.158\n",
      "left  0.725 0.303\n",
      "right 0.859 0.207\n"
     ]
    },
    {
     "name": "stderr",
     "output_type": "stream",
     "text": [
      " 14%|█▍        | 56200/392536 [3:13:47<19:56:02,  4.69it/s]"
     ]
    },
    {
     "name": "stdout",
     "output_type": "stream",
     "text": [
      "face  0.944 0.158\n",
      "left  0.725 0.303\n",
      "right 0.859 0.207\n"
     ]
    },
    {
     "name": "stderr",
     "output_type": "stream",
     "text": [
      " 14%|█▍        | 56300/392536 [3:14:10<27:24:37,  3.41it/s]"
     ]
    },
    {
     "name": "stdout",
     "output_type": "stream",
     "text": [
      "face  0.944 0.158\n",
      "left  0.725 0.303\n",
      "right 0.859 0.207\n"
     ]
    },
    {
     "name": "stderr",
     "output_type": "stream",
     "text": [
      " 14%|█▍        | 56400/392536 [3:14:31<26:23:50,  3.54it/s]"
     ]
    },
    {
     "name": "stdout",
     "output_type": "stream",
     "text": [
      "face  0.944 0.158\n",
      "left  0.725 0.303\n",
      "right 0.859 0.207\n"
     ]
    },
    {
     "name": "stderr",
     "output_type": "stream",
     "text": [
      " 14%|█▍        | 56501/392536 [3:14:51<18:03:28,  5.17it/s]"
     ]
    },
    {
     "name": "stdout",
     "output_type": "stream",
     "text": [
      "face  0.944 0.158\n",
      "left  0.725 0.303\n",
      "right 0.859 0.207\n"
     ]
    },
    {
     "name": "stderr",
     "output_type": "stream",
     "text": [
      " 14%|█▍        | 56601/392536 [3:15:11<15:22:32,  6.07it/s]"
     ]
    },
    {
     "name": "stdout",
     "output_type": "stream",
     "text": [
      "face  0.944 0.158\n",
      "left  0.725 0.303\n",
      "right 0.859 0.207\n"
     ]
    },
    {
     "name": "stderr",
     "output_type": "stream",
     "text": [
      " 14%|█▍        | 56701/392536 [3:15:32<22:01:55,  4.23it/s]"
     ]
    },
    {
     "name": "stdout",
     "output_type": "stream",
     "text": [
      "face  0.944 0.158\n",
      "left  0.725 0.303\n",
      "right 0.859 0.207\n"
     ]
    },
    {
     "name": "stderr",
     "output_type": "stream",
     "text": [
      " 14%|█▍        | 56800/392536 [3:15:53<16:03:29,  5.81it/s]"
     ]
    },
    {
     "name": "stdout",
     "output_type": "stream",
     "text": [
      "face  0.944 0.158\n",
      "left  0.725 0.303\n",
      "right 0.859 0.207\n"
     ]
    },
    {
     "name": "stderr",
     "output_type": "stream",
     "text": [
      " 14%|█▍        | 56900/392536 [3:16:13<15:13:42,  6.12it/s]"
     ]
    },
    {
     "name": "stdout",
     "output_type": "stream",
     "text": [
      "face  0.944 0.158\n",
      "left  0.725 0.303\n",
      "right 0.859 0.207\n"
     ]
    },
    {
     "name": "stderr",
     "output_type": "stream",
     "text": [
      " 15%|█▍        | 57000/392536 [3:16:34<16:08:03,  5.78it/s]"
     ]
    },
    {
     "name": "stdout",
     "output_type": "stream",
     "text": [
      "face  0.944 0.158\n",
      "left  0.725 0.303\n",
      "right 0.859 0.207\n"
     ]
    },
    {
     "name": "stderr",
     "output_type": "stream",
     "text": [
      " 15%|█▍        | 57500/392536 [3:18:12<20:37:08,  4.51it/s]"
     ]
    },
    {
     "name": "stdout",
     "output_type": "stream",
     "text": [
      "face  0.944 0.158\n",
      "left  0.725 0.304\n",
      "right 0.859 0.207\n"
     ]
    },
    {
     "name": "stderr",
     "output_type": "stream",
     "text": [
      " 15%|█▍        | 57601/392536 [3:18:32<17:08:15,  5.43it/s]"
     ]
    },
    {
     "name": "stdout",
     "output_type": "stream",
     "text": [
      "face  0.944 0.158\n",
      "left  0.725 0.303\n",
      "right 0.859 0.207\n"
     ]
    },
    {
     "name": "stderr",
     "output_type": "stream",
     "text": [
      " 15%|█▍        | 57701/392536 [3:18:50<16:22:35,  5.68it/s]"
     ]
    },
    {
     "name": "stdout",
     "output_type": "stream",
     "text": [
      "face  0.944 0.158\n",
      "left  0.725 0.303\n",
      "right 0.859 0.207\n"
     ]
    },
    {
     "name": "stderr",
     "output_type": "stream",
     "text": [
      " 15%|█▍        | 57801/392536 [3:19:13<18:07:32,  5.13it/s]"
     ]
    },
    {
     "name": "stdout",
     "output_type": "stream",
     "text": [
      "face  0.944 0.158\n",
      "left  0.725 0.303\n",
      "right 0.859 0.207\n"
     ]
    },
    {
     "name": "stderr",
     "output_type": "stream",
     "text": [
      " 15%|█▍        | 57901/392536 [3:19:33<15:26:22,  6.02it/s]"
     ]
    },
    {
     "name": "stdout",
     "output_type": "stream",
     "text": [
      "face  0.944 0.158\n",
      "left  0.725 0.303\n",
      "right 0.859 0.207\n"
     ]
    },
    {
     "name": "stderr",
     "output_type": "stream",
     "text": [
      " 15%|█▍        | 58000/392536 [3:19:52<16:47:07,  5.54it/s]"
     ]
    },
    {
     "name": "stdout",
     "output_type": "stream",
     "text": [
      "face  0.944 0.158\n",
      "left  0.725 0.303\n",
      "right 0.859 0.207\n"
     ]
    },
    {
     "name": "stderr",
     "output_type": "stream",
     "text": [
      " 15%|█▍        | 58100/392536 [3:20:12<18:39:34,  4.98it/s]"
     ]
    },
    {
     "name": "stdout",
     "output_type": "stream",
     "text": [
      "face  0.944 0.158\n",
      "left  0.725 0.303\n",
      "right 0.859 0.207\n"
     ]
    },
    {
     "name": "stderr",
     "output_type": "stream",
     "text": [
      " 15%|█▍        | 58201/392536 [3:20:33<20:45:00,  4.48it/s]"
     ]
    },
    {
     "name": "stdout",
     "output_type": "stream",
     "text": [
      "face  0.944 0.158\n",
      "left  0.725 0.303\n",
      "right 0.859 0.207\n"
     ]
    },
    {
     "name": "stderr",
     "output_type": "stream",
     "text": [
      " 15%|█▍        | 58301/392536 [3:20:53<16:38:27,  5.58it/s]"
     ]
    },
    {
     "name": "stdout",
     "output_type": "stream",
     "text": [
      "face  0.944 0.158\n",
      "left  0.725 0.303\n",
      "right 0.859 0.207\n"
     ]
    },
    {
     "name": "stderr",
     "output_type": "stream",
     "text": [
      " 15%|█▍        | 58400/392536 [3:21:15<18:32:15,  5.01it/s]"
     ]
    },
    {
     "name": "stdout",
     "output_type": "stream",
     "text": [
      "face  0.944 0.158\n",
      "left  0.725 0.304\n",
      "right 0.859 0.207\n"
     ]
    },
    {
     "name": "stderr",
     "output_type": "stream",
     "text": [
      " 15%|█▍        | 58500/392536 [3:21:35<13:56:44,  6.65it/s]"
     ]
    },
    {
     "name": "stdout",
     "output_type": "stream",
     "text": [
      "face  0.944 0.158\n",
      "left  0.725 0.304\n",
      "right 0.859 0.207\n"
     ]
    },
    {
     "name": "stderr",
     "output_type": "stream",
     "text": [
      " 15%|█▍        | 58600/392536 [3:21:55<13:31:57,  6.85it/s]"
     ]
    },
    {
     "name": "stdout",
     "output_type": "stream",
     "text": [
      "face  0.944 0.158\n",
      "left  0.725 0.304\n",
      "right 0.859 0.207\n"
     ]
    },
    {
     "name": "stderr",
     "output_type": "stream",
     "text": [
      " 15%|█▍        | 58700/392536 [3:22:13<18:37:52,  4.98it/s]"
     ]
    },
    {
     "name": "stdout",
     "output_type": "stream",
     "text": [
      "face  0.944 0.158\n",
      "left  0.725 0.304\n",
      "right 0.859 0.207\n"
     ]
    },
    {
     "name": "stderr",
     "output_type": "stream",
     "text": [
      " 15%|█▍        | 58800/392536 [3:22:33<15:11:56,  6.10it/s]"
     ]
    },
    {
     "name": "stdout",
     "output_type": "stream",
     "text": [
      "face  0.944 0.158\n",
      "left  0.725 0.304\n",
      "right 0.859 0.207\n"
     ]
    },
    {
     "name": "stderr",
     "output_type": "stream",
     "text": [
      " 15%|█▌        | 58900/392536 [3:22:51<13:28:57,  6.87it/s]"
     ]
    },
    {
     "name": "stdout",
     "output_type": "stream",
     "text": [
      "face  0.944 0.158\n",
      "left  0.725 0.304\n",
      "right 0.859 0.207\n"
     ]
    },
    {
     "name": "stderr",
     "output_type": "stream",
     "text": [
      " 15%|█▌        | 59000/392536 [3:23:10<16:45:58,  5.53it/s]"
     ]
    },
    {
     "name": "stdout",
     "output_type": "stream",
     "text": [
      "face  0.944 0.158\n",
      "left  0.725 0.304\n",
      "right 0.859 0.207\n"
     ]
    },
    {
     "name": "stderr",
     "output_type": "stream",
     "text": [
      " 15%|█▌        | 59100/392536 [3:23:30<16:21:50,  5.66it/s]"
     ]
    },
    {
     "name": "stdout",
     "output_type": "stream",
     "text": [
      "face  0.944 0.158\n",
      "left  0.725 0.304\n",
      "right 0.859 0.207\n"
     ]
    },
    {
     "name": "stderr",
     "output_type": "stream",
     "text": [
      " 15%|█▌        | 59201/392536 [3:23:48<19:56:40,  4.64it/s]"
     ]
    },
    {
     "name": "stdout",
     "output_type": "stream",
     "text": [
      "face  0.944 0.158\n",
      "left  0.725 0.304\n",
      "right 0.859 0.207\n"
     ]
    },
    {
     "name": "stderr",
     "output_type": "stream",
     "text": [
      " 15%|█▌        | 59301/392536 [3:24:07<23:46:47,  3.89it/s]"
     ]
    },
    {
     "name": "stdout",
     "output_type": "stream",
     "text": [
      "face  0.944 0.158\n",
      "left  0.725 0.304\n",
      "right 0.859 0.207\n"
     ]
    },
    {
     "name": "stderr",
     "output_type": "stream",
     "text": [
      " 15%|█▌        | 59401/392536 [3:24:28<13:21:48,  6.92it/s]"
     ]
    },
    {
     "name": "stdout",
     "output_type": "stream",
     "text": [
      "face  0.944 0.158\n",
      "left  0.725 0.304\n",
      "right 0.859 0.207\n"
     ]
    },
    {
     "name": "stderr",
     "output_type": "stream",
     "text": [
      " 15%|█▌        | 59501/392536 [3:24:50<18:13:24,  5.08it/s]"
     ]
    },
    {
     "name": "stdout",
     "output_type": "stream",
     "text": [
      "face  0.944 0.158\n",
      "left  0.725 0.304\n",
      "right 0.859 0.207\n"
     ]
    },
    {
     "name": "stderr",
     "output_type": "stream",
     "text": [
      " 15%|█▌        | 59600/392536 [3:25:11<16:47:19,  5.51it/s]"
     ]
    },
    {
     "name": "stdout",
     "output_type": "stream",
     "text": [
      "face  0.944 0.158\n",
      "left  0.725 0.304\n",
      "right 0.859 0.207\n"
     ]
    },
    {
     "name": "stderr",
     "output_type": "stream",
     "text": [
      " 15%|█▌        | 59700/392536 [3:25:31<22:57:28,  4.03it/s]"
     ]
    },
    {
     "name": "stdout",
     "output_type": "stream",
     "text": [
      "face  0.944 0.158\n",
      "left  0.725 0.304\n",
      "right 0.859 0.207\n"
     ]
    },
    {
     "name": "stderr",
     "output_type": "stream",
     "text": [
      " 15%|█▌        | 59800/392536 [3:25:54<18:11:42,  5.08it/s]"
     ]
    },
    {
     "name": "stdout",
     "output_type": "stream",
     "text": [
      "face  0.944 0.158\n",
      "left  0.725 0.304\n",
      "right 0.859 0.207\n"
     ]
    },
    {
     "name": "stderr",
     "output_type": "stream",
     "text": [
      " 15%|█▌        | 59900/392536 [3:26:12<16:00:54,  5.77it/s]"
     ]
    },
    {
     "name": "stdout",
     "output_type": "stream",
     "text": [
      "face  0.944 0.158\n",
      "left  0.725 0.304\n",
      "right 0.859 0.207\n"
     ]
    },
    {
     "name": "stderr",
     "output_type": "stream",
     "text": [
      " 15%|█▌        | 60001/392536 [3:26:31<19:39:13,  4.70it/s]"
     ]
    },
    {
     "name": "stdout",
     "output_type": "stream",
     "text": [
      "face  0.944 0.158\n",
      "left  0.725 0.304\n",
      "right 0.859 0.207\n"
     ]
    },
    {
     "name": "stderr",
     "output_type": "stream",
     "text": [
      " 15%|█▌        | 60100/392536 [3:26:52<22:14:35,  4.15it/s]"
     ]
    },
    {
     "name": "stdout",
     "output_type": "stream",
     "text": [
      "face  0.944 0.158\n",
      "left  0.725 0.304\n",
      "right 0.859 0.207\n"
     ]
    },
    {
     "name": "stderr",
     "output_type": "stream",
     "text": [
      " 15%|█▌        | 60200/392536 [3:27:13<24:18:13,  3.80it/s]"
     ]
    },
    {
     "name": "stdout",
     "output_type": "stream",
     "text": [
      "face  0.944 0.158\n",
      "left  0.725 0.304\n",
      "right 0.859 0.207\n"
     ]
    },
    {
     "name": "stderr",
     "output_type": "stream",
     "text": [
      " 15%|█▌        | 60300/392536 [3:27:32<23:41:04,  3.90it/s]"
     ]
    },
    {
     "name": "stdout",
     "output_type": "stream",
     "text": [
      "face  0.944 0.158\n",
      "left  0.724 0.304\n",
      "right 0.859 0.207\n"
     ]
    },
    {
     "name": "stderr",
     "output_type": "stream",
     "text": [
      " 15%|█▌        | 60400/392536 [3:27:54<16:43:28,  5.52it/s]"
     ]
    },
    {
     "name": "stdout",
     "output_type": "stream",
     "text": [
      "face  0.944 0.158\n",
      "left  0.724 0.304\n",
      "right 0.859 0.207\n"
     ]
    },
    {
     "name": "stderr",
     "output_type": "stream",
     "text": [
      " 15%|█▌        | 60500/392536 [3:28:13<13:50:26,  6.66it/s]"
     ]
    },
    {
     "name": "stdout",
     "output_type": "stream",
     "text": [
      "face  0.944 0.158\n",
      "left  0.725 0.304\n",
      "right 0.859 0.207\n"
     ]
    },
    {
     "name": "stderr",
     "output_type": "stream",
     "text": [
      " 15%|█▌        | 60601/392536 [3:28:31<12:24:53,  7.43it/s]"
     ]
    },
    {
     "name": "stdout",
     "output_type": "stream",
     "text": [
      "face  0.944 0.158\n",
      "left  0.724 0.304\n",
      "right 0.859 0.207\n"
     ]
    },
    {
     "name": "stderr",
     "output_type": "stream",
     "text": [
      " 15%|█▌        | 60700/392536 [3:28:50<13:13:55,  6.97it/s]"
     ]
    },
    {
     "name": "stdout",
     "output_type": "stream",
     "text": [
      "face  0.944 0.158\n",
      "left  0.725 0.304\n",
      "right 0.859 0.207\n"
     ]
    },
    {
     "name": "stderr",
     "output_type": "stream",
     "text": [
      " 15%|█▌        | 60800/392536 [3:29:10<12:35:16,  7.32it/s]"
     ]
    },
    {
     "name": "stdout",
     "output_type": "stream",
     "text": [
      "face  0.944 0.158\n",
      "left  0.724 0.304\n",
      "right 0.859 0.207\n"
     ]
    },
    {
     "name": "stderr",
     "output_type": "stream",
     "text": [
      " 16%|█▌        | 60901/392536 [3:29:30<14:10:14,  6.50it/s]"
     ]
    },
    {
     "name": "stdout",
     "output_type": "stream",
     "text": [
      "face  0.944 0.158\n",
      "left  0.724 0.304\n",
      "right 0.859 0.207\n"
     ]
    },
    {
     "name": "stderr",
     "output_type": "stream",
     "text": [
      " 16%|█▌        | 60912/392536 [3:29:32<17:27:05,  5.28it/s]IOPub message rate exceeded.\n",
      "The Jupyter server will temporarily stop sending output\n",
      "to the client in order to avoid crashing it.\n",
      "To change this limit, set the config variable\n",
      "`--ServerApp.iopub_msg_rate_limit`.\n",
      "\n",
      "Current values:\n",
      "ServerApp.iopub_msg_rate_limit=1000.0 (msgs/sec)\n",
      "ServerApp.rate_limit_window=3.0 (secs)\n",
      "\n",
      " 20%|██        | 78800/392536 [4:30:36<19:26:02,  4.48it/s]"
     ]
    },
    {
     "name": "stdout",
     "output_type": "stream",
     "text": [
      "face  0.944 0.158\n",
      "left  0.724 0.304\n",
      "right 0.858 0.208\n"
     ]
    },
    {
     "name": "stderr",
     "output_type": "stream",
     "text": [
      " 20%|██        | 78900/392536 [4:30:58<18:28:03,  4.72it/s]"
     ]
    },
    {
     "name": "stdout",
     "output_type": "stream",
     "text": [
      "face  0.944 0.158\n",
      "left  0.724 0.304\n",
      "right 0.858 0.208\n"
     ]
    },
    {
     "name": "stderr",
     "output_type": "stream",
     "text": [
      " 20%|██        | 79001/392536 [4:31:18<20:00:11,  4.35it/s]"
     ]
    },
    {
     "name": "stdout",
     "output_type": "stream",
     "text": [
      "face  0.944 0.158\n",
      "left  0.724 0.304\n",
      "right 0.858 0.208\n"
     ]
    },
    {
     "name": "stderr",
     "output_type": "stream",
     "text": [
      " 20%|██        | 79100/392536 [4:31:39<21:58:47,  3.96it/s]"
     ]
    },
    {
     "name": "stdout",
     "output_type": "stream",
     "text": [
      "face  0.944 0.158\n",
      "left  0.724 0.304\n",
      "right 0.858 0.208\n"
     ]
    },
    {
     "name": "stderr",
     "output_type": "stream",
     "text": [
      " 20%|██        | 79201/392536 [4:32:00<24:53:04,  3.50it/s]"
     ]
    },
    {
     "name": "stdout",
     "output_type": "stream",
     "text": [
      "face  0.944 0.158\n",
      "left  0.723 0.304\n",
      "right 0.858 0.208\n"
     ]
    },
    {
     "name": "stderr",
     "output_type": "stream",
     "text": [
      " 20%|██        | 79300/392536 [4:32:20<20:41:32,  4.20it/s]"
     ]
    },
    {
     "name": "stdout",
     "output_type": "stream",
     "text": [
      "face  0.944 0.158\n",
      "left  0.723 0.304\n",
      "right 0.858 0.208\n"
     ]
    },
    {
     "name": "stderr",
     "output_type": "stream",
     "text": [
      " 20%|██        | 79400/392536 [4:32:40<21:00:21,  4.14it/s]"
     ]
    },
    {
     "name": "stdout",
     "output_type": "stream",
     "text": [
      "face  0.944 0.158\n",
      "left  0.723 0.304\n",
      "right 0.858 0.208\n"
     ]
    },
    {
     "name": "stderr",
     "output_type": "stream",
     "text": [
      " 20%|██        | 79501/392536 [4:33:02<15:19:11,  5.68it/s]"
     ]
    },
    {
     "name": "stdout",
     "output_type": "stream",
     "text": [
      "face  0.944 0.158\n",
      "left  0.723 0.304\n",
      "right 0.858 0.208\n"
     ]
    },
    {
     "name": "stderr",
     "output_type": "stream",
     "text": [
      " 20%|██        | 79600/392536 [4:33:21<16:20:05,  5.32it/s]"
     ]
    },
    {
     "name": "stdout",
     "output_type": "stream",
     "text": [
      "face  0.944 0.158\n",
      "left  0.723 0.304\n",
      "right 0.858 0.208\n"
     ]
    },
    {
     "name": "stderr",
     "output_type": "stream",
     "text": [
      " 20%|██        | 79701/392536 [4:33:42<19:19:15,  4.50it/s]"
     ]
    },
    {
     "name": "stdout",
     "output_type": "stream",
     "text": [
      "face  0.944 0.158\n",
      "left  0.723 0.304\n",
      "right 0.858 0.208\n"
     ]
    },
    {
     "name": "stderr",
     "output_type": "stream",
     "text": [
      " 20%|██        | 79801/392536 [4:34:05<21:56:01,  3.96it/s]"
     ]
    },
    {
     "name": "stdout",
     "output_type": "stream",
     "text": [
      "face  0.944 0.158\n",
      "left  0.724 0.304\n",
      "right 0.858 0.208\n"
     ]
    },
    {
     "name": "stderr",
     "output_type": "stream",
     "text": [
      " 20%|██        | 79900/392536 [4:34:27<24:14:06,  3.58it/s]"
     ]
    },
    {
     "name": "stdout",
     "output_type": "stream",
     "text": [
      "face  0.944 0.157\n",
      "left  0.724 0.304\n",
      "right 0.858 0.208\n"
     ]
    },
    {
     "name": "stderr",
     "output_type": "stream",
     "text": [
      " 20%|██        | 80000/392536 [4:34:47<16:10:42,  5.37it/s]"
     ]
    },
    {
     "name": "stdout",
     "output_type": "stream",
     "text": [
      "face  0.944 0.157\n",
      "left  0.724 0.304\n",
      "right 0.858 0.209\n"
     ]
    },
    {
     "name": "stderr",
     "output_type": "stream",
     "text": [
      " 20%|██        | 80101/392536 [4:35:10<15:33:22,  5.58it/s]"
     ]
    },
    {
     "name": "stdout",
     "output_type": "stream",
     "text": [
      "face  0.944 0.157\n",
      "left  0.724 0.304\n",
      "right 0.858 0.209\n"
     ]
    },
    {
     "name": "stderr",
     "output_type": "stream",
     "text": [
      " 20%|██        | 80200/392536 [4:35:29<14:16:12,  6.08it/s]"
     ]
    },
    {
     "name": "stdout",
     "output_type": "stream",
     "text": [
      "face  0.944 0.157\n",
      "left  0.724 0.304\n",
      "right 0.858 0.208\n"
     ]
    },
    {
     "name": "stderr",
     "output_type": "stream",
     "text": [
      " 20%|██        | 80300/392536 [4:35:49<30:38:33,  2.83it/s]"
     ]
    },
    {
     "name": "stdout",
     "output_type": "stream",
     "text": [
      "face  0.944 0.157\n",
      "left  0.724 0.304\n",
      "right 0.858 0.209\n"
     ]
    },
    {
     "name": "stderr",
     "output_type": "stream",
     "text": [
      " 20%|██        | 80400/392536 [4:36:10<24:44:39,  3.50it/s]"
     ]
    },
    {
     "name": "stdout",
     "output_type": "stream",
     "text": [
      "face  0.944 0.157\n",
      "left  0.724 0.304\n",
      "right 0.858 0.209\n"
     ]
    },
    {
     "name": "stderr",
     "output_type": "stream",
     "text": [
      " 21%|██        | 80501/392536 [4:36:29<13:44:46,  6.31it/s]"
     ]
    },
    {
     "name": "stdout",
     "output_type": "stream",
     "text": [
      "face  0.944 0.157\n",
      "left  0.724 0.304\n",
      "right 0.858 0.209\n"
     ]
    },
    {
     "name": "stderr",
     "output_type": "stream",
     "text": [
      " 21%|██        | 80600/392536 [4:36:50<17:30:23,  4.95it/s]"
     ]
    },
    {
     "name": "stdout",
     "output_type": "stream",
     "text": [
      "face  0.944 0.157\n",
      "left  0.724 0.304\n",
      "right 0.858 0.209\n"
     ]
    },
    {
     "name": "stderr",
     "output_type": "stream",
     "text": [
      " 21%|██        | 80700/392536 [4:37:11<16:25:57,  5.27it/s]"
     ]
    },
    {
     "name": "stdout",
     "output_type": "stream",
     "text": [
      "face  0.944 0.157\n",
      "left  0.724 0.304\n",
      "right 0.858 0.208\n"
     ]
    },
    {
     "name": "stderr",
     "output_type": "stream",
     "text": [
      " 21%|██        | 80801/392536 [4:37:32<14:56:01,  5.80it/s]"
     ]
    },
    {
     "name": "stdout",
     "output_type": "stream",
     "text": [
      "face  0.944 0.157\n",
      "left  0.724 0.304\n",
      "right 0.858 0.208\n"
     ]
    },
    {
     "name": "stderr",
     "output_type": "stream",
     "text": [
      " 21%|██        | 80901/392536 [4:37:53<17:19:30,  5.00it/s]"
     ]
    },
    {
     "name": "stdout",
     "output_type": "stream",
     "text": [
      "face  0.944 0.157\n",
      "left  0.724 0.304\n",
      "right 0.858 0.208\n"
     ]
    },
    {
     "name": "stderr",
     "output_type": "stream",
     "text": [
      " 21%|██        | 81000/392536 [4:38:13<14:18:27,  6.05it/s]"
     ]
    },
    {
     "name": "stdout",
     "output_type": "stream",
     "text": [
      "face  0.944 0.157\n",
      "left  0.724 0.304\n",
      "right 0.858 0.208\n"
     ]
    },
    {
     "name": "stderr",
     "output_type": "stream",
     "text": [
      " 21%|██        | 81100/392536 [4:38:34<20:51:57,  4.15it/s]"
     ]
    },
    {
     "name": "stdout",
     "output_type": "stream",
     "text": [
      "face  0.944 0.157\n",
      "left  0.724 0.304\n",
      "right 0.858 0.208\n"
     ]
    },
    {
     "name": "stderr",
     "output_type": "stream",
     "text": [
      " 21%|██        | 81200/392536 [4:38:57<16:58:58,  5.09it/s]"
     ]
    },
    {
     "name": "stdout",
     "output_type": "stream",
     "text": [
      "face  0.944 0.157\n",
      "left  0.724 0.304\n",
      "right 0.858 0.208\n"
     ]
    },
    {
     "name": "stderr",
     "output_type": "stream",
     "text": [
      " 21%|██        | 81300/392536 [4:39:18<23:21:27,  3.70it/s]"
     ]
    },
    {
     "name": "stdout",
     "output_type": "stream",
     "text": [
      "face  0.944 0.157\n",
      "left  0.724 0.304\n",
      "right 0.858 0.208\n"
     ]
    },
    {
     "name": "stderr",
     "output_type": "stream",
     "text": [
      " 21%|██        | 81400/392536 [4:39:36<19:23:25,  4.46it/s]"
     ]
    },
    {
     "name": "stdout",
     "output_type": "stream",
     "text": [
      "face  0.944 0.157\n",
      "left  0.724 0.304\n",
      "right 0.858 0.208\n"
     ]
    },
    {
     "name": "stderr",
     "output_type": "stream",
     "text": [
      " 21%|██        | 81500/392536 [4:39:56<23:16:12,  3.71it/s]"
     ]
    },
    {
     "name": "stdout",
     "output_type": "stream",
     "text": [
      "face  0.944 0.157\n",
      "left  0.724 0.304\n",
      "right 0.858 0.208\n"
     ]
    },
    {
     "name": "stderr",
     "output_type": "stream",
     "text": [
      " 21%|██        | 81600/392536 [4:40:17<24:21:43,  3.55it/s]"
     ]
    },
    {
     "name": "stdout",
     "output_type": "stream",
     "text": [
      "face  0.944 0.157\n",
      "left  0.724 0.304\n",
      "right 0.858 0.208\n"
     ]
    },
    {
     "name": "stderr",
     "output_type": "stream",
     "text": [
      " 21%|██        | 81701/392536 [4:40:37<13:02:42,  6.62it/s]"
     ]
    },
    {
     "name": "stdout",
     "output_type": "stream",
     "text": [
      "face  0.944 0.157\n",
      "left  0.724 0.304\n",
      "right 0.858 0.208\n"
     ]
    },
    {
     "name": "stderr",
     "output_type": "stream",
     "text": [
      " 21%|██        | 81800/392536 [4:40:55<20:08:49,  4.28it/s]"
     ]
    },
    {
     "name": "stdout",
     "output_type": "stream",
     "text": [
      "face  0.944 0.157\n",
      "left  0.724 0.304\n",
      "right 0.858 0.208\n"
     ]
    },
    {
     "name": "stderr",
     "output_type": "stream",
     "text": [
      " 21%|██        | 81900/392536 [4:41:17<18:56:53,  4.55it/s]"
     ]
    },
    {
     "name": "stdout",
     "output_type": "stream",
     "text": [
      "face  0.944 0.157\n",
      "left  0.724 0.304\n",
      "right 0.858 0.208\n"
     ]
    },
    {
     "name": "stderr",
     "output_type": "stream",
     "text": [
      " 21%|██        | 82000/392536 [4:41:38<15:11:47,  5.68it/s]"
     ]
    },
    {
     "name": "stdout",
     "output_type": "stream",
     "text": [
      "face  0.944 0.157\n",
      "left  0.724 0.304\n",
      "right 0.858 0.208\n"
     ]
    },
    {
     "name": "stderr",
     "output_type": "stream",
     "text": [
      " 21%|██        | 82100/392536 [4:41:59<14:44:00,  5.85it/s]"
     ]
    },
    {
     "name": "stdout",
     "output_type": "stream",
     "text": [
      "face  0.944 0.157\n",
      "left  0.724 0.304\n",
      "right 0.858 0.208\n"
     ]
    },
    {
     "name": "stderr",
     "output_type": "stream",
     "text": [
      " 21%|██        | 82159/392536 [4:42:10<14:04:56,  6.12it/s]IOPub message rate exceeded.\n",
      "The Jupyter server will temporarily stop sending output\n",
      "to the client in order to avoid crashing it.\n",
      "To change this limit, set the config variable\n",
      "`--ServerApp.iopub_msg_rate_limit`.\n",
      "\n",
      "Current values:\n",
      "ServerApp.iopub_msg_rate_limit=1000.0 (msgs/sec)\n",
      "ServerApp.rate_limit_window=3.0 (secs)\n",
      "\n",
      " 25%|██▌       | 99500/392536 [5:42:15<14:33:36,  5.59it/s]"
     ]
    },
    {
     "name": "stdout",
     "output_type": "stream",
     "text": [
      "face  0.944 0.158\n",
      "left  0.723 0.305\n",
      "right 0.857 0.209\n"
     ]
    },
    {
     "name": "stderr",
     "output_type": "stream",
     "text": [
      " 25%|██▌       | 99600/392536 [5:42:36<16:15:56,  5.00it/s]"
     ]
    },
    {
     "name": "stdout",
     "output_type": "stream",
     "text": [
      "face  0.944 0.158\n",
      "left  0.723 0.305\n",
      "right 0.857 0.209\n"
     ]
    },
    {
     "name": "stderr",
     "output_type": "stream",
     "text": [
      " 25%|██▌       | 99700/392536 [5:42:55<12:04:05,  6.74it/s]"
     ]
    },
    {
     "name": "stdout",
     "output_type": "stream",
     "text": [
      "face  0.944 0.158\n",
      "left  0.723 0.305\n",
      "right 0.857 0.209\n"
     ]
    },
    {
     "name": "stderr",
     "output_type": "stream",
     "text": [
      " 25%|██▌       | 99801/392536 [5:43:14<11:54:29,  6.83it/s]"
     ]
    },
    {
     "name": "stdout",
     "output_type": "stream",
     "text": [
      "face  0.944 0.158\n",
      "left  0.723 0.305\n",
      "right 0.857 0.209\n"
     ]
    },
    {
     "name": "stderr",
     "output_type": "stream",
     "text": [
      " 25%|██▌       | 99901/392536 [5:43:34<17:29:31,  4.65it/s]"
     ]
    },
    {
     "name": "stdout",
     "output_type": "stream",
     "text": [
      "face  0.944 0.158\n",
      "left  0.723 0.305\n",
      "right 0.857 0.209\n"
     ]
    },
    {
     "name": "stderr",
     "output_type": "stream",
     "text": [
      " 25%|██▌       | 100001/392536 [5:43:55<25:29:44,  3.19it/s]"
     ]
    },
    {
     "name": "stdout",
     "output_type": "stream",
     "text": [
      "face  0.944 0.158\n",
      "left  0.723 0.305\n",
      "right 0.857 0.209\n"
     ]
    },
    {
     "name": "stderr",
     "output_type": "stream",
     "text": [
      " 26%|██▌       | 100101/392536 [5:44:14<12:39:34,  6.42it/s]"
     ]
    },
    {
     "name": "stdout",
     "output_type": "stream",
     "text": [
      "face  0.944 0.158\n",
      "left  0.723 0.305\n",
      "right 0.857 0.209\n"
     ]
    },
    {
     "name": "stderr",
     "output_type": "stream",
     "text": [
      " 26%|██▌       | 100201/392536 [5:44:32<11:45:47,  6.90it/s]"
     ]
    },
    {
     "name": "stdout",
     "output_type": "stream",
     "text": [
      "face  0.944 0.158\n",
      "left  0.723 0.305\n",
      "right 0.857 0.209\n"
     ]
    },
    {
     "name": "stderr",
     "output_type": "stream",
     "text": [
      " 26%|██▌       | 100300/392536 [5:44:51<10:45:12,  7.55it/s]"
     ]
    },
    {
     "name": "stdout",
     "output_type": "stream",
     "text": [
      "face  0.944 0.158\n",
      "left  0.723 0.305\n",
      "right 0.857 0.209\n"
     ]
    },
    {
     "name": "stderr",
     "output_type": "stream",
     "text": [
      " 26%|██▌       | 100400/392536 [5:45:12<15:52:29,  5.11it/s]"
     ]
    },
    {
     "name": "stdout",
     "output_type": "stream",
     "text": [
      "face  0.944 0.158\n",
      "left  0.723 0.305\n",
      "right 0.857 0.209\n"
     ]
    },
    {
     "name": "stderr",
     "output_type": "stream",
     "text": [
      " 26%|██▌       | 100500/392536 [5:45:33<19:54:33,  4.07it/s]"
     ]
    },
    {
     "name": "stdout",
     "output_type": "stream",
     "text": [
      "face  0.944 0.158\n",
      "left  0.723 0.305\n",
      "right 0.857 0.209\n"
     ]
    },
    {
     "name": "stderr",
     "output_type": "stream",
     "text": [
      " 26%|██▌       | 100601/392536 [5:45:53<17:26:09,  4.65it/s]"
     ]
    },
    {
     "name": "stdout",
     "output_type": "stream",
     "text": [
      "face  0.944 0.158\n",
      "left  0.723 0.305\n",
      "right 0.857 0.209\n"
     ]
    },
    {
     "name": "stderr",
     "output_type": "stream",
     "text": [
      " 26%|██▌       | 100700/392536 [5:46:14<14:18:53,  5.66it/s]"
     ]
    },
    {
     "name": "stdout",
     "output_type": "stream",
     "text": [
      "face  0.944 0.158\n",
      "left  0.723 0.305\n",
      "right 0.857 0.209\n"
     ]
    },
    {
     "name": "stderr",
     "output_type": "stream",
     "text": [
      " 26%|██▌       | 100801/392536 [5:46:35<16:07:08,  5.03it/s]"
     ]
    },
    {
     "name": "stdout",
     "output_type": "stream",
     "text": [
      "face  0.944 0.158\n",
      "left  0.723 0.305\n",
      "right 0.857 0.209\n"
     ]
    },
    {
     "name": "stderr",
     "output_type": "stream",
     "text": [
      " 26%|██▌       | 100902/392536 [5:46:54<12:20:11,  6.57it/s]"
     ]
    },
    {
     "name": "stdout",
     "output_type": "stream",
     "text": [
      "face  0.944 0.158\n",
      "left  0.723 0.305\n",
      "right 0.857 0.209\n"
     ]
    },
    {
     "name": "stderr",
     "output_type": "stream",
     "text": [
      " 26%|██▌       | 101000/392536 [5:47:15<17:20:16,  4.67it/s]"
     ]
    },
    {
     "name": "stdout",
     "output_type": "stream",
     "text": [
      "face  0.944 0.158\n",
      "left  0.723 0.305\n",
      "right 0.857 0.209\n"
     ]
    },
    {
     "name": "stderr",
     "output_type": "stream",
     "text": [
      " 26%|██▌       | 101100/392536 [5:47:35<20:13:32,  4.00it/s]"
     ]
    },
    {
     "name": "stdout",
     "output_type": "stream",
     "text": [
      "face  0.944 0.158\n",
      "left  0.723 0.305\n",
      "right 0.857 0.209\n"
     ]
    },
    {
     "name": "stderr",
     "output_type": "stream",
     "text": [
      " 26%|██▌       | 101201/392536 [5:47:56<16:08:02,  5.02it/s]"
     ]
    },
    {
     "name": "stdout",
     "output_type": "stream",
     "text": [
      "face  0.944 0.158\n",
      "left  0.723 0.305\n",
      "right 0.857 0.209\n"
     ]
    },
    {
     "name": "stderr",
     "output_type": "stream",
     "text": [
      " 26%|██▌       | 101300/392536 [5:48:18<20:37:20,  3.92it/s]"
     ]
    },
    {
     "name": "stdout",
     "output_type": "stream",
     "text": [
      "face  0.944 0.158\n",
      "left  0.723 0.305\n",
      "right 0.857 0.209\n"
     ]
    },
    {
     "name": "stderr",
     "output_type": "stream",
     "text": [
      " 26%|██▌       | 101400/392536 [5:48:38<16:14:23,  4.98it/s]"
     ]
    },
    {
     "name": "stdout",
     "output_type": "stream",
     "text": [
      "face  0.944 0.158\n",
      "left  0.723 0.305\n",
      "right 0.857 0.209\n"
     ]
    },
    {
     "name": "stderr",
     "output_type": "stream",
     "text": [
      " 26%|██▌       | 101500/392536 [5:48:59<21:41:11,  3.73it/s]"
     ]
    },
    {
     "name": "stdout",
     "output_type": "stream",
     "text": [
      "face  0.944 0.158\n",
      "left  0.723 0.305\n",
      "right 0.857 0.209\n"
     ]
    },
    {
     "name": "stderr",
     "output_type": "stream",
     "text": [
      " 26%|██▌       | 101601/392536 [5:49:18<12:23:05,  6.53it/s]"
     ]
    },
    {
     "name": "stdout",
     "output_type": "stream",
     "text": [
      "face  0.944 0.158\n",
      "left  0.723 0.305\n",
      "right 0.857 0.209\n"
     ]
    },
    {
     "name": "stderr",
     "output_type": "stream",
     "text": [
      " 26%|██▌       | 101700/392536 [5:49:36<13:05:05,  6.17it/s]"
     ]
    },
    {
     "name": "stdout",
     "output_type": "stream",
     "text": [
      "face  0.944 0.158\n",
      "left  0.723 0.305\n",
      "right 0.857 0.209\n"
     ]
    },
    {
     "name": "stderr",
     "output_type": "stream",
     "text": [
      " 26%|██▌       | 101801/392536 [5:49:54<14:23:10,  5.61it/s]"
     ]
    },
    {
     "name": "stdout",
     "output_type": "stream",
     "text": [
      "face  0.944 0.158\n",
      "left  0.723 0.305\n",
      "right 0.857 0.209\n"
     ]
    },
    {
     "name": "stderr",
     "output_type": "stream",
     "text": [
      " 26%|██▌       | 101900/392536 [5:50:16<19:38:51,  4.11it/s]"
     ]
    },
    {
     "name": "stdout",
     "output_type": "stream",
     "text": [
      "face  0.944 0.158\n",
      "left  0.723 0.305\n",
      "right 0.857 0.209\n"
     ]
    },
    {
     "name": "stderr",
     "output_type": "stream",
     "text": [
      " 26%|██▌       | 102001/392536 [5:50:38<20:24:51,  3.95it/s]"
     ]
    },
    {
     "name": "stdout",
     "output_type": "stream",
     "text": [
      "face  0.944 0.158\n",
      "left  0.723 0.305\n",
      "right 0.857 0.209\n"
     ]
    },
    {
     "name": "stderr",
     "output_type": "stream",
     "text": [
      " 26%|██▌       | 102101/392536 [5:51:00<16:29:48,  4.89it/s]"
     ]
    },
    {
     "name": "stdout",
     "output_type": "stream",
     "text": [
      "face  0.944 0.158\n",
      "left  0.723 0.305\n",
      "right 0.857 0.209\n"
     ]
    },
    {
     "name": "stderr",
     "output_type": "stream",
     "text": [
      " 26%|██▌       | 102201/392536 [5:51:21<18:03:33,  4.47it/s]"
     ]
    },
    {
     "name": "stdout",
     "output_type": "stream",
     "text": [
      "face  0.944 0.158\n",
      "left  0.723 0.305\n",
      "right 0.857 0.209\n"
     ]
    },
    {
     "name": "stderr",
     "output_type": "stream",
     "text": [
      " 26%|██▌       | 102301/392536 [5:51:43<19:07:38,  4.21it/s]"
     ]
    },
    {
     "name": "stdout",
     "output_type": "stream",
     "text": [
      "face  0.944 0.158\n",
      "left  0.723 0.305\n",
      "right 0.857 0.209\n"
     ]
    },
    {
     "name": "stderr",
     "output_type": "stream",
     "text": [
      " 26%|██▌       | 102400/392536 [5:52:05<26:32:51,  3.04it/s]"
     ]
    },
    {
     "name": "stdout",
     "output_type": "stream",
     "text": [
      "face  0.944 0.158\n",
      "left  0.723 0.305\n",
      "right 0.857 0.209\n"
     ]
    },
    {
     "name": "stderr",
     "output_type": "stream",
     "text": [
      " 26%|██▌       | 102500/392536 [5:52:26<21:43:52,  3.71it/s]"
     ]
    },
    {
     "name": "stdout",
     "output_type": "stream",
     "text": [
      "face  0.944 0.158\n",
      "left  0.723 0.305\n",
      "right 0.857 0.209\n"
     ]
    },
    {
     "name": "stderr",
     "output_type": "stream",
     "text": [
      " 26%|██▌       | 102600/392536 [5:52:47<14:57:44,  5.38it/s]"
     ]
    },
    {
     "name": "stdout",
     "output_type": "stream",
     "text": [
      "face  0.944 0.158\n",
      "left  0.723 0.305\n",
      "right 0.857 0.209\n"
     ]
    },
    {
     "name": "stderr",
     "output_type": "stream",
     "text": [
      " 26%|██▌       | 102701/392536 [5:53:08<17:36:28,  4.57it/s]"
     ]
    },
    {
     "name": "stdout",
     "output_type": "stream",
     "text": [
      "face  0.944 0.158\n",
      "left  0.723 0.305\n",
      "right 0.857 0.209\n"
     ]
    },
    {
     "name": "stderr",
     "output_type": "stream",
     "text": [
      " 26%|██▌       | 102800/392536 [5:53:30<15:43:24,  5.12it/s]"
     ]
    },
    {
     "name": "stdout",
     "output_type": "stream",
     "text": [
      "face  0.944 0.158\n",
      "left  0.723 0.305\n",
      "right 0.857 0.209\n"
     ]
    },
    {
     "name": "stderr",
     "output_type": "stream",
     "text": [
      " 26%|██▌       | 102875/392536 [5:53:45<16:38:03,  4.84it/s]IOPub message rate exceeded.\n",
      "The Jupyter server will temporarily stop sending output\n",
      "to the client in order to avoid crashing it.\n",
      "To change this limit, set the config variable\n",
      "`--ServerApp.iopub_msg_rate_limit`.\n",
      "\n",
      "Current values:\n",
      "ServerApp.iopub_msg_rate_limit=1000.0 (msgs/sec)\n",
      "ServerApp.rate_limit_window=3.0 (secs)\n",
      "\n",
      " 30%|███       | 118400/392536 [6:47:52<12:10:15,  6.26it/s]"
     ]
    },
    {
     "name": "stdout",
     "output_type": "stream",
     "text": [
      "face  0.944 0.158\n",
      "left  0.723 0.305\n",
      "right 0.857 0.209\n"
     ]
    },
    {
     "name": "stderr",
     "output_type": "stream",
     "text": [
      " 30%|███       | 118501/392536 [6:48:15<14:19:38,  5.31it/s]"
     ]
    },
    {
     "name": "stdout",
     "output_type": "stream",
     "text": [
      "face  0.944 0.158\n",
      "left  0.723 0.305\n",
      "right 0.857 0.209\n"
     ]
    },
    {
     "name": "stderr",
     "output_type": "stream",
     "text": [
      " 30%|███       | 118600/392536 [6:48:35<16:36:38,  4.58it/s]"
     ]
    },
    {
     "name": "stdout",
     "output_type": "stream",
     "text": [
      "face  0.944 0.158\n",
      "left  0.723 0.305\n",
      "right 0.857 0.209\n"
     ]
    },
    {
     "name": "stderr",
     "output_type": "stream",
     "text": [
      " 30%|███       | 118699/392536 [6:48:54<9:37:29,  7.90it/s] "
     ]
    },
    {
     "name": "stdout",
     "output_type": "stream",
     "text": [
      "face  0.944 0.158\n",
      "left  0.723 0.305\n",
      "right 0.857 0.209\n"
     ]
    },
    {
     "name": "stderr",
     "output_type": "stream",
     "text": [
      " 30%|███       | 118800/392536 [6:49:15<12:00:29,  6.33it/s]"
     ]
    },
    {
     "name": "stdout",
     "output_type": "stream",
     "text": [
      "face  0.944 0.158\n",
      "left  0.723 0.305\n",
      "right 0.857 0.209\n"
     ]
    },
    {
     "name": "stderr",
     "output_type": "stream",
     "text": [
      " 30%|███       | 118901/392536 [6:49:34<13:46:07,  5.52it/s]"
     ]
    },
    {
     "name": "stdout",
     "output_type": "stream",
     "text": [
      "face  0.944 0.158\n",
      "left  0.723 0.305\n",
      "right 0.857 0.209\n"
     ]
    },
    {
     "name": "stderr",
     "output_type": "stream",
     "text": [
      " 30%|███       | 119000/392536 [6:49:54<17:01:56,  4.46it/s]"
     ]
    },
    {
     "name": "stdout",
     "output_type": "stream",
     "text": [
      "face  0.944 0.158\n",
      "left  0.723 0.305\n",
      "right 0.857 0.209\n"
     ]
    },
    {
     "name": "stderr",
     "output_type": "stream",
     "text": [
      " 30%|███       | 119100/392536 [6:50:15<20:17:58,  3.74it/s]"
     ]
    },
    {
     "name": "stdout",
     "output_type": "stream",
     "text": [
      "face  0.944 0.158\n",
      "left  0.723 0.305\n",
      "right 0.857 0.209\n"
     ]
    },
    {
     "name": "stderr",
     "output_type": "stream",
     "text": [
      " 30%|███       | 119200/392536 [6:50:36<17:44:50,  4.28it/s]"
     ]
    },
    {
     "name": "stdout",
     "output_type": "stream",
     "text": [
      "face  0.944 0.158\n",
      "left  0.723 0.305\n",
      "right 0.857 0.209\n"
     ]
    },
    {
     "name": "stderr",
     "output_type": "stream",
     "text": [
      " 30%|███       | 119300/392536 [6:50:56<14:16:12,  5.32it/s]"
     ]
    },
    {
     "name": "stdout",
     "output_type": "stream",
     "text": [
      "face  0.944 0.158\n",
      "left  0.723 0.305\n",
      "right 0.857 0.209\n"
     ]
    },
    {
     "name": "stderr",
     "output_type": "stream",
     "text": [
      " 30%|███       | 119400/392536 [6:51:16<17:05:46,  4.44it/s]"
     ]
    },
    {
     "name": "stdout",
     "output_type": "stream",
     "text": [
      "face  0.944 0.158\n",
      "left  0.723 0.305\n",
      "right 0.857 0.209\n"
     ]
    },
    {
     "name": "stderr",
     "output_type": "stream",
     "text": [
      " 30%|███       | 119501/392536 [6:51:36<12:57:27,  5.85it/s]"
     ]
    },
    {
     "name": "stdout",
     "output_type": "stream",
     "text": [
      "face  0.944 0.158\n",
      "left  0.723 0.305\n",
      "right 0.857 0.209\n"
     ]
    },
    {
     "name": "stderr",
     "output_type": "stream",
     "text": [
      " 30%|███       | 119601/392536 [6:51:58<15:27:37,  4.90it/s]"
     ]
    },
    {
     "name": "stdout",
     "output_type": "stream",
     "text": [
      "face  0.944 0.158\n",
      "left  0.723 0.305\n",
      "right 0.857 0.209\n"
     ]
    },
    {
     "name": "stderr",
     "output_type": "stream",
     "text": [
      " 30%|███       | 119700/392536 [6:52:18<16:39:51,  4.55it/s]"
     ]
    },
    {
     "name": "stdout",
     "output_type": "stream",
     "text": [
      "face  0.944 0.158\n",
      "left  0.723 0.305\n",
      "right 0.857 0.209\n"
     ]
    },
    {
     "name": "stderr",
     "output_type": "stream",
     "text": [
      " 31%|███       | 119800/392536 [6:52:39<14:37:26,  5.18it/s]"
     ]
    },
    {
     "name": "stdout",
     "output_type": "stream",
     "text": [
      "face  0.944 0.158\n",
      "left  0.723 0.305\n",
      "right 0.857 0.209\n"
     ]
    },
    {
     "name": "stderr",
     "output_type": "stream",
     "text": [
      " 31%|███       | 119900/392536 [6:52:58<18:33:27,  4.08it/s]"
     ]
    },
    {
     "name": "stdout",
     "output_type": "stream",
     "text": [
      "face  0.944 0.158\n",
      "left  0.723 0.305\n",
      "right 0.857 0.209\n"
     ]
    },
    {
     "name": "stderr",
     "output_type": "stream",
     "text": [
      " 31%|███       | 120001/392536 [6:53:19<13:41:35,  5.53it/s]"
     ]
    },
    {
     "name": "stdout",
     "output_type": "stream",
     "text": [
      "face  0.944 0.158\n",
      "left  0.723 0.305\n",
      "right 0.857 0.209\n"
     ]
    },
    {
     "name": "stderr",
     "output_type": "stream",
     "text": [
      " 31%|███       | 120100/392536 [6:53:39<13:47:02,  5.49it/s]"
     ]
    },
    {
     "name": "stdout",
     "output_type": "stream",
     "text": [
      "face  0.944 0.158\n",
      "left  0.723 0.305\n",
      "right 0.857 0.209\n"
     ]
    },
    {
     "name": "stderr",
     "output_type": "stream",
     "text": [
      " 31%|███       | 120200/392536 [6:54:01<15:58:10,  4.74it/s]"
     ]
    },
    {
     "name": "stdout",
     "output_type": "stream",
     "text": [
      "face  0.944 0.158\n",
      "left  0.723 0.305\n",
      "right 0.857 0.209\n"
     ]
    },
    {
     "name": "stderr",
     "output_type": "stream",
     "text": [
      " 31%|███       | 120300/392536 [6:54:23<19:09:30,  3.95it/s]"
     ]
    },
    {
     "name": "stdout",
     "output_type": "stream",
     "text": [
      "face  0.944 0.158\n",
      "left  0.723 0.305\n",
      "right 0.857 0.209\n"
     ]
    },
    {
     "name": "stderr",
     "output_type": "stream",
     "text": [
      " 31%|███       | 120401/392536 [6:54:41<16:51:43,  4.48it/s]"
     ]
    },
    {
     "name": "stdout",
     "output_type": "stream",
     "text": [
      "face  0.944 0.158\n",
      "left  0.723 0.305\n",
      "right 0.857 0.209\n"
     ]
    },
    {
     "name": "stderr",
     "output_type": "stream",
     "text": [
      " 31%|███       | 120501/392536 [6:55:02<11:22:01,  6.65it/s]"
     ]
    },
    {
     "name": "stdout",
     "output_type": "stream",
     "text": [
      "face  0.944 0.158\n",
      "left  0.723 0.305\n",
      "right 0.857 0.209\n"
     ]
    },
    {
     "name": "stderr",
     "output_type": "stream",
     "text": [
      " 31%|███       | 120601/392536 [6:55:23<12:57:37,  5.83it/s]"
     ]
    },
    {
     "name": "stdout",
     "output_type": "stream",
     "text": [
      "face  0.944 0.158\n",
      "left  0.723 0.305\n",
      "right 0.857 0.209\n"
     ]
    },
    {
     "name": "stderr",
     "output_type": "stream",
     "text": [
      " 31%|███       | 120700/392536 [6:55:44<18:02:16,  4.19it/s]"
     ]
    },
    {
     "name": "stdout",
     "output_type": "stream",
     "text": [
      "face  0.944 0.158\n",
      "left  0.723 0.305\n",
      "right 0.857 0.209\n"
     ]
    },
    {
     "name": "stderr",
     "output_type": "stream",
     "text": [
      " 31%|███       | 120800/392536 [6:56:05<17:11:26,  4.39it/s]"
     ]
    },
    {
     "name": "stdout",
     "output_type": "stream",
     "text": [
      "face  0.944 0.158\n",
      "left  0.723 0.305\n",
      "right 0.857 0.209\n"
     ]
    },
    {
     "name": "stderr",
     "output_type": "stream",
     "text": [
      " 31%|███       | 120901/392536 [6:56:25<11:21:40,  6.64it/s]"
     ]
    },
    {
     "name": "stdout",
     "output_type": "stream",
     "text": [
      "face  0.944 0.158\n",
      "left  0.723 0.305\n",
      "right 0.857 0.209\n"
     ]
    },
    {
     "name": "stderr",
     "output_type": "stream",
     "text": [
      " 31%|███       | 121000/392536 [6:56:44<16:19:07,  4.62it/s]"
     ]
    },
    {
     "name": "stdout",
     "output_type": "stream",
     "text": [
      "face  0.944 0.158\n",
      "left  0.723 0.305\n",
      "right 0.857 0.209\n"
     ]
    },
    {
     "name": "stderr",
     "output_type": "stream",
     "text": [
      " 31%|███       | 121100/392536 [6:57:06<15:55:28,  4.73it/s]"
     ]
    },
    {
     "name": "stdout",
     "output_type": "stream",
     "text": [
      "face  0.944 0.158\n",
      "left  0.723 0.305\n",
      "right 0.857 0.209\n"
     ]
    },
    {
     "name": "stderr",
     "output_type": "stream",
     "text": [
      " 31%|███       | 121200/392536 [6:57:27<14:39:40,  5.14it/s]"
     ]
    },
    {
     "name": "stdout",
     "output_type": "stream",
     "text": [
      "face  0.944 0.158\n",
      "left  0.723 0.305\n",
      "right 0.857 0.209\n"
     ]
    },
    {
     "name": "stderr",
     "output_type": "stream",
     "text": [
      " 31%|███       | 121301/392536 [6:57:45<14:25:18,  5.22it/s]"
     ]
    },
    {
     "name": "stdout",
     "output_type": "stream",
     "text": [
      "face  0.944 0.158\n",
      "left  0.723 0.305\n",
      "right 0.857 0.209\n"
     ]
    },
    {
     "name": "stderr",
     "output_type": "stream",
     "text": [
      " 31%|███       | 121400/392536 [6:58:06<16:35:32,  4.54it/s]"
     ]
    },
    {
     "name": "stdout",
     "output_type": "stream",
     "text": [
      "face  0.944 0.158\n",
      "left  0.723 0.305\n",
      "right 0.857 0.209\n"
     ]
    },
    {
     "name": "stderr",
     "output_type": "stream",
     "text": [
      " 31%|███       | 121500/392536 [6:58:27<11:35:49,  6.49it/s]"
     ]
    },
    {
     "name": "stdout",
     "output_type": "stream",
     "text": [
      "face  0.944 0.158\n",
      "left  0.723 0.305\n",
      "right 0.857 0.209\n"
     ]
    },
    {
     "name": "stderr",
     "output_type": "stream",
     "text": [
      " 31%|███       | 121601/392536 [6:58:45<16:11:54,  4.65it/s]"
     ]
    },
    {
     "name": "stdout",
     "output_type": "stream",
     "text": [
      "face  0.944 0.158\n",
      "left  0.723 0.305\n",
      "right 0.857 0.209\n"
     ]
    },
    {
     "name": "stderr",
     "output_type": "stream",
     "text": [
      " 31%|███       | 121699/392536 [6:59:03<13:13:30,  5.69it/s]"
     ]
    },
    {
     "name": "stdout",
     "output_type": "stream",
     "text": [
      "face  0.944 0.158\n",
      "left  0.723 0.305\n",
      "right 0.857 0.209\n"
     ]
    },
    {
     "name": "stderr",
     "output_type": "stream",
     "text": [
      " 31%|███       | 121800/392536 [6:59:24<14:44:34,  5.10it/s]"
     ]
    },
    {
     "name": "stdout",
     "output_type": "stream",
     "text": [
      "face  0.944 0.158\n",
      "left  0.723 0.305\n",
      "right 0.857 0.209\n"
     ]
    },
    {
     "name": "stderr",
     "output_type": "stream",
     "text": [
      " 31%|███       | 121900/392536 [6:59:45<20:20:58,  3.69it/s]"
     ]
    },
    {
     "name": "stdout",
     "output_type": "stream",
     "text": [
      "face  0.944 0.158\n",
      "left  0.723 0.305\n",
      "right 0.857 0.209\n"
     ]
    },
    {
     "name": "stderr",
     "output_type": "stream",
     "text": [
      " 31%|███       | 122001/392536 [7:00:05<16:34:43,  4.53it/s]"
     ]
    },
    {
     "name": "stdout",
     "output_type": "stream",
     "text": [
      "face  0.944 0.158\n",
      "left  0.723 0.305\n",
      "right 0.857 0.209\n"
     ]
    },
    {
     "name": "stderr",
     "output_type": "stream",
     "text": [
      " 31%|███       | 122100/392536 [7:00:27<17:10:46,  4.37it/s]"
     ]
    },
    {
     "name": "stdout",
     "output_type": "stream",
     "text": [
      "face  0.944 0.158\n",
      "left  0.723 0.305\n",
      "right 0.857 0.209\n"
     ]
    },
    {
     "name": "stderr",
     "output_type": "stream",
     "text": [
      " 31%|███       | 122200/392536 [7:00:48<19:43:58,  3.81it/s]"
     ]
    },
    {
     "name": "stdout",
     "output_type": "stream",
     "text": [
      "face  0.944 0.158\n",
      "left  0.723 0.305\n",
      "right 0.857 0.209\n"
     ]
    },
    {
     "name": "stderr",
     "output_type": "stream",
     "text": [
      " 31%|███       | 122300/392536 [7:01:10<21:00:05,  3.57it/s]"
     ]
    },
    {
     "name": "stdout",
     "output_type": "stream",
     "text": [
      "face  0.944 0.158\n",
      "left  0.723 0.305\n",
      "right 0.857 0.209\n"
     ]
    },
    {
     "name": "stderr",
     "output_type": "stream",
     "text": [
      " 31%|███       | 122400/392536 [7:01:30<15:42:00,  4.78it/s]"
     ]
    },
    {
     "name": "stdout",
     "output_type": "stream",
     "text": [
      "face  0.944 0.158\n",
      "left  0.723 0.305\n",
      "right 0.857 0.209\n"
     ]
    },
    {
     "name": "stderr",
     "output_type": "stream",
     "text": [
      " 31%|███       | 122501/392536 [7:01:52<13:45:03,  5.45it/s]"
     ]
    },
    {
     "name": "stdout",
     "output_type": "stream",
     "text": [
      "face  0.944 0.158\n",
      "left  0.723 0.305\n",
      "right 0.857 0.209\n"
     ]
    },
    {
     "name": "stderr",
     "output_type": "stream",
     "text": [
      " 31%|███       | 122600/392536 [7:02:14<15:48:42,  4.74it/s]"
     ]
    },
    {
     "name": "stdout",
     "output_type": "stream",
     "text": [
      "face  0.944 0.158\n",
      "left  0.723 0.305\n",
      "right 0.857 0.209\n"
     ]
    },
    {
     "name": "stderr",
     "output_type": "stream",
     "text": [
      " 31%|███▏      | 122701/392536 [7:02:36<15:13:41,  4.92it/s]"
     ]
    },
    {
     "name": "stdout",
     "output_type": "stream",
     "text": [
      "face  0.944 0.158\n",
      "left  0.723 0.305\n",
      "right 0.857 0.209\n"
     ]
    },
    {
     "name": "stderr",
     "output_type": "stream",
     "text": [
      " 31%|███▏      | 122800/392536 [7:02:57<11:58:21,  6.26it/s]"
     ]
    },
    {
     "name": "stdout",
     "output_type": "stream",
     "text": [
      "face  0.944 0.158\n",
      "left  0.723 0.305\n",
      "right 0.857 0.209\n"
     ]
    },
    {
     "name": "stderr",
     "output_type": "stream",
     "text": [
      " 31%|███▏      | 122900/392536 [7:03:18<12:46:50,  5.86it/s]"
     ]
    },
    {
     "name": "stdout",
     "output_type": "stream",
     "text": [
      "face  0.944 0.158\n",
      "left  0.723 0.305\n",
      "right 0.857 0.209\n"
     ]
    },
    {
     "name": "stderr",
     "output_type": "stream",
     "text": [
      " 31%|███▏      | 123000/392536 [7:03:41<17:50:06,  4.20it/s]"
     ]
    },
    {
     "name": "stdout",
     "output_type": "stream",
     "text": [
      "face  0.944 0.158\n",
      "left  0.723 0.305\n",
      "right 0.857 0.209\n"
     ]
    },
    {
     "name": "stderr",
     "output_type": "stream",
     "text": [
      " 31%|███▏      | 123101/392536 [7:04:01<16:05:10,  4.65it/s]"
     ]
    },
    {
     "name": "stdout",
     "output_type": "stream",
     "text": [
      "face  0.944 0.158\n",
      "left  0.723 0.305\n",
      "right 0.857 0.209\n"
     ]
    },
    {
     "name": "stderr",
     "output_type": "stream",
     "text": [
      " 31%|███▏      | 123201/392536 [7:04:21<13:19:08,  5.62it/s]"
     ]
    },
    {
     "name": "stdout",
     "output_type": "stream",
     "text": [
      "face  0.944 0.158\n",
      "left  0.723 0.305\n",
      "right 0.857 0.209\n"
     ]
    },
    {
     "name": "stderr",
     "output_type": "stream",
     "text": [
      " 31%|███▏      | 123300/392536 [7:04:41<10:55:58,  6.84it/s]"
     ]
    },
    {
     "name": "stdout",
     "output_type": "stream",
     "text": [
      "face  0.944 0.158\n",
      "left  0.723 0.305\n",
      "right 0.857 0.209\n"
     ]
    },
    {
     "name": "stderr",
     "output_type": "stream",
     "text": [
      " 31%|███▏      | 123400/392536 [7:05:02<21:00:24,  3.56it/s]"
     ]
    },
    {
     "name": "stdout",
     "output_type": "stream",
     "text": [
      "face  0.944 0.158\n",
      "left  0.723 0.305\n",
      "right 0.857 0.209\n"
     ]
    },
    {
     "name": "stderr",
     "output_type": "stream",
     "text": [
      " 31%|███▏      | 123500/392536 [7:05:23<12:53:05,  5.80it/s]"
     ]
    },
    {
     "name": "stdout",
     "output_type": "stream",
     "text": [
      "face  0.944 0.158\n",
      "left  0.723 0.305\n",
      "right 0.857 0.209\n"
     ]
    },
    {
     "name": "stderr",
     "output_type": "stream",
     "text": [
      " 31%|███▏      | 123600/392536 [7:05:41<18:18:00,  4.08it/s]"
     ]
    },
    {
     "name": "stdout",
     "output_type": "stream",
     "text": [
      "face  0.944 0.158\n",
      "left  0.723 0.305\n",
      "right 0.857 0.209\n"
     ]
    },
    {
     "name": "stderr",
     "output_type": "stream",
     "text": [
      " 32%|███▏      | 123700/392536 [7:06:02<14:21:15,  5.20it/s]"
     ]
    },
    {
     "name": "stdout",
     "output_type": "stream",
     "text": [
      "face  0.944 0.158\n",
      "left  0.723 0.305\n",
      "right 0.857 0.209\n"
     ]
    },
    {
     "name": "stderr",
     "output_type": "stream",
     "text": [
      " 32%|███▏      | 123800/392536 [7:06:23<15:12:53,  4.91it/s]"
     ]
    },
    {
     "name": "stdout",
     "output_type": "stream",
     "text": [
      "face  0.944 0.158\n",
      "left  0.723 0.305\n",
      "right 0.857 0.209\n"
     ]
    },
    {
     "name": "stderr",
     "output_type": "stream",
     "text": [
      " 32%|███▏      | 123900/392536 [7:06:45<14:59:34,  4.98it/s]"
     ]
    },
    {
     "name": "stdout",
     "output_type": "stream",
     "text": [
      "face  0.944 0.158\n",
      "left  0.723 0.305\n",
      "right 0.857 0.209\n"
     ]
    },
    {
     "name": "stderr",
     "output_type": "stream",
     "text": [
      " 32%|███▏      | 124000/392536 [7:07:08<18:59:54,  3.93it/s]"
     ]
    },
    {
     "name": "stdout",
     "output_type": "stream",
     "text": [
      "face  0.944 0.158\n",
      "left  0.723 0.305\n",
      "right 0.857 0.209\n"
     ]
    },
    {
     "name": "stderr",
     "output_type": "stream",
     "text": [
      " 32%|███▏      | 124100/392536 [7:07:30<13:05:55,  5.69it/s]"
     ]
    },
    {
     "name": "stdout",
     "output_type": "stream",
     "text": [
      "face  0.944 0.158\n",
      "left  0.723 0.305\n",
      "right 0.857 0.209\n"
     ]
    },
    {
     "name": "stderr",
     "output_type": "stream",
     "text": [
      " 32%|███▏      | 124200/392536 [7:07:51<15:04:57,  4.94it/s]"
     ]
    },
    {
     "name": "stdout",
     "output_type": "stream",
     "text": [
      "face  0.943 0.158\n",
      "left  0.723 0.305\n",
      "right 0.857 0.209\n"
     ]
    },
    {
     "name": "stderr",
     "output_type": "stream",
     "text": [
      " 32%|███▏      | 124300/392536 [7:08:10<15:22:49,  4.84it/s]"
     ]
    },
    {
     "name": "stdout",
     "output_type": "stream",
     "text": [
      "face  0.943 0.158\n",
      "left  0.723 0.305\n",
      "right 0.857 0.209\n"
     ]
    },
    {
     "name": "stderr",
     "output_type": "stream",
     "text": [
      " 32%|███▏      | 124400/392536 [7:08:30<11:37:57,  6.40it/s]"
     ]
    },
    {
     "name": "stdout",
     "output_type": "stream",
     "text": [
      "face  0.943 0.158\n",
      "left  0.723 0.305\n",
      "right 0.857 0.209\n"
     ]
    },
    {
     "name": "stderr",
     "output_type": "stream",
     "text": [
      " 32%|███▏      | 124501/392536 [7:08:50<11:14:55,  6.62it/s]"
     ]
    },
    {
     "name": "stdout",
     "output_type": "stream",
     "text": [
      "face  0.943 0.158\n",
      "left  0.723 0.305\n",
      "right 0.857 0.209\n"
     ]
    },
    {
     "name": "stderr",
     "output_type": "stream",
     "text": [
      " 32%|███▏      | 124600/392536 [7:09:13<18:37:05,  4.00it/s]"
     ]
    },
    {
     "name": "stdout",
     "output_type": "stream",
     "text": [
      "face  0.944 0.158\n",
      "left  0.723 0.305\n",
      "right 0.857 0.209\n"
     ]
    },
    {
     "name": "stderr",
     "output_type": "stream",
     "text": [
      " 32%|███▏      | 124700/392536 [7:09:33<18:09:50,  4.10it/s]"
     ]
    },
    {
     "name": "stdout",
     "output_type": "stream",
     "text": [
      "face  0.943 0.158\n",
      "left  0.723 0.305\n",
      "right 0.857 0.209\n"
     ]
    },
    {
     "name": "stderr",
     "output_type": "stream",
     "text": [
      " 32%|███▏      | 124800/392536 [7:09:53<13:46:00,  5.40it/s]"
     ]
    },
    {
     "name": "stdout",
     "output_type": "stream",
     "text": [
      "face  0.943 0.158\n",
      "left  0.723 0.305\n",
      "right 0.857 0.209\n"
     ]
    },
    {
     "name": "stderr",
     "output_type": "stream",
     "text": [
      " 32%|███▏      | 124900/392536 [7:10:14<17:17:09,  4.30it/s]"
     ]
    },
    {
     "name": "stdout",
     "output_type": "stream",
     "text": [
      "face  0.943 0.158\n",
      "left  0.723 0.305\n",
      "right 0.857 0.209\n"
     ]
    },
    {
     "name": "stderr",
     "output_type": "stream",
     "text": [
      " 32%|███▏      | 125000/392536 [7:10:35<12:14:20,  6.07it/s]"
     ]
    },
    {
     "name": "stdout",
     "output_type": "stream",
     "text": [
      "face  0.944 0.158\n",
      "left  0.723 0.305\n",
      "right 0.857 0.209\n"
     ]
    },
    {
     "name": "stderr",
     "output_type": "stream",
     "text": [
      " 32%|███▏      | 125100/392536 [7:10:55<13:39:22,  5.44it/s]"
     ]
    },
    {
     "name": "stdout",
     "output_type": "stream",
     "text": [
      "face  0.943 0.158\n",
      "left  0.723 0.305\n",
      "right 0.857 0.209\n"
     ]
    },
    {
     "name": "stderr",
     "output_type": "stream",
     "text": [
      " 32%|███▏      | 125201/392536 [7:11:18<14:02:58,  5.29it/s]"
     ]
    },
    {
     "name": "stdout",
     "output_type": "stream",
     "text": [
      "face  0.943 0.158\n",
      "left  0.723 0.305\n",
      "right 0.857 0.209\n"
     ]
    },
    {
     "name": "stderr",
     "output_type": "stream",
     "text": [
      " 32%|███▏      | 125300/392536 [7:11:38<14:09:42,  5.24it/s]"
     ]
    },
    {
     "name": "stdout",
     "output_type": "stream",
     "text": [
      "face  0.943 0.158\n",
      "left  0.723 0.305\n",
      "right 0.857 0.209\n"
     ]
    },
    {
     "name": "stderr",
     "output_type": "stream",
     "text": [
      " 32%|███▏      | 125400/392536 [7:11:59<15:12:01,  4.88it/s]"
     ]
    },
    {
     "name": "stdout",
     "output_type": "stream",
     "text": [
      "face  0.943 0.158\n",
      "left  0.723 0.305\n",
      "right 0.857 0.209\n"
     ]
    },
    {
     "name": "stderr",
     "output_type": "stream",
     "text": [
      " 32%|███▏      | 125501/392536 [7:12:22<23:18:16,  3.18it/s]"
     ]
    },
    {
     "name": "stdout",
     "output_type": "stream",
     "text": [
      "face  0.944 0.158\n",
      "left  0.723 0.305\n",
      "right 0.857 0.209\n"
     ]
    },
    {
     "name": "stderr",
     "output_type": "stream",
     "text": [
      " 32%|███▏      | 125600/392536 [7:12:43<14:17:42,  5.19it/s]"
     ]
    },
    {
     "name": "stdout",
     "output_type": "stream",
     "text": [
      "face  0.944 0.158\n",
      "left  0.723 0.305\n",
      "right 0.857 0.209\n"
     ]
    },
    {
     "name": "stderr",
     "output_type": "stream",
     "text": [
      " 32%|███▏      | 125700/392536 [7:13:05<16:20:36,  4.54it/s]"
     ]
    },
    {
     "name": "stdout",
     "output_type": "stream",
     "text": [
      "face  0.944 0.158\n",
      "left  0.723 0.305\n",
      "right 0.857 0.209\n"
     ]
    },
    {
     "name": "stderr",
     "output_type": "stream",
     "text": [
      " 32%|███▏      | 125800/392536 [7:13:28<14:30:42,  5.11it/s]"
     ]
    },
    {
     "name": "stdout",
     "output_type": "stream",
     "text": [
      "face  0.944 0.158\n",
      "left  0.723 0.305\n",
      "right 0.857 0.209\n"
     ]
    },
    {
     "name": "stderr",
     "output_type": "stream",
     "text": [
      " 32%|███▏      | 125900/392536 [7:13:50<13:56:05,  5.32it/s]"
     ]
    },
    {
     "name": "stdout",
     "output_type": "stream",
     "text": [
      "face  0.944 0.158\n",
      "left  0.723 0.305\n",
      "right 0.857 0.209\n"
     ]
    },
    {
     "name": "stderr",
     "output_type": "stream",
     "text": [
      " 32%|███▏      | 126001/392536 [7:14:12<15:39:36,  4.73it/s]"
     ]
    },
    {
     "name": "stdout",
     "output_type": "stream",
     "text": [
      "face  0.944 0.158\n",
      "left  0.723 0.305\n",
      "right 0.857 0.209\n"
     ]
    },
    {
     "name": "stderr",
     "output_type": "stream",
     "text": [
      " 32%|███▏      | 126100/392536 [7:14:33<12:53:53,  5.74it/s]"
     ]
    },
    {
     "name": "stdout",
     "output_type": "stream",
     "text": [
      "face  0.944 0.158\n",
      "left  0.723 0.305\n",
      "right 0.857 0.209\n"
     ]
    },
    {
     "name": "stderr",
     "output_type": "stream",
     "text": [
      " 32%|███▏      | 126201/392536 [7:14:52<12:36:28,  5.87it/s]"
     ]
    },
    {
     "name": "stdout",
     "output_type": "stream",
     "text": [
      "face  0.944 0.158\n",
      "left  0.723 0.305\n",
      "right 0.857 0.209\n"
     ]
    },
    {
     "name": "stderr",
     "output_type": "stream",
     "text": [
      " 32%|███▏      | 126301/392536 [7:15:10<12:18:45,  6.01it/s]"
     ]
    },
    {
     "name": "stdout",
     "output_type": "stream",
     "text": [
      "face  0.944 0.158\n",
      "left  0.723 0.305\n",
      "right 0.857 0.209\n"
     ]
    },
    {
     "name": "stderr",
     "output_type": "stream",
     "text": [
      " 32%|███▏      | 126401/392536 [7:15:31<12:02:36,  6.14it/s]"
     ]
    },
    {
     "name": "stdout",
     "output_type": "stream",
     "text": [
      "face  0.944 0.158\n",
      "left  0.723 0.305\n",
      "right 0.857 0.209\n"
     ]
    },
    {
     "name": "stderr",
     "output_type": "stream",
     "text": [
      " 32%|███▏      | 126500/392536 [7:15:54<20:15:11,  3.65it/s]"
     ]
    },
    {
     "name": "stdout",
     "output_type": "stream",
     "text": [
      "face  0.944 0.158\n",
      "left  0.723 0.305\n",
      "right 0.857 0.209\n"
     ]
    },
    {
     "name": "stderr",
     "output_type": "stream",
     "text": [
      " 32%|███▏      | 126601/392536 [7:16:15<13:52:03,  5.33it/s]"
     ]
    },
    {
     "name": "stdout",
     "output_type": "stream",
     "text": [
      "face  0.944 0.158\n",
      "left  0.723 0.305\n",
      "right 0.857 0.209\n"
     ]
    },
    {
     "name": "stderr",
     "output_type": "stream",
     "text": [
      " 32%|███▏      | 126700/392536 [7:16:39<17:28:19,  4.23it/s]"
     ]
    },
    {
     "name": "stdout",
     "output_type": "stream",
     "text": [
      "face  0.944 0.158\n",
      "left  0.723 0.305\n",
      "right 0.857 0.209\n"
     ]
    },
    {
     "name": "stderr",
     "output_type": "stream",
     "text": [
      " 32%|███▏      | 126801/392536 [7:17:02<17:39:25,  4.18it/s]"
     ]
    },
    {
     "name": "stdout",
     "output_type": "stream",
     "text": [
      "face  0.944 0.158\n",
      "left  0.723 0.305\n",
      "right 0.857 0.209\n"
     ]
    },
    {
     "name": "stderr",
     "output_type": "stream",
     "text": [
      " 32%|███▏      | 126900/392536 [7:17:24<17:01:47,  4.33it/s]"
     ]
    },
    {
     "name": "stdout",
     "output_type": "stream",
     "text": [
      "face  0.944 0.158\n",
      "left  0.723 0.305\n",
      "right 0.857 0.209\n"
     ]
    },
    {
     "name": "stderr",
     "output_type": "stream",
     "text": [
      " 32%|███▏      | 127000/392536 [7:17:47<15:04:40,  4.89it/s]"
     ]
    },
    {
     "name": "stdout",
     "output_type": "stream",
     "text": [
      "face  0.944 0.158\n",
      "left  0.723 0.305\n",
      "right 0.857 0.209\n"
     ]
    },
    {
     "name": "stderr",
     "output_type": "stream",
     "text": [
      " 32%|███▏      | 127101/392536 [7:18:07<13:52:58,  5.31it/s]"
     ]
    },
    {
     "name": "stdout",
     "output_type": "stream",
     "text": [
      "face  0.943 0.158\n",
      "left  0.723 0.305\n",
      "right 0.857 0.209\n"
     ]
    },
    {
     "name": "stderr",
     "output_type": "stream",
     "text": [
      " 32%|███▏      | 127201/392536 [7:18:26<15:31:36,  4.75it/s]"
     ]
    },
    {
     "name": "stdout",
     "output_type": "stream",
     "text": [
      "face  0.943 0.158\n",
      "left  0.723 0.305\n",
      "right 0.857 0.209\n"
     ]
    },
    {
     "name": "stderr",
     "output_type": "stream",
     "text": [
      " 32%|███▏      | 127300/392536 [7:18:48<16:08:52,  4.56it/s]"
     ]
    },
    {
     "name": "stdout",
     "output_type": "stream",
     "text": [
      "face  0.943 0.158\n",
      "left  0.723 0.305\n",
      "right 0.857 0.209\n"
     ]
    },
    {
     "name": "stderr",
     "output_type": "stream",
     "text": [
      " 32%|███▏      | 127400/392536 [7:19:10<10:44:16,  6.86it/s]"
     ]
    },
    {
     "name": "stdout",
     "output_type": "stream",
     "text": [
      "face  0.943 0.158\n",
      "left  0.723 0.305\n",
      "right 0.857 0.209\n"
     ]
    },
    {
     "name": "stderr",
     "output_type": "stream",
     "text": [
      " 32%|███▏      | 127501/392536 [7:19:31<16:17:55,  4.52it/s]"
     ]
    },
    {
     "name": "stdout",
     "output_type": "stream",
     "text": [
      "face  0.943 0.158\n",
      "left  0.723 0.305\n",
      "right 0.857 0.209\n"
     ]
    },
    {
     "name": "stderr",
     "output_type": "stream",
     "text": [
      " 33%|███▎      | 127601/392536 [7:19:52<14:43:04,  5.00it/s]"
     ]
    },
    {
     "name": "stdout",
     "output_type": "stream",
     "text": [
      "face  0.943 0.158\n",
      "left  0.723 0.305\n",
      "right 0.857 0.209\n"
     ]
    },
    {
     "name": "stderr",
     "output_type": "stream",
     "text": [
      " 33%|███▎      | 127700/392536 [7:20:12<14:56:08,  4.93it/s]"
     ]
    },
    {
     "name": "stdout",
     "output_type": "stream",
     "text": [
      "face  0.943 0.158\n",
      "left  0.723 0.305\n",
      "right 0.857 0.209\n"
     ]
    },
    {
     "name": "stderr",
     "output_type": "stream",
     "text": [
      " 33%|███▎      | 127800/392536 [7:20:35<15:58:50,  4.60it/s]"
     ]
    },
    {
     "name": "stdout",
     "output_type": "stream",
     "text": [
      "face  0.943 0.158\n",
      "left  0.723 0.305\n",
      "right 0.857 0.209\n"
     ]
    },
    {
     "name": "stderr",
     "output_type": "stream",
     "text": [
      " 33%|███▎      | 127900/392536 [7:20:54<16:37:57,  4.42it/s]"
     ]
    },
    {
     "name": "stdout",
     "output_type": "stream",
     "text": [
      "face  0.943 0.158\n",
      "left  0.723 0.305\n",
      "right 0.857 0.209\n"
     ]
    },
    {
     "name": "stderr",
     "output_type": "stream",
     "text": [
      " 33%|███▎      | 128000/392536 [7:21:17<12:48:31,  5.74it/s]"
     ]
    },
    {
     "name": "stdout",
     "output_type": "stream",
     "text": [
      "face  0.943 0.158\n",
      "left  0.723 0.305\n",
      "right 0.857 0.209\n"
     ]
    },
    {
     "name": "stderr",
     "output_type": "stream",
     "text": [
      " 33%|███▎      | 128100/392536 [7:21:38<15:10:42,  4.84it/s]"
     ]
    },
    {
     "name": "stdout",
     "output_type": "stream",
     "text": [
      "face  0.943 0.158\n",
      "left  0.723 0.305\n",
      "right 0.857 0.209\n"
     ]
    },
    {
     "name": "stderr",
     "output_type": "stream",
     "text": [
      " 33%|███▎      | 128201/392536 [7:22:00<14:59:53,  4.90it/s]"
     ]
    },
    {
     "name": "stdout",
     "output_type": "stream",
     "text": [
      "face  0.943 0.158\n",
      "left  0.723 0.305\n",
      "right 0.857 0.209\n"
     ]
    },
    {
     "name": "stderr",
     "output_type": "stream",
     "text": [
      " 33%|███▎      | 128300/392536 [7:22:22<19:34:10,  3.75it/s]"
     ]
    },
    {
     "name": "stdout",
     "output_type": "stream",
     "text": [
      "face  0.943 0.158\n",
      "left  0.723 0.305\n",
      "right 0.857 0.209\n"
     ]
    },
    {
     "name": "stderr",
     "output_type": "stream",
     "text": [
      " 33%|███▎      | 128400/392536 [7:22:44<15:24:38,  4.76it/s]"
     ]
    },
    {
     "name": "stdout",
     "output_type": "stream",
     "text": [
      "face  0.943 0.158\n",
      "left  0.723 0.305\n",
      "right 0.857 0.209\n"
     ]
    },
    {
     "name": "stderr",
     "output_type": "stream",
     "text": [
      " 33%|███▎      | 128501/392536 [7:23:06<17:16:20,  4.25it/s]"
     ]
    },
    {
     "name": "stdout",
     "output_type": "stream",
     "text": [
      "face  0.943 0.158\n",
      "left  0.723 0.305\n",
      "right 0.857 0.209\n"
     ]
    },
    {
     "name": "stderr",
     "output_type": "stream",
     "text": [
      " 33%|███▎      | 128600/392536 [7:23:27<11:22:34,  6.44it/s]"
     ]
    },
    {
     "name": "stdout",
     "output_type": "stream",
     "text": [
      "face  0.943 0.158\n",
      "left  0.723 0.305\n",
      "right 0.857 0.209\n"
     ]
    },
    {
     "name": "stderr",
     "output_type": "stream",
     "text": [
      " 33%|███▎      | 128700/392536 [7:23:48<17:01:22,  4.31it/s]"
     ]
    },
    {
     "name": "stdout",
     "output_type": "stream",
     "text": [
      "face  0.943 0.159\n",
      "left  0.723 0.305\n",
      "right 0.857 0.209\n"
     ]
    },
    {
     "name": "stderr",
     "output_type": "stream",
     "text": [
      " 33%|███▎      | 128800/392536 [7:24:09<14:30:23,  5.05it/s]"
     ]
    },
    {
     "name": "stdout",
     "output_type": "stream",
     "text": [
      "face  0.943 0.158\n",
      "left  0.723 0.305\n",
      "right 0.857 0.209\n"
     ]
    },
    {
     "name": "stderr",
     "output_type": "stream",
     "text": [
      " 33%|███▎      | 128901/392536 [7:24:29<11:57:27,  6.12it/s]"
     ]
    },
    {
     "name": "stdout",
     "output_type": "stream",
     "text": [
      "face  0.943 0.159\n",
      "left  0.723 0.305\n",
      "right 0.857 0.209\n"
     ]
    },
    {
     "name": "stderr",
     "output_type": "stream",
     "text": [
      " 33%|███▎      | 129000/392536 [7:24:51<19:34:13,  3.74it/s]"
     ]
    },
    {
     "name": "stdout",
     "output_type": "stream",
     "text": [
      "face  0.943 0.159\n",
      "left  0.723 0.305\n",
      "right 0.857 0.209\n"
     ]
    },
    {
     "name": "stderr",
     "output_type": "stream",
     "text": [
      " 33%|███▎      | 129100/392536 [7:25:11<14:16:20,  5.13it/s]"
     ]
    },
    {
     "name": "stdout",
     "output_type": "stream",
     "text": [
      "face  0.943 0.159\n",
      "left  0.723 0.305\n",
      "right 0.857 0.209\n"
     ]
    },
    {
     "name": "stderr",
     "output_type": "stream",
     "text": [
      " 33%|███▎      | 129200/392536 [7:25:33<16:53:50,  4.33it/s]"
     ]
    },
    {
     "name": "stdout",
     "output_type": "stream",
     "text": [
      "face  0.943 0.158\n",
      "left  0.723 0.305\n",
      "right 0.857 0.209\n"
     ]
    },
    {
     "name": "stderr",
     "output_type": "stream",
     "text": [
      " 33%|███▎      | 129300/392536 [7:25:55<17:50:06,  4.10it/s]"
     ]
    },
    {
     "name": "stdout",
     "output_type": "stream",
     "text": [
      "face  0.943 0.158\n",
      "left  0.723 0.305\n",
      "right 0.857 0.209\n"
     ]
    },
    {
     "name": "stderr",
     "output_type": "stream",
     "text": [
      " 33%|███▎      | 129401/392536 [7:26:17<12:33:05,  5.82it/s]"
     ]
    },
    {
     "name": "stdout",
     "output_type": "stream",
     "text": [
      "face  0.943 0.158\n",
      "left  0.723 0.305\n",
      "right 0.857 0.209\n"
     ]
    },
    {
     "name": "stderr",
     "output_type": "stream",
     "text": [
      " 33%|███▎      | 129500/392536 [7:26:36<16:06:57,  4.53it/s]"
     ]
    },
    {
     "name": "stdout",
     "output_type": "stream",
     "text": [
      "face  0.943 0.158\n",
      "left  0.723 0.305\n",
      "right 0.857 0.209\n"
     ]
    },
    {
     "name": "stderr",
     "output_type": "stream",
     "text": [
      " 33%|███▎      | 129602/392536 [7:26:56<11:04:47,  6.59it/s]"
     ]
    },
    {
     "name": "stdout",
     "output_type": "stream",
     "text": [
      "face  0.943 0.158\n",
      "left  0.723 0.305\n",
      "right 0.857 0.209\n"
     ]
    },
    {
     "name": "stderr",
     "output_type": "stream",
     "text": [
      " 33%|███▎      | 129701/392536 [7:27:17<17:31:46,  4.16it/s]"
     ]
    },
    {
     "name": "stdout",
     "output_type": "stream",
     "text": [
      "face  0.943 0.158\n",
      "left  0.723 0.305\n",
      "right 0.857 0.209\n"
     ]
    },
    {
     "name": "stderr",
     "output_type": "stream",
     "text": [
      " 33%|███▎      | 129800/392536 [7:27:40<16:11:11,  4.51it/s]"
     ]
    },
    {
     "name": "stdout",
     "output_type": "stream",
     "text": [
      "face  0.943 0.158\n",
      "left  0.723 0.305\n",
      "right 0.857 0.209\n"
     ]
    },
    {
     "name": "stderr",
     "output_type": "stream",
     "text": [
      " 33%|███▎      | 129901/392536 [7:28:00<14:48:42,  4.93it/s]"
     ]
    },
    {
     "name": "stdout",
     "output_type": "stream",
     "text": [
      "face  0.943 0.158\n",
      "left  0.723 0.305\n",
      "right 0.857 0.209\n"
     ]
    },
    {
     "name": "stderr",
     "output_type": "stream",
     "text": [
      " 33%|███▎      | 130000/392536 [7:28:22<17:46:27,  4.10it/s]"
     ]
    },
    {
     "name": "stdout",
     "output_type": "stream",
     "text": [
      "face  0.943 0.158\n",
      "left  0.723 0.305\n",
      "right 0.857 0.209\n"
     ]
    },
    {
     "name": "stderr",
     "output_type": "stream",
     "text": [
      " 33%|███▎      | 130101/392536 [7:28:44<15:24:27,  4.73it/s]"
     ]
    },
    {
     "name": "stdout",
     "output_type": "stream",
     "text": [
      "face  0.943 0.158\n",
      "left  0.723 0.305\n",
      "right 0.857 0.209\n"
     ]
    },
    {
     "name": "stderr",
     "output_type": "stream",
     "text": [
      " 33%|███▎      | 130201/392536 [7:29:06<12:34:41,  5.79it/s]"
     ]
    },
    {
     "name": "stdout",
     "output_type": "stream",
     "text": [
      "face  0.943 0.158\n",
      "left  0.723 0.305\n",
      "right 0.857 0.209\n"
     ]
    },
    {
     "name": "stderr",
     "output_type": "stream",
     "text": [
      " 33%|███▎      | 130300/392536 [7:29:27<10:21:46,  7.03it/s]"
     ]
    },
    {
     "name": "stdout",
     "output_type": "stream",
     "text": [
      "face  0.943 0.158\n",
      "left  0.723 0.305\n",
      "right 0.857 0.209\n"
     ]
    },
    {
     "name": "stderr",
     "output_type": "stream",
     "text": [
      " 33%|███▎      | 130401/392536 [7:29:47<14:07:06,  5.16it/s]"
     ]
    },
    {
     "name": "stdout",
     "output_type": "stream",
     "text": [
      "face  0.943 0.158\n",
      "left  0.723 0.305\n",
      "right 0.857 0.209\n"
     ]
    },
    {
     "name": "stderr",
     "output_type": "stream",
     "text": [
      " 33%|███▎      | 130500/392536 [7:30:06<10:32:55,  6.90it/s]"
     ]
    },
    {
     "name": "stdout",
     "output_type": "stream",
     "text": [
      "face  0.943 0.158\n",
      "left  0.723 0.305\n",
      "right 0.857 0.209\n"
     ]
    },
    {
     "name": "stderr",
     "output_type": "stream",
     "text": [
      " 33%|███▎      | 130600/392536 [7:30:24<8:45:16,  8.31it/s] "
     ]
    },
    {
     "name": "stdout",
     "output_type": "stream",
     "text": [
      "face  0.943 0.158\n",
      "left  0.723 0.305\n",
      "right 0.857 0.209\n"
     ]
    },
    {
     "name": "stderr",
     "output_type": "stream",
     "text": [
      " 33%|███▎      | 130701/392536 [7:30:47<23:26:19,  3.10it/s]"
     ]
    },
    {
     "name": "stdout",
     "output_type": "stream",
     "text": [
      "face  0.943 0.159\n",
      "left  0.723 0.305\n",
      "right 0.857 0.209\n"
     ]
    },
    {
     "name": "stderr",
     "output_type": "stream",
     "text": [
      " 33%|███▎      | 130800/392536 [7:31:07<16:07:02,  4.51it/s]"
     ]
    },
    {
     "name": "stdout",
     "output_type": "stream",
     "text": [
      "face  0.943 0.158\n",
      "left  0.723 0.305\n",
      "right 0.857 0.209\n"
     ]
    },
    {
     "name": "stderr",
     "output_type": "stream",
     "text": [
      " 33%|███▎      | 130900/392536 [7:31:26<25:08:11,  2.89it/s]"
     ]
    },
    {
     "name": "stdout",
     "output_type": "stream",
     "text": [
      "face  0.943 0.158\n",
      "left  0.723 0.305\n",
      "right 0.857 0.209\n"
     ]
    },
    {
     "name": "stderr",
     "output_type": "stream",
     "text": [
      " 33%|███▎      | 131000/392536 [7:31:49<15:54:29,  4.57it/s]"
     ]
    },
    {
     "name": "stdout",
     "output_type": "stream",
     "text": [
      "face  0.943 0.159\n",
      "left  0.723 0.305\n",
      "right 0.857 0.209\n"
     ]
    },
    {
     "name": "stderr",
     "output_type": "stream",
     "text": [
      " 33%|███▎      | 131100/392536 [7:32:09<16:59:11,  4.28it/s]"
     ]
    },
    {
     "name": "stdout",
     "output_type": "stream",
     "text": [
      "face  0.943 0.159\n",
      "left  0.723 0.305\n",
      "right 0.857 0.209\n"
     ]
    },
    {
     "name": "stderr",
     "output_type": "stream",
     "text": [
      " 33%|███▎      | 131200/392536 [7:32:31<22:19:40,  3.25it/s]"
     ]
    },
    {
     "name": "stdout",
     "output_type": "stream",
     "text": [
      "face  0.943 0.159\n",
      "left  0.723 0.305\n",
      "right 0.857 0.209\n"
     ]
    },
    {
     "name": "stderr",
     "output_type": "stream",
     "text": [
      " 33%|███▎      | 131300/392536 [7:32:54<14:32:50,  4.99it/s]"
     ]
    },
    {
     "name": "stdout",
     "output_type": "stream",
     "text": [
      "face  0.943 0.159\n",
      "left  0.723 0.305\n",
      "right 0.857 0.209\n"
     ]
    },
    {
     "name": "stderr",
     "output_type": "stream",
     "text": [
      " 33%|███▎      | 131400/392536 [7:33:18<15:41:04,  4.62it/s]"
     ]
    },
    {
     "name": "stdout",
     "output_type": "stream",
     "text": [
      "face  0.943 0.159\n",
      "left  0.723 0.305\n",
      "right 0.857 0.209\n"
     ]
    },
    {
     "name": "stderr",
     "output_type": "stream",
     "text": [
      " 34%|███▎      | 131500/392536 [7:33:40<16:57:55,  4.27it/s]"
     ]
    },
    {
     "name": "stdout",
     "output_type": "stream",
     "text": [
      "face  0.943 0.159\n",
      "left  0.723 0.305\n",
      "right 0.857 0.209\n"
     ]
    },
    {
     "name": "stderr",
     "output_type": "stream",
     "text": [
      " 34%|███▎      | 131600/392536 [7:34:01<17:23:35,  4.17it/s]"
     ]
    },
    {
     "name": "stdout",
     "output_type": "stream",
     "text": [
      "face  0.943 0.158\n",
      "left  0.723 0.305\n",
      "right 0.857 0.209\n"
     ]
    },
    {
     "name": "stderr",
     "output_type": "stream",
     "text": [
      " 34%|███▎      | 131700/392536 [7:34:22<15:38:05,  4.63it/s]"
     ]
    },
    {
     "name": "stdout",
     "output_type": "stream",
     "text": [
      "face  0.944 0.158\n",
      "left  0.723 0.305\n",
      "right 0.857 0.209\n"
     ]
    },
    {
     "name": "stderr",
     "output_type": "stream",
     "text": [
      " 34%|███▎      | 131801/392536 [7:34:42<18:15:04,  3.97it/s]"
     ]
    },
    {
     "name": "stdout",
     "output_type": "stream",
     "text": [
      "face  0.944 0.158\n",
      "left  0.723 0.305\n",
      "right 0.857 0.209\n"
     ]
    },
    {
     "name": "stderr",
     "output_type": "stream",
     "text": [
      " 34%|███▎      | 131900/392536 [7:35:03<14:25:17,  5.02it/s]"
     ]
    },
    {
     "name": "stdout",
     "output_type": "stream",
     "text": [
      "face  0.943 0.158\n",
      "left  0.723 0.305\n",
      "right 0.857 0.209\n"
     ]
    },
    {
     "name": "stderr",
     "output_type": "stream",
     "text": [
      " 34%|███▎      | 132000/392536 [7:35:25<26:52:01,  2.69it/s]"
     ]
    },
    {
     "name": "stdout",
     "output_type": "stream",
     "text": [
      "face  0.943 0.158\n",
      "left  0.723 0.305\n",
      "right 0.857 0.209\n"
     ]
    },
    {
     "name": "stderr",
     "output_type": "stream",
     "text": [
      " 34%|███▎      | 132100/392536 [7:35:46<17:09:01,  4.22it/s]"
     ]
    },
    {
     "name": "stdout",
     "output_type": "stream",
     "text": [
      "face  0.943 0.159\n",
      "left  0.723 0.305\n",
      "right 0.857 0.209\n"
     ]
    },
    {
     "name": "stderr",
     "output_type": "stream",
     "text": [
      " 34%|███▎      | 132200/392536 [7:36:06<15:25:16,  4.69it/s]"
     ]
    },
    {
     "name": "stdout",
     "output_type": "stream",
     "text": [
      "face  0.943 0.159\n",
      "left  0.723 0.305\n",
      "right 0.857 0.209\n"
     ]
    },
    {
     "name": "stderr",
     "output_type": "stream",
     "text": [
      " 34%|███▎      | 132300/392536 [7:36:28<14:39:28,  4.93it/s]"
     ]
    },
    {
     "name": "stdout",
     "output_type": "stream",
     "text": [
      "face  0.943 0.159\n",
      "left  0.723 0.305\n",
      "right 0.857 0.209\n"
     ]
    },
    {
     "name": "stderr",
     "output_type": "stream",
     "text": [
      " 34%|███▎      | 132400/392536 [7:36:51<15:55:54,  4.54it/s]"
     ]
    },
    {
     "name": "stdout",
     "output_type": "stream",
     "text": [
      "face  0.943 0.159\n",
      "left  0.723 0.305\n",
      "right 0.857 0.209\n"
     ]
    },
    {
     "name": "stderr",
     "output_type": "stream",
     "text": [
      " 34%|███▍      | 132500/392536 [7:37:10<15:49:57,  4.56it/s]"
     ]
    },
    {
     "name": "stdout",
     "output_type": "stream",
     "text": [
      "face  0.943 0.159\n",
      "left  0.723 0.305\n",
      "right 0.857 0.209\n"
     ]
    },
    {
     "name": "stderr",
     "output_type": "stream",
     "text": [
      " 34%|███▍      | 132600/392536 [7:37:32<15:31:30,  4.65it/s]"
     ]
    },
    {
     "name": "stdout",
     "output_type": "stream",
     "text": [
      "face  0.943 0.159\n",
      "left  0.723 0.305\n",
      "right 0.857 0.209\n"
     ]
    },
    {
     "name": "stderr",
     "output_type": "stream",
     "text": [
      " 34%|███▍      | 132700/392536 [7:37:54<15:54:58,  4.53it/s]"
     ]
    },
    {
     "name": "stdout",
     "output_type": "stream",
     "text": [
      "face  0.943 0.159\n",
      "left  0.723 0.305\n",
      "right 0.857 0.209\n"
     ]
    },
    {
     "name": "stderr",
     "output_type": "stream",
     "text": [
      " 34%|███▍      | 132800/392536 [7:38:13<10:55:16,  6.61it/s]"
     ]
    },
    {
     "name": "stdout",
     "output_type": "stream",
     "text": [
      "face  0.943 0.159\n",
      "left  0.723 0.305\n",
      "right 0.857 0.209\n"
     ]
    },
    {
     "name": "stderr",
     "output_type": "stream",
     "text": [
      " 34%|███▍      | 132900/392536 [7:38:34<13:16:15,  5.43it/s]"
     ]
    },
    {
     "name": "stdout",
     "output_type": "stream",
     "text": [
      "face  0.943 0.159\n",
      "left  0.723 0.305\n",
      "right 0.857 0.209\n"
     ]
    },
    {
     "name": "stderr",
     "output_type": "stream",
     "text": [
      " 34%|███▍      | 133000/392536 [7:38:57<13:03:17,  5.52it/s]"
     ]
    },
    {
     "name": "stdout",
     "output_type": "stream",
     "text": [
      "face  0.943 0.159\n",
      "left  0.723 0.305\n",
      "right 0.857 0.209\n"
     ]
    },
    {
     "name": "stderr",
     "output_type": "stream",
     "text": [
      " 34%|███▍      | 133100/392536 [7:39:18<15:53:59,  4.53it/s]"
     ]
    },
    {
     "name": "stdout",
     "output_type": "stream",
     "text": [
      "face  0.943 0.159\n",
      "left  0.723 0.305\n",
      "right 0.857 0.209\n"
     ]
    },
    {
     "name": "stderr",
     "output_type": "stream",
     "text": [
      " 34%|███▍      | 133200/392536 [7:39:40<17:08:00,  4.20it/s]"
     ]
    },
    {
     "name": "stdout",
     "output_type": "stream",
     "text": [
      "face  0.943 0.159\n",
      "left  0.723 0.305\n",
      "right 0.857 0.209\n"
     ]
    },
    {
     "name": "stderr",
     "output_type": "stream",
     "text": [
      " 34%|███▍      | 133300/392536 [7:40:00<15:38:26,  4.60it/s]"
     ]
    },
    {
     "name": "stdout",
     "output_type": "stream",
     "text": [
      "face  0.943 0.159\n",
      "left  0.723 0.305\n",
      "right 0.857 0.209\n"
     ]
    },
    {
     "name": "stderr",
     "output_type": "stream",
     "text": [
      " 34%|███▍      | 133400/392536 [7:40:22<19:57:24,  3.61it/s]"
     ]
    },
    {
     "name": "stdout",
     "output_type": "stream",
     "text": [
      "face  0.943 0.159\n",
      "left  0.723 0.305\n",
      "right 0.857 0.209\n"
     ]
    },
    {
     "name": "stderr",
     "output_type": "stream",
     "text": [
      " 34%|███▍      | 133500/392536 [7:40:45<18:04:05,  3.98it/s]"
     ]
    },
    {
     "name": "stdout",
     "output_type": "stream",
     "text": [
      "face  0.943 0.159\n",
      "left  0.723 0.305\n",
      "right 0.857 0.209\n"
     ]
    },
    {
     "name": "stderr",
     "output_type": "stream",
     "text": [
      " 34%|███▍      | 133601/392536 [7:41:05<11:50:29,  6.07it/s]"
     ]
    },
    {
     "name": "stdout",
     "output_type": "stream",
     "text": [
      "face  0.943 0.159\n",
      "left  0.723 0.305\n",
      "right 0.857 0.209\n"
     ]
    },
    {
     "name": "stderr",
     "output_type": "stream",
     "text": [
      " 34%|███▍      | 133700/392536 [7:41:25<16:50:04,  4.27it/s]"
     ]
    },
    {
     "name": "stdout",
     "output_type": "stream",
     "text": [
      "face  0.943 0.159\n",
      "left  0.723 0.305\n",
      "right 0.857 0.209\n"
     ]
    },
    {
     "name": "stderr",
     "output_type": "stream",
     "text": [
      " 34%|███▍      | 133800/392536 [7:41:43<12:01:10,  5.98it/s]"
     ]
    },
    {
     "name": "stdout",
     "output_type": "stream",
     "text": [
      "face  0.943 0.159\n",
      "left  0.723 0.305\n",
      "right 0.857 0.209\n"
     ]
    },
    {
     "name": "stderr",
     "output_type": "stream",
     "text": [
      " 34%|███▍      | 133901/392536 [7:42:07<17:15:39,  4.16it/s]"
     ]
    },
    {
     "name": "stdout",
     "output_type": "stream",
     "text": [
      "face  0.943 0.159\n",
      "left  0.723 0.305\n",
      "right 0.857 0.209\n"
     ]
    },
    {
     "name": "stderr",
     "output_type": "stream",
     "text": [
      " 34%|███▍      | 134000/392536 [7:42:26<15:48:50,  4.54it/s]"
     ]
    },
    {
     "name": "stdout",
     "output_type": "stream",
     "text": [
      "face  0.943 0.159\n",
      "left  0.723 0.305\n",
      "right 0.857 0.209\n"
     ]
    },
    {
     "name": "stderr",
     "output_type": "stream",
     "text": [
      " 34%|███▍      | 134100/392536 [7:42:49<18:36:57,  3.86it/s]"
     ]
    },
    {
     "name": "stdout",
     "output_type": "stream",
     "text": [
      "face  0.943 0.159\n",
      "left  0.723 0.305\n",
      "right 0.857 0.209\n"
     ]
    },
    {
     "name": "stderr",
     "output_type": "stream",
     "text": [
      " 34%|███▍      | 134201/392536 [7:43:13<19:40:54,  3.65it/s]"
     ]
    },
    {
     "name": "stdout",
     "output_type": "stream",
     "text": [
      "face  0.943 0.159\n",
      "left  0.723 0.305\n",
      "right 0.857 0.209\n"
     ]
    },
    {
     "name": "stderr",
     "output_type": "stream",
     "text": [
      " 34%|███▍      | 134301/392536 [7:43:34<10:10:22,  7.05it/s]"
     ]
    },
    {
     "name": "stdout",
     "output_type": "stream",
     "text": [
      "face  0.943 0.159\n",
      "left  0.723 0.305\n",
      "right 0.857 0.209\n"
     ]
    },
    {
     "name": "stderr",
     "output_type": "stream",
     "text": [
      " 34%|███▍      | 134400/392536 [7:43:56<14:25:08,  4.97it/s]"
     ]
    },
    {
     "name": "stdout",
     "output_type": "stream",
     "text": [
      "face  0.943 0.159\n",
      "left  0.723 0.305\n",
      "right 0.857 0.209\n"
     ]
    },
    {
     "name": "stderr",
     "output_type": "stream",
     "text": [
      " 34%|███▍      | 134500/392536 [7:44:21<14:44:28,  4.86it/s]"
     ]
    },
    {
     "name": "stdout",
     "output_type": "stream",
     "text": [
      "face  0.943 0.159\n",
      "left  0.723 0.305\n",
      "right 0.857 0.209\n"
     ]
    },
    {
     "name": "stderr",
     "output_type": "stream",
     "text": [
      " 34%|███▍      | 134600/392536 [7:44:41<22:52:25,  3.13it/s]"
     ]
    },
    {
     "name": "stdout",
     "output_type": "stream",
     "text": [
      "face  0.943 0.159\n",
      "left  0.723 0.305\n",
      "right 0.857 0.209\n"
     ]
    },
    {
     "name": "stderr",
     "output_type": "stream",
     "text": [
      " 34%|███▍      | 134701/392536 [7:45:02<12:53:11,  5.56it/s]"
     ]
    },
    {
     "name": "stdout",
     "output_type": "stream",
     "text": [
      "face  0.943 0.159\n",
      "left  0.723 0.305\n",
      "right 0.857 0.209\n"
     ]
    },
    {
     "name": "stderr",
     "output_type": "stream",
     "text": [
      " 34%|███▍      | 134800/392536 [7:45:22<20:36:46,  3.47it/s]"
     ]
    },
    {
     "name": "stdout",
     "output_type": "stream",
     "text": [
      "face  0.943 0.159\n",
      "left  0.723 0.305\n",
      "right 0.857 0.209\n"
     ]
    },
    {
     "name": "stderr",
     "output_type": "stream",
     "text": [
      " 34%|███▍      | 134900/392536 [7:45:42<12:46:56,  5.60it/s]"
     ]
    },
    {
     "name": "stdout",
     "output_type": "stream",
     "text": [
      "face  0.943 0.159\n",
      "left  0.723 0.305\n",
      "right 0.857 0.209\n"
     ]
    },
    {
     "name": "stderr",
     "output_type": "stream",
     "text": [
      " 34%|███▍      | 135000/392536 [7:46:03<16:51:44,  4.24it/s]"
     ]
    },
    {
     "name": "stdout",
     "output_type": "stream",
     "text": [
      "face  0.943 0.159\n",
      "left  0.723 0.305\n",
      "right 0.857 0.209\n"
     ]
    },
    {
     "name": "stderr",
     "output_type": "stream",
     "text": [
      " 34%|███▍      | 135100/392536 [7:46:26<14:57:08,  4.78it/s]"
     ]
    },
    {
     "name": "stdout",
     "output_type": "stream",
     "text": [
      "face  0.943 0.159\n",
      "left  0.723 0.305\n",
      "right 0.857 0.209\n"
     ]
    },
    {
     "name": "stderr",
     "output_type": "stream",
     "text": [
      " 34%|███▍      | 135201/392536 [7:46:45<12:00:53,  5.95it/s]"
     ]
    },
    {
     "name": "stdout",
     "output_type": "stream",
     "text": [
      "face  0.943 0.159\n",
      "left  0.723 0.305\n",
      "right 0.857 0.209\n"
     ]
    },
    {
     "name": "stderr",
     "output_type": "stream",
     "text": [
      " 34%|███▍      | 135300/392536 [7:47:05<11:17:36,  6.33it/s]"
     ]
    },
    {
     "name": "stdout",
     "output_type": "stream",
     "text": [
      "face  0.943 0.159\n",
      "left  0.723 0.305\n",
      "right 0.857 0.209\n"
     ]
    },
    {
     "name": "stderr",
     "output_type": "stream",
     "text": [
      " 34%|███▍      | 135400/392536 [7:47:26<11:49:51,  6.04it/s]"
     ]
    },
    {
     "name": "stdout",
     "output_type": "stream",
     "text": [
      "face  0.943 0.159\n",
      "left  0.723 0.305\n",
      "right 0.857 0.209\n"
     ]
    },
    {
     "name": "stderr",
     "output_type": "stream",
     "text": [
      " 35%|███▍      | 135500/392536 [7:47:48<22:42:37,  3.14it/s]"
     ]
    },
    {
     "name": "stdout",
     "output_type": "stream",
     "text": [
      "face  0.943 0.159\n",
      "left  0.723 0.305\n",
      "right 0.857 0.209\n"
     ]
    },
    {
     "name": "stderr",
     "output_type": "stream",
     "text": [
      " 35%|███▍      | 135600/392536 [7:48:07<24:16:31,  2.94it/s]"
     ]
    },
    {
     "name": "stdout",
     "output_type": "stream",
     "text": [
      "face  0.943 0.159\n",
      "left  0.723 0.305\n",
      "right 0.857 0.209\n"
     ]
    },
    {
     "name": "stderr",
     "output_type": "stream",
     "text": [
      " 35%|███▍      | 135700/392536 [7:48:28<9:50:29,  7.25it/s] "
     ]
    },
    {
     "name": "stdout",
     "output_type": "stream",
     "text": [
      "face  0.943 0.159\n",
      "left  0.723 0.305\n",
      "right 0.857 0.209\n"
     ]
    },
    {
     "name": "stderr",
     "output_type": "stream",
     "text": [
      " 35%|███▍      | 135800/392536 [7:48:49<14:27:17,  4.93it/s]"
     ]
    },
    {
     "name": "stdout",
     "output_type": "stream",
     "text": [
      "face  0.943 0.159\n",
      "left  0.723 0.305\n",
      "right 0.857 0.209\n"
     ]
    },
    {
     "name": "stderr",
     "output_type": "stream",
     "text": [
      " 35%|███▍      | 135900/392536 [7:49:12<19:05:58,  3.73it/s]"
     ]
    },
    {
     "name": "stdout",
     "output_type": "stream",
     "text": [
      "face  0.943 0.159\n",
      "left  0.723 0.305\n",
      "right 0.857 0.209\n"
     ]
    },
    {
     "name": "stderr",
     "output_type": "stream",
     "text": [
      " 35%|███▍      | 136000/392536 [7:49:30<11:37:41,  6.13it/s]"
     ]
    },
    {
     "name": "stdout",
     "output_type": "stream",
     "text": [
      "face  0.943 0.159\n",
      "left  0.723 0.305\n",
      "right 0.857 0.209\n"
     ]
    },
    {
     "name": "stderr",
     "output_type": "stream",
     "text": [
      " 35%|███▍      | 136101/392536 [7:49:51<24:24:19,  2.92it/s]"
     ]
    },
    {
     "name": "stdout",
     "output_type": "stream",
     "text": [
      "face  0.943 0.159\n",
      "left  0.723 0.305\n",
      "right 0.857 0.209\n"
     ]
    },
    {
     "name": "stderr",
     "output_type": "stream",
     "text": [
      " 35%|███▍      | 136201/392536 [7:50:15<21:28:58,  3.31it/s]"
     ]
    },
    {
     "name": "stdout",
     "output_type": "stream",
     "text": [
      "face  0.943 0.159\n",
      "left  0.724 0.305\n",
      "right 0.857 0.209\n"
     ]
    },
    {
     "name": "stderr",
     "output_type": "stream",
     "text": [
      " 35%|███▍      | 136300/392536 [7:50:36<14:41:25,  4.85it/s]"
     ]
    },
    {
     "name": "stdout",
     "output_type": "stream",
     "text": [
      "face  0.943 0.159\n",
      "left  0.723 0.305\n",
      "right 0.857 0.209\n"
     ]
    },
    {
     "name": "stderr",
     "output_type": "stream",
     "text": [
      " 35%|███▍      | 136400/392536 [7:50:56<14:33:57,  4.88it/s]"
     ]
    },
    {
     "name": "stdout",
     "output_type": "stream",
     "text": [
      "face  0.943 0.159\n",
      "left  0.723 0.305\n",
      "right 0.857 0.209\n"
     ]
    },
    {
     "name": "stderr",
     "output_type": "stream",
     "text": [
      " 35%|███▍      | 136500/392536 [7:51:17<12:17:07,  5.79it/s]"
     ]
    },
    {
     "name": "stdout",
     "output_type": "stream",
     "text": [
      "face  0.943 0.159\n",
      "left  0.724 0.305\n",
      "right 0.857 0.209\n"
     ]
    },
    {
     "name": "stderr",
     "output_type": "stream",
     "text": [
      " 35%|███▍      | 136600/392536 [7:51:39<13:19:53,  5.33it/s]"
     ]
    },
    {
     "name": "stdout",
     "output_type": "stream",
     "text": [
      "face  0.943 0.159\n",
      "left  0.724 0.305\n",
      "right 0.857 0.209\n"
     ]
    },
    {
     "name": "stderr",
     "output_type": "stream",
     "text": [
      " 35%|███▍      | 136701/392536 [7:51:59<14:23:10,  4.94it/s]"
     ]
    },
    {
     "name": "stdout",
     "output_type": "stream",
     "text": [
      "face  0.943 0.159\n",
      "left  0.724 0.305\n",
      "right 0.857 0.209\n"
     ]
    },
    {
     "name": "stderr",
     "output_type": "stream",
     "text": [
      " 35%|███▍      | 136800/392536 [7:52:20<18:55:18,  3.75it/s]"
     ]
    },
    {
     "name": "stdout",
     "output_type": "stream",
     "text": [
      "face  0.943 0.159\n",
      "left  0.724 0.305\n",
      "right 0.857 0.209\n"
     ]
    },
    {
     "name": "stderr",
     "output_type": "stream",
     "text": [
      " 35%|███▍      | 136901/392536 [7:52:42<12:52:42,  5.51it/s]"
     ]
    },
    {
     "name": "stdout",
     "output_type": "stream",
     "text": [
      "face  0.943 0.159\n",
      "left  0.724 0.305\n",
      "right 0.857 0.209\n"
     ]
    },
    {
     "name": "stderr",
     "output_type": "stream",
     "text": [
      " 35%|███▍      | 137000/392536 [7:53:03<17:53:26,  3.97it/s]"
     ]
    },
    {
     "name": "stdout",
     "output_type": "stream",
     "text": [
      "face  0.943 0.159\n",
      "left  0.724 0.305\n",
      "right 0.857 0.209\n"
     ]
    },
    {
     "name": "stderr",
     "output_type": "stream",
     "text": [
      " 35%|███▍      | 137100/392536 [7:53:25<17:22:30,  4.08it/s]"
     ]
    },
    {
     "name": "stdout",
     "output_type": "stream",
     "text": [
      "face  0.943 0.159\n",
      "left  0.724 0.305\n",
      "right 0.857 0.209\n"
     ]
    },
    {
     "name": "stderr",
     "output_type": "stream",
     "text": [
      " 35%|███▍      | 137200/392536 [7:53:46<19:36:58,  3.62it/s]"
     ]
    },
    {
     "name": "stdout",
     "output_type": "stream",
     "text": [
      "face  0.943 0.159\n",
      "left  0.724 0.305\n",
      "right 0.857 0.209\n"
     ]
    },
    {
     "name": "stderr",
     "output_type": "stream",
     "text": [
      " 35%|███▍      | 137300/392536 [7:54:05<11:59:39,  5.91it/s]"
     ]
    },
    {
     "name": "stdout",
     "output_type": "stream",
     "text": [
      "face  0.943 0.159\n",
      "left  0.724 0.305\n",
      "right 0.857 0.209\n"
     ]
    },
    {
     "name": "stderr",
     "output_type": "stream",
     "text": [
      " 35%|███▌      | 137400/392536 [7:54:27<15:18:49,  4.63it/s]"
     ]
    },
    {
     "name": "stdout",
     "output_type": "stream",
     "text": [
      "face  0.943 0.159\n",
      "left  0.724 0.305\n",
      "right 0.857 0.209\n"
     ]
    },
    {
     "name": "stderr",
     "output_type": "stream",
     "text": [
      " 35%|███▌      | 137501/392536 [7:54:49<12:29:01,  5.67it/s]"
     ]
    },
    {
     "name": "stdout",
     "output_type": "stream",
     "text": [
      "face  0.943 0.159\n",
      "left  0.724 0.305\n",
      "right 0.857 0.209\n"
     ]
    },
    {
     "name": "stderr",
     "output_type": "stream",
     "text": [
      " 35%|███▌      | 137600/392536 [7:55:08<18:08:18,  3.90it/s]"
     ]
    },
    {
     "name": "stdout",
     "output_type": "stream",
     "text": [
      "face  0.943 0.159\n",
      "left  0.724 0.305\n",
      "right 0.857 0.209\n"
     ]
    },
    {
     "name": "stderr",
     "output_type": "stream",
     "text": [
      " 35%|███▌      | 137700/392536 [7:55:28<11:10:12,  6.34it/s]"
     ]
    },
    {
     "name": "stdout",
     "output_type": "stream",
     "text": [
      "face  0.943 0.159\n",
      "left  0.724 0.305\n",
      "right 0.857 0.209\n"
     ]
    },
    {
     "name": "stderr",
     "output_type": "stream",
     "text": [
      " 35%|███▌      | 137800/392536 [7:55:47<13:17:58,  5.32it/s]"
     ]
    },
    {
     "name": "stdout",
     "output_type": "stream",
     "text": [
      "face  0.943 0.159\n",
      "left  0.723 0.305\n",
      "right 0.857 0.209\n"
     ]
    },
    {
     "name": "stderr",
     "output_type": "stream",
     "text": [
      " 35%|███▌      | 137901/392536 [7:56:10<13:55:00,  5.08it/s]"
     ]
    },
    {
     "name": "stdout",
     "output_type": "stream",
     "text": [
      "face  0.943 0.159\n",
      "left  0.723 0.305\n",
      "right 0.857 0.209\n"
     ]
    },
    {
     "name": "stderr",
     "output_type": "stream",
     "text": [
      " 35%|███▌      | 138000/392536 [7:56:32<13:06:37,  5.39it/s]"
     ]
    },
    {
     "name": "stdout",
     "output_type": "stream",
     "text": [
      "face  0.943 0.159\n",
      "left  0.723 0.305\n",
      "right 0.857 0.209\n"
     ]
    },
    {
     "name": "stderr",
     "output_type": "stream",
     "text": [
      " 35%|███▌      | 138101/392536 [7:56:53<21:43:47,  3.25it/s]"
     ]
    },
    {
     "name": "stdout",
     "output_type": "stream",
     "text": [
      "face  0.943 0.159\n",
      "left  0.723 0.305\n",
      "right 0.857 0.209\n"
     ]
    },
    {
     "name": "stderr",
     "output_type": "stream",
     "text": [
      " 35%|███▌      | 138200/392536 [7:57:12<16:40:46,  4.24it/s]"
     ]
    },
    {
     "name": "stdout",
     "output_type": "stream",
     "text": [
      "face  0.943 0.159\n",
      "left  0.723 0.305\n",
      "right 0.857 0.209\n"
     ]
    },
    {
     "name": "stderr",
     "output_type": "stream",
     "text": [
      " 35%|███▌      | 138300/392536 [7:57:30<15:51:54,  4.45it/s]"
     ]
    },
    {
     "name": "stdout",
     "output_type": "stream",
     "text": [
      "face  0.943 0.159\n",
      "left  0.723 0.305\n",
      "right 0.857 0.209\n"
     ]
    },
    {
     "name": "stderr",
     "output_type": "stream",
     "text": [
      " 35%|███▌      | 138400/392536 [7:57:50<17:59:14,  3.92it/s]"
     ]
    },
    {
     "name": "stdout",
     "output_type": "stream",
     "text": [
      "face  0.943 0.159\n",
      "left  0.723 0.305\n",
      "right 0.857 0.209\n"
     ]
    },
    {
     "name": "stderr",
     "output_type": "stream",
     "text": [
      " 35%|███▌      | 138500/392536 [7:58:10<14:56:27,  4.72it/s]"
     ]
    },
    {
     "name": "stdout",
     "output_type": "stream",
     "text": [
      "face  0.943 0.159\n",
      "left  0.723 0.305\n",
      "right 0.857 0.209\n"
     ]
    },
    {
     "name": "stderr",
     "output_type": "stream",
     "text": [
      " 35%|███▌      | 138600/392536 [7:58:34<20:38:58,  3.42it/s]"
     ]
    },
    {
     "name": "stdout",
     "output_type": "stream",
     "text": [
      "face  0.943 0.159\n",
      "left  0.724 0.305\n",
      "right 0.857 0.209\n"
     ]
    },
    {
     "name": "stderr",
     "output_type": "stream",
     "text": [
      " 35%|███▌      | 138700/392536 [7:58:58<16:59:48,  4.15it/s]"
     ]
    },
    {
     "name": "stdout",
     "output_type": "stream",
     "text": [
      "face  0.943 0.159\n",
      "left  0.723 0.305\n",
      "right 0.857 0.209\n"
     ]
    },
    {
     "name": "stderr",
     "output_type": "stream",
     "text": [
      " 35%|███▌      | 138800/392536 [7:59:19<16:50:27,  4.19it/s]"
     ]
    },
    {
     "name": "stdout",
     "output_type": "stream",
     "text": [
      "face  0.943 0.159\n",
      "left  0.723 0.305\n",
      "right 0.857 0.209\n"
     ]
    },
    {
     "name": "stderr",
     "output_type": "stream",
     "text": [
      " 35%|███▌      | 138900/392536 [7:59:39<15:37:47,  4.51it/s]"
     ]
    },
    {
     "name": "stdout",
     "output_type": "stream",
     "text": [
      "face  0.943 0.159\n",
      "left  0.724 0.305\n",
      "right 0.857 0.209\n"
     ]
    },
    {
     "name": "stderr",
     "output_type": "stream",
     "text": [
      " 35%|███▌      | 139000/392536 [8:00:00<11:11:01,  6.30it/s]"
     ]
    },
    {
     "name": "stdout",
     "output_type": "stream",
     "text": [
      "face  0.943 0.159\n",
      "left  0.724 0.305\n",
      "right 0.857 0.209\n"
     ]
    },
    {
     "name": "stderr",
     "output_type": "stream",
     "text": [
      " 35%|███▌      | 139100/392536 [8:00:19<14:52:24,  4.73it/s]"
     ]
    },
    {
     "name": "stdout",
     "output_type": "stream",
     "text": [
      "face  0.943 0.159\n",
      "left  0.724 0.305\n",
      "right 0.857 0.209\n"
     ]
    },
    {
     "name": "stderr",
     "output_type": "stream",
     "text": [
      " 35%|███▌      | 139200/392536 [8:00:39<11:56:36,  5.89it/s]"
     ]
    },
    {
     "name": "stdout",
     "output_type": "stream",
     "text": [
      "face  0.943 0.159\n",
      "left  0.724 0.305\n",
      "right 0.857 0.209\n"
     ]
    },
    {
     "name": "stderr",
     "output_type": "stream",
     "text": [
      " 35%|███▌      | 139300/392536 [8:01:00<13:32:09,  5.20it/s]"
     ]
    },
    {
     "name": "stdout",
     "output_type": "stream",
     "text": [
      "face  0.943 0.159\n",
      "left  0.724 0.305\n",
      "right 0.857 0.209\n"
     ]
    },
    {
     "name": "stderr",
     "output_type": "stream",
     "text": [
      " 36%|███▌      | 139400/392536 [8:01:19<12:02:46,  5.84it/s]"
     ]
    },
    {
     "name": "stdout",
     "output_type": "stream",
     "text": [
      "face  0.943 0.159\n",
      "left  0.724 0.305\n",
      "right 0.857 0.209\n"
     ]
    },
    {
     "name": "stderr",
     "output_type": "stream",
     "text": [
      " 36%|███▌      | 139501/392536 [8:01:41<14:19:26,  4.91it/s]"
     ]
    },
    {
     "name": "stdout",
     "output_type": "stream",
     "text": [
      "face  0.943 0.159\n",
      "left  0.724 0.305\n",
      "right 0.857 0.209\n"
     ]
    },
    {
     "name": "stderr",
     "output_type": "stream",
     "text": [
      " 36%|███▌      | 139600/392536 [8:02:02<18:19:34,  3.83it/s]"
     ]
    },
    {
     "name": "stdout",
     "output_type": "stream",
     "text": [
      "face  0.943 0.159\n",
      "left  0.724 0.305\n",
      "right 0.857 0.209\n"
     ]
    },
    {
     "name": "stderr",
     "output_type": "stream",
     "text": [
      " 36%|███▌      | 139700/392536 [8:02:23<11:48:00,  5.95it/s]"
     ]
    },
    {
     "name": "stdout",
     "output_type": "stream",
     "text": [
      "face  0.943 0.159\n",
      "left  0.724 0.305\n",
      "right 0.857 0.209\n"
     ]
    },
    {
     "name": "stderr",
     "output_type": "stream",
     "text": [
      " 36%|███▌      | 139800/392536 [8:02:42<11:47:26,  5.95it/s]"
     ]
    },
    {
     "name": "stdout",
     "output_type": "stream",
     "text": [
      "face  0.943 0.159\n",
      "left  0.724 0.305\n",
      "right 0.857 0.209\n"
     ]
    },
    {
     "name": "stderr",
     "output_type": "stream",
     "text": [
      " 36%|███▌      | 139901/392536 [8:03:03<18:53:24,  3.71it/s]"
     ]
    },
    {
     "name": "stdout",
     "output_type": "stream",
     "text": [
      "face  0.943 0.159\n",
      "left  0.724 0.305\n",
      "right 0.857 0.209\n"
     ]
    },
    {
     "name": "stderr",
     "output_type": "stream",
     "text": [
      " 36%|███▌      | 140000/392536 [8:03:24<13:40:02,  5.13it/s]"
     ]
    },
    {
     "name": "stdout",
     "output_type": "stream",
     "text": [
      "face  0.943 0.159\n",
      "left  0.724 0.305\n",
      "right 0.857 0.209\n"
     ]
    },
    {
     "name": "stderr",
     "output_type": "stream",
     "text": [
      " 36%|███▌      | 140100/392536 [8:03:45<18:48:39,  3.73it/s]"
     ]
    },
    {
     "name": "stdout",
     "output_type": "stream",
     "text": [
      "face  0.943 0.159\n",
      "left  0.724 0.305\n",
      "right 0.857 0.209\n"
     ]
    },
    {
     "name": "stderr",
     "output_type": "stream",
     "text": [
      " 36%|███▌      | 140200/392536 [8:04:07<14:08:48,  4.95it/s]"
     ]
    },
    {
     "name": "stdout",
     "output_type": "stream",
     "text": [
      "face  0.943 0.159\n",
      "left  0.724 0.305\n",
      "right 0.857 0.209\n"
     ]
    },
    {
     "name": "stderr",
     "output_type": "stream",
     "text": [
      " 36%|███▌      | 140300/392536 [8:04:28<17:31:51,  4.00it/s]"
     ]
    },
    {
     "name": "stdout",
     "output_type": "stream",
     "text": [
      "face  0.943 0.159\n",
      "left  0.724 0.305\n",
      "right 0.857 0.209\n"
     ]
    },
    {
     "name": "stderr",
     "output_type": "stream",
     "text": [
      " 36%|███▌      | 140400/392536 [8:04:50<15:31:04,  4.51it/s]"
     ]
    },
    {
     "name": "stdout",
     "output_type": "stream",
     "text": [
      "face  0.943 0.159\n",
      "left  0.724 0.305\n",
      "right 0.857 0.209\n"
     ]
    },
    {
     "name": "stderr",
     "output_type": "stream",
     "text": [
      " 36%|███▌      | 140500/392536 [8:05:09<12:08:18,  5.77it/s]"
     ]
    },
    {
     "name": "stdout",
     "output_type": "stream",
     "text": [
      "face  0.943 0.159\n",
      "left  0.724 0.305\n",
      "right 0.857 0.209\n"
     ]
    },
    {
     "name": "stderr",
     "output_type": "stream",
     "text": [
      " 36%|███▌      | 140600/392536 [8:05:30<19:33:02,  3.58it/s]"
     ]
    },
    {
     "name": "stdout",
     "output_type": "stream",
     "text": [
      "face  0.943 0.159\n",
      "left  0.724 0.305\n",
      "right 0.857 0.209\n"
     ]
    },
    {
     "name": "stderr",
     "output_type": "stream",
     "text": [
      " 36%|███▌      | 140700/392536 [8:05:51<19:13:49,  3.64it/s]"
     ]
    },
    {
     "name": "stdout",
     "output_type": "stream",
     "text": [
      "face  0.943 0.159\n",
      "left  0.724 0.305\n",
      "right 0.857 0.209\n"
     ]
    },
    {
     "name": "stderr",
     "output_type": "stream",
     "text": [
      " 36%|███▌      | 140800/392536 [8:06:16<19:47:06,  3.53it/s]"
     ]
    },
    {
     "name": "stdout",
     "output_type": "stream",
     "text": [
      "face  0.943 0.159\n",
      "left  0.724 0.305\n",
      "right 0.857 0.209\n"
     ]
    },
    {
     "name": "stderr",
     "output_type": "stream",
     "text": [
      " 36%|███▌      | 140900/392536 [8:06:39<17:51:45,  3.91it/s]"
     ]
    },
    {
     "name": "stdout",
     "output_type": "stream",
     "text": [
      "face  0.943 0.159\n",
      "left  0.724 0.305\n",
      "right 0.857 0.209\n"
     ]
    },
    {
     "name": "stderr",
     "output_type": "stream",
     "text": [
      " 36%|███▌      | 141001/392536 [8:06:59<13:03:07,  5.35it/s]"
     ]
    },
    {
     "name": "stdout",
     "output_type": "stream",
     "text": [
      "face  0.943 0.159\n",
      "left  0.724 0.305\n",
      "right 0.857 0.209\n"
     ]
    },
    {
     "name": "stderr",
     "output_type": "stream",
     "text": [
      " 36%|███▌      | 141100/392536 [8:07:19<15:55:10,  4.39it/s]"
     ]
    },
    {
     "name": "stdout",
     "output_type": "stream",
     "text": [
      "face  0.943 0.159\n",
      "left  0.724 0.305\n",
      "right 0.857 0.209\n"
     ]
    },
    {
     "name": "stderr",
     "output_type": "stream",
     "text": [
      " 36%|███▌      | 141200/392536 [8:07:41<22:50:31,  3.06it/s]"
     ]
    },
    {
     "name": "stdout",
     "output_type": "stream",
     "text": [
      "face  0.943 0.159\n",
      "left  0.724 0.305\n",
      "right 0.857 0.209\n"
     ]
    },
    {
     "name": "stderr",
     "output_type": "stream",
     "text": [
      " 36%|███▌      | 141300/392536 [8:08:03<13:52:31,  5.03it/s]"
     ]
    },
    {
     "name": "stdout",
     "output_type": "stream",
     "text": [
      "face  0.943 0.159\n",
      "left  0.724 0.305\n",
      "right 0.857 0.209\n"
     ]
    },
    {
     "name": "stderr",
     "output_type": "stream",
     "text": [
      " 36%|███▌      | 141400/392536 [8:08:26<19:16:15,  3.62it/s]"
     ]
    },
    {
     "name": "stdout",
     "output_type": "stream",
     "text": [
      "face  0.943 0.159\n",
      "left  0.724 0.305\n",
      "right 0.857 0.209\n"
     ]
    },
    {
     "name": "stderr",
     "output_type": "stream",
     "text": [
      " 36%|███▌      | 141501/392536 [8:08:48<17:24:28,  4.01it/s]"
     ]
    },
    {
     "name": "stdout",
     "output_type": "stream",
     "text": [
      "face  0.943 0.159\n",
      "left  0.724 0.305\n",
      "right 0.857 0.209\n"
     ]
    },
    {
     "name": "stderr",
     "output_type": "stream",
     "text": [
      " 36%|███▌      | 141600/392536 [8:09:09<11:11:34,  6.23it/s]"
     ]
    },
    {
     "name": "stdout",
     "output_type": "stream",
     "text": [
      "face  0.943 0.159\n",
      "left  0.724 0.305\n",
      "right 0.857 0.209\n"
     ]
    },
    {
     "name": "stderr",
     "output_type": "stream",
     "text": [
      " 36%|███▌      | 141700/392536 [8:09:31<14:54:07,  4.68it/s]"
     ]
    },
    {
     "name": "stdout",
     "output_type": "stream",
     "text": [
      "face  0.943 0.159\n",
      "left  0.724 0.305\n",
      "right 0.857 0.209\n"
     ]
    },
    {
     "name": "stderr",
     "output_type": "stream",
     "text": [
      " 36%|███▌      | 141801/392536 [8:09:52<14:23:07,  4.84it/s]"
     ]
    },
    {
     "name": "stdout",
     "output_type": "stream",
     "text": [
      "face  0.943 0.159\n",
      "left  0.724 0.305\n",
      "right 0.857 0.209\n"
     ]
    },
    {
     "name": "stderr",
     "output_type": "stream",
     "text": [
      " 36%|███▌      | 141900/392536 [8:10:10<13:04:34,  5.32it/s]"
     ]
    },
    {
     "name": "stdout",
     "output_type": "stream",
     "text": [
      "face  0.943 0.159\n",
      "left  0.724 0.305\n",
      "right 0.857 0.209\n"
     ]
    },
    {
     "name": "stderr",
     "output_type": "stream",
     "text": [
      " 36%|███▌      | 142000/392536 [8:10:31<18:02:13,  3.86it/s]"
     ]
    },
    {
     "name": "stdout",
     "output_type": "stream",
     "text": [
      "face  0.943 0.159\n",
      "left  0.724 0.305\n",
      "right 0.857 0.209\n"
     ]
    },
    {
     "name": "stderr",
     "output_type": "stream",
     "text": [
      " 36%|███▌      | 142101/392536 [8:10:52<9:28:54,  7.34it/s] "
     ]
    },
    {
     "name": "stdout",
     "output_type": "stream",
     "text": [
      "face  0.943 0.159\n",
      "left  0.724 0.305\n",
      "right 0.857 0.209\n"
     ]
    },
    {
     "name": "stderr",
     "output_type": "stream",
     "text": [
      " 36%|███▌      | 142202/392536 [8:11:12<14:11:24,  4.90it/s]"
     ]
    },
    {
     "name": "stdout",
     "output_type": "stream",
     "text": [
      "face  0.943 0.159\n",
      "left  0.724 0.305\n",
      "right 0.857 0.209\n"
     ]
    },
    {
     "name": "stderr",
     "output_type": "stream",
     "text": [
      " 36%|███▋      | 142300/392536 [8:11:31<13:35:10,  5.12it/s]"
     ]
    },
    {
     "name": "stdout",
     "output_type": "stream",
     "text": [
      "face  0.943 0.159\n",
      "left  0.724 0.305\n",
      "right 0.857 0.209\n"
     ]
    },
    {
     "name": "stderr",
     "output_type": "stream",
     "text": [
      " 36%|███▋      | 142400/392536 [8:11:51<15:05:41,  4.60it/s]"
     ]
    },
    {
     "name": "stdout",
     "output_type": "stream",
     "text": [
      "face  0.943 0.159\n",
      "left  0.724 0.305\n",
      "right 0.857 0.209\n"
     ]
    },
    {
     "name": "stderr",
     "output_type": "stream",
     "text": [
      " 36%|███▋      | 142500/392536 [8:12:12<18:57:49,  3.66it/s]"
     ]
    },
    {
     "name": "stdout",
     "output_type": "stream",
     "text": [
      "face  0.943 0.159\n",
      "left  0.724 0.305\n",
      "right 0.857 0.209\n"
     ]
    },
    {
     "name": "stderr",
     "output_type": "stream",
     "text": [
      " 36%|███▋      | 142600/392536 [8:12:33<14:15:17,  4.87it/s]"
     ]
    },
    {
     "name": "stdout",
     "output_type": "stream",
     "text": [
      "face  0.943 0.159\n",
      "left  0.724 0.305\n",
      "right 0.857 0.209\n"
     ]
    },
    {
     "name": "stderr",
     "output_type": "stream",
     "text": [
      " 36%|███▋      | 142701/392536 [8:12:54<10:57:11,  6.34it/s]"
     ]
    },
    {
     "name": "stdout",
     "output_type": "stream",
     "text": [
      "face  0.943 0.159\n",
      "left  0.723 0.305\n",
      "right 0.857 0.209\n"
     ]
    },
    {
     "name": "stderr",
     "output_type": "stream",
     "text": [
      " 36%|███▋      | 142800/392536 [8:13:14<10:04:03,  6.89it/s]"
     ]
    },
    {
     "name": "stdout",
     "output_type": "stream",
     "text": [
      "face  0.943 0.159\n",
      "left  0.723 0.305\n",
      "right 0.857 0.209\n"
     ]
    },
    {
     "name": "stderr",
     "output_type": "stream",
     "text": [
      " 36%|███▋      | 142900/392536 [8:13:36<13:43:56,  5.05it/s]"
     ]
    },
    {
     "name": "stdout",
     "output_type": "stream",
     "text": [
      "face  0.943 0.159\n",
      "left  0.723 0.305\n",
      "right 0.857 0.209\n"
     ]
    },
    {
     "name": "stderr",
     "output_type": "stream",
     "text": [
      " 36%|███▋      | 143000/392536 [8:13:56<12:44:27,  5.44it/s]"
     ]
    },
    {
     "name": "stdout",
     "output_type": "stream",
     "text": [
      "face  0.943 0.159\n",
      "left  0.724 0.305\n",
      "right 0.857 0.209\n"
     ]
    },
    {
     "name": "stderr",
     "output_type": "stream",
     "text": [
      " 36%|███▋      | 143100/392536 [8:14:16<17:16:00,  4.01it/s]"
     ]
    },
    {
     "name": "stdout",
     "output_type": "stream",
     "text": [
      "face  0.943 0.159\n",
      "left  0.723 0.305\n",
      "right 0.857 0.209\n"
     ]
    },
    {
     "name": "stderr",
     "output_type": "stream",
     "text": [
      " 36%|███▋      | 143201/392536 [8:14:38<14:28:33,  4.78it/s]"
     ]
    },
    {
     "name": "stdout",
     "output_type": "stream",
     "text": [
      "face  0.943 0.159\n",
      "left  0.724 0.305\n",
      "right 0.857 0.209\n"
     ]
    },
    {
     "name": "stderr",
     "output_type": "stream",
     "text": [
      " 37%|███▋      | 143300/392536 [8:15:00<19:56:10,  3.47it/s]"
     ]
    },
    {
     "name": "stdout",
     "output_type": "stream",
     "text": [
      "face  0.943 0.159\n",
      "left  0.724 0.305\n",
      "right 0.857 0.209\n"
     ]
    },
    {
     "name": "stderr",
     "output_type": "stream",
     "text": [
      " 37%|███▋      | 143400/392536 [8:15:20<13:28:45,  5.13it/s]"
     ]
    },
    {
     "name": "stdout",
     "output_type": "stream",
     "text": [
      "face  0.943 0.159\n",
      "left  0.724 0.305\n",
      "right 0.857 0.209\n"
     ]
    },
    {
     "name": "stderr",
     "output_type": "stream",
     "text": [
      " 37%|███▋      | 143501/392536 [8:15:42<10:50:57,  6.38it/s]"
     ]
    },
    {
     "name": "stdout",
     "output_type": "stream",
     "text": [
      "face  0.943 0.159\n",
      "left  0.724 0.305\n",
      "right 0.857 0.209\n"
     ]
    },
    {
     "name": "stderr",
     "output_type": "stream",
     "text": [
      " 37%|███▋      | 143601/392536 [8:16:02<9:57:24,  6.94it/s] "
     ]
    },
    {
     "name": "stdout",
     "output_type": "stream",
     "text": [
      "face  0.943 0.159\n",
      "left  0.724 0.305\n",
      "right 0.857 0.209\n"
     ]
    },
    {
     "name": "stderr",
     "output_type": "stream",
     "text": [
      " 37%|███▋      | 143700/392536 [8:16:23<20:06:40,  3.44it/s]"
     ]
    },
    {
     "name": "stdout",
     "output_type": "stream",
     "text": [
      "face  0.943 0.159\n",
      "left  0.724 0.305\n",
      "right 0.857 0.209\n"
     ]
    },
    {
     "name": "stderr",
     "output_type": "stream",
     "text": [
      " 37%|███▋      | 143800/392536 [8:16:46<15:58:46,  4.32it/s]"
     ]
    },
    {
     "name": "stdout",
     "output_type": "stream",
     "text": [
      "face  0.943 0.159\n",
      "left  0.724 0.305\n",
      "right 0.857 0.209\n"
     ]
    },
    {
     "name": "stderr",
     "output_type": "stream",
     "text": [
      " 37%|███▋      | 143900/392536 [8:17:07<13:20:37,  5.18it/s]"
     ]
    },
    {
     "name": "stdout",
     "output_type": "stream",
     "text": [
      "face  0.943 0.159\n",
      "left  0.724 0.305\n",
      "right 0.857 0.209\n"
     ]
    },
    {
     "name": "stderr",
     "output_type": "stream",
     "text": [
      " 37%|███▋      | 144001/392536 [8:17:28<13:53:46,  4.97it/s]"
     ]
    },
    {
     "name": "stdout",
     "output_type": "stream",
     "text": [
      "face  0.943 0.159\n",
      "left  0.724 0.305\n",
      "right 0.857 0.209\n"
     ]
    },
    {
     "name": "stderr",
     "output_type": "stream",
     "text": [
      " 37%|███▋      | 144100/392536 [8:17:51<13:44:38,  5.02it/s]"
     ]
    },
    {
     "name": "stdout",
     "output_type": "stream",
     "text": [
      "face  0.943 0.159\n",
      "left  0.724 0.305\n",
      "right 0.857 0.209\n"
     ]
    },
    {
     "name": "stderr",
     "output_type": "stream",
     "text": [
      " 37%|███▋      | 144200/392536 [8:18:13<11:06:13,  6.21it/s]"
     ]
    },
    {
     "name": "stdout",
     "output_type": "stream",
     "text": [
      "face  0.943 0.159\n",
      "left  0.724 0.305\n",
      "right 0.857 0.209\n"
     ]
    },
    {
     "name": "stderr",
     "output_type": "stream",
     "text": [
      " 37%|███▋      | 144300/392536 [8:18:34<11:41:32,  5.90it/s]"
     ]
    },
    {
     "name": "stdout",
     "output_type": "stream",
     "text": [
      "face  0.943 0.159\n",
      "left  0.724 0.305\n",
      "right 0.857 0.209\n"
     ]
    },
    {
     "name": "stderr",
     "output_type": "stream",
     "text": [
      " 37%|███▋      | 144401/392536 [8:18:56<11:22:07,  6.06it/s]"
     ]
    },
    {
     "name": "stdout",
     "output_type": "stream",
     "text": [
      "face  0.943 0.159\n",
      "left  0.724 0.305\n",
      "right 0.857 0.209\n"
     ]
    },
    {
     "name": "stderr",
     "output_type": "stream",
     "text": [
      " 37%|███▋      | 144500/392536 [8:19:16<13:56:56,  4.94it/s]"
     ]
    },
    {
     "name": "stdout",
     "output_type": "stream",
     "text": [
      "face  0.943 0.159\n",
      "left  0.724 0.305\n",
      "right 0.857 0.209\n"
     ]
    },
    {
     "name": "stderr",
     "output_type": "stream",
     "text": [
      " 37%|███▋      | 144601/392536 [8:19:38<18:09:31,  3.79it/s]"
     ]
    },
    {
     "name": "stdout",
     "output_type": "stream",
     "text": [
      "face  0.943 0.159\n",
      "left  0.724 0.305\n",
      "right 0.857 0.209\n"
     ]
    },
    {
     "name": "stderr",
     "output_type": "stream",
     "text": [
      " 37%|███▋      | 144700/392536 [8:19:59<21:23:08,  3.22it/s]"
     ]
    },
    {
     "name": "stdout",
     "output_type": "stream",
     "text": [
      "face  0.943 0.159\n",
      "left  0.724 0.305\n",
      "right 0.857 0.209\n"
     ]
    },
    {
     "name": "stderr",
     "output_type": "stream",
     "text": [
      " 37%|███▋      | 144800/392536 [8:20:22<30:27:13,  2.26it/s]"
     ]
    },
    {
     "name": "stdout",
     "output_type": "stream",
     "text": [
      "face  0.943 0.159\n",
      "left  0.724 0.305\n",
      "right 0.857 0.209\n"
     ]
    },
    {
     "name": "stderr",
     "output_type": "stream",
     "text": [
      " 37%|███▋      | 144900/392536 [8:20:45<14:44:57,  4.66it/s]"
     ]
    },
    {
     "name": "stdout",
     "output_type": "stream",
     "text": [
      "face  0.943 0.159\n",
      "left  0.724 0.305\n",
      "right 0.857 0.209\n"
     ]
    },
    {
     "name": "stderr",
     "output_type": "stream",
     "text": [
      " 37%|███▋      | 145001/392536 [8:21:06<11:47:25,  5.83it/s]"
     ]
    },
    {
     "name": "stdout",
     "output_type": "stream",
     "text": [
      "face  0.943 0.159\n",
      "left  0.724 0.305\n",
      "right 0.857 0.209\n"
     ]
    },
    {
     "name": "stderr",
     "output_type": "stream",
     "text": [
      " 37%|███▋      | 145100/392536 [8:21:24<14:53:11,  4.62it/s]"
     ]
    },
    {
     "name": "stdout",
     "output_type": "stream",
     "text": [
      "face  0.943 0.159\n",
      "left  0.724 0.305\n",
      "right 0.857 0.209\n"
     ]
    },
    {
     "name": "stderr",
     "output_type": "stream",
     "text": [
      " 37%|███▋      | 145200/392536 [8:21:45<14:49:18,  4.64it/s]"
     ]
    },
    {
     "name": "stdout",
     "output_type": "stream",
     "text": [
      "face  0.943 0.159\n",
      "left  0.724 0.305\n",
      "right 0.857 0.209\n"
     ]
    },
    {
     "name": "stderr",
     "output_type": "stream",
     "text": [
      " 37%|███▋      | 145300/392536 [8:22:07<18:44:03,  3.67it/s]"
     ]
    },
    {
     "name": "stdout",
     "output_type": "stream",
     "text": [
      "face  0.943 0.159\n",
      "left  0.724 0.305\n",
      "right 0.857 0.209\n"
     ]
    },
    {
     "name": "stderr",
     "output_type": "stream",
     "text": [
      " 37%|███▋      | 145400/392536 [8:22:27<15:25:48,  4.45it/s]"
     ]
    },
    {
     "name": "stdout",
     "output_type": "stream",
     "text": [
      "face  0.943 0.159\n",
      "left  0.724 0.305\n",
      "right 0.857 0.209\n"
     ]
    },
    {
     "name": "stderr",
     "output_type": "stream",
     "text": [
      " 37%|███▋      | 145501/392536 [8:22:46<9:50:59,  6.97it/s] "
     ]
    },
    {
     "name": "stdout",
     "output_type": "stream",
     "text": [
      "face  0.943 0.159\n",
      "left  0.724 0.305\n",
      "right 0.857 0.209\n"
     ]
    },
    {
     "name": "stderr",
     "output_type": "stream",
     "text": [
      " 37%|███▋      | 145600/392536 [8:23:06<8:35:15,  7.99it/s] "
     ]
    },
    {
     "name": "stdout",
     "output_type": "stream",
     "text": [
      "face  0.943 0.159\n",
      "left  0.724 0.305\n",
      "right 0.857 0.209\n"
     ]
    },
    {
     "name": "stderr",
     "output_type": "stream",
     "text": [
      " 37%|███▋      | 145700/392536 [8:23:28<17:05:52,  4.01it/s]"
     ]
    },
    {
     "name": "stdout",
     "output_type": "stream",
     "text": [
      "face  0.943 0.159\n",
      "left  0.724 0.305\n",
      "right 0.857 0.209\n"
     ]
    },
    {
     "name": "stderr",
     "output_type": "stream",
     "text": [
      " 37%|███▋      | 145800/392536 [8:23:48<11:12:12,  6.12it/s]"
     ]
    },
    {
     "name": "stdout",
     "output_type": "stream",
     "text": [
      "face  0.943 0.159\n",
      "left  0.724 0.305\n",
      "right 0.857 0.209\n"
     ]
    },
    {
     "name": "stderr",
     "output_type": "stream",
     "text": [
      " 37%|███▋      | 145901/392536 [8:24:10<13:11:37,  5.19it/s]"
     ]
    },
    {
     "name": "stdout",
     "output_type": "stream",
     "text": [
      "face  0.943 0.159\n",
      "left  0.724 0.305\n",
      "right 0.857 0.209\n"
     ]
    },
    {
     "name": "stderr",
     "output_type": "stream",
     "text": [
      " 37%|███▋      | 146001/392536 [8:24:29<12:32:09,  5.46it/s]"
     ]
    },
    {
     "name": "stdout",
     "output_type": "stream",
     "text": [
      "face  0.943 0.159\n",
      "left  0.724 0.305\n",
      "right 0.857 0.209\n"
     ]
    },
    {
     "name": "stderr",
     "output_type": "stream",
     "text": [
      " 37%|███▋      | 146100/392536 [8:24:50<16:10:07,  4.23it/s]"
     ]
    },
    {
     "name": "stdout",
     "output_type": "stream",
     "text": [
      "face  0.943 0.159\n",
      "left  0.724 0.305\n",
      "right 0.857 0.209\n"
     ]
    },
    {
     "name": "stderr",
     "output_type": "stream",
     "text": [
      " 37%|███▋      | 146200/392536 [8:25:12<15:59:19,  4.28it/s]"
     ]
    },
    {
     "name": "stdout",
     "output_type": "stream",
     "text": [
      "face  0.943 0.159\n",
      "left  0.724 0.305\n",
      "right 0.857 0.209\n"
     ]
    },
    {
     "name": "stderr",
     "output_type": "stream",
     "text": [
      " 37%|███▋      | 146300/392536 [8:25:35<11:21:51,  6.02it/s]"
     ]
    },
    {
     "name": "stdout",
     "output_type": "stream",
     "text": [
      "face  0.943 0.159\n",
      "left  0.724 0.305\n",
      "right 0.857 0.209\n"
     ]
    },
    {
     "name": "stderr",
     "output_type": "stream",
     "text": [
      " 37%|███▋      | 146401/392536 [8:25:56<12:11:04,  5.61it/s]"
     ]
    },
    {
     "name": "stdout",
     "output_type": "stream",
     "text": [
      "face  0.943 0.159\n",
      "left  0.724 0.305\n",
      "right 0.857 0.209\n"
     ]
    },
    {
     "name": "stderr",
     "output_type": "stream",
     "text": [
      " 37%|███▋      | 146501/392536 [8:26:16<15:37:16,  4.38it/s]"
     ]
    },
    {
     "name": "stdout",
     "output_type": "stream",
     "text": [
      "face  0.943 0.159\n",
      "left  0.724 0.305\n",
      "right 0.857 0.209\n"
     ]
    },
    {
     "name": "stderr",
     "output_type": "stream",
     "text": [
      " 37%|███▋      | 146600/392536 [8:26:36<15:50:39,  4.31it/s]"
     ]
    },
    {
     "name": "stdout",
     "output_type": "stream",
     "text": [
      "face  0.943 0.159\n",
      "left  0.724 0.305\n",
      "right 0.857 0.209\n"
     ]
    },
    {
     "name": "stderr",
     "output_type": "stream",
     "text": [
      " 37%|███▋      | 146700/392536 [8:26:56<17:52:25,  3.82it/s]"
     ]
    },
    {
     "name": "stdout",
     "output_type": "stream",
     "text": [
      "face  0.943 0.159\n",
      "left  0.724 0.305\n",
      "right 0.857 0.209\n"
     ]
    },
    {
     "name": "stderr",
     "output_type": "stream",
     "text": [
      " 37%|███▋      | 146801/392536 [8:27:17<12:28:06,  5.47it/s]"
     ]
    },
    {
     "name": "stdout",
     "output_type": "stream",
     "text": [
      "face  0.943 0.159\n",
      "left  0.724 0.305\n",
      "right 0.857 0.209\n"
     ]
    },
    {
     "name": "stderr",
     "output_type": "stream",
     "text": [
      " 37%|███▋      | 146901/392536 [8:27:39<10:40:56,  6.39it/s]"
     ]
    },
    {
     "name": "stdout",
     "output_type": "stream",
     "text": [
      "face  0.943 0.159\n",
      "left  0.724 0.305\n",
      "right 0.857 0.209\n"
     ]
    },
    {
     "name": "stderr",
     "output_type": "stream",
     "text": [
      " 37%|███▋      | 147000/392536 [8:27:58<11:00:01,  6.20it/s]"
     ]
    },
    {
     "name": "stdout",
     "output_type": "stream",
     "text": [
      "face  0.943 0.159\n",
      "left  0.724 0.305\n",
      "right 0.857 0.209\n"
     ]
    },
    {
     "name": "stderr",
     "output_type": "stream",
     "text": [
      " 37%|███▋      | 147100/392536 [8:28:22<15:00:58,  4.54it/s]"
     ]
    },
    {
     "name": "stdout",
     "output_type": "stream",
     "text": [
      "face  0.943 0.159\n",
      "left  0.724 0.305\n",
      "right 0.857 0.209\n"
     ]
    },
    {
     "name": "stderr",
     "output_type": "stream",
     "text": [
      " 38%|███▊      | 147201/392536 [8:28:42<13:09:07,  5.18it/s]"
     ]
    },
    {
     "name": "stdout",
     "output_type": "stream",
     "text": [
      "face  0.943 0.159\n",
      "left  0.724 0.305\n",
      "right 0.857 0.209\n"
     ]
    },
    {
     "name": "stderr",
     "output_type": "stream",
     "text": [
      " 38%|███▊      | 147300/392536 [8:29:04<17:09:23,  3.97it/s]"
     ]
    },
    {
     "name": "stdout",
     "output_type": "stream",
     "text": [
      "face  0.943 0.159\n",
      "left  0.724 0.305\n",
      "right 0.857 0.209\n"
     ]
    },
    {
     "name": "stderr",
     "output_type": "stream",
     "text": [
      " 38%|███▊      | 147400/392536 [8:29:26<15:07:35,  4.50it/s]"
     ]
    },
    {
     "name": "stdout",
     "output_type": "stream",
     "text": [
      "face  0.943 0.159\n",
      "left  0.724 0.305\n",
      "right 0.857 0.209\n"
     ]
    },
    {
     "name": "stderr",
     "output_type": "stream",
     "text": [
      " 38%|███▊      | 147500/392536 [8:29:48<25:30:46,  2.67it/s]"
     ]
    },
    {
     "name": "stdout",
     "output_type": "stream",
     "text": [
      "face  0.943 0.159\n",
      "left  0.724 0.305\n",
      "right 0.857 0.209\n"
     ]
    },
    {
     "name": "stderr",
     "output_type": "stream",
     "text": [
      " 38%|███▊      | 147600/392536 [8:30:07<9:57:00,  6.84it/s] "
     ]
    },
    {
     "name": "stdout",
     "output_type": "stream",
     "text": [
      "face  0.943 0.159\n",
      "left  0.724 0.305\n",
      "right 0.857 0.209\n"
     ]
    },
    {
     "name": "stderr",
     "output_type": "stream",
     "text": [
      " 38%|███▊      | 147701/392536 [8:30:27<9:17:24,  7.32it/s] "
     ]
    },
    {
     "name": "stdout",
     "output_type": "stream",
     "text": [
      "face  0.943 0.159\n",
      "left  0.724 0.305\n",
      "right 0.857 0.209\n"
     ]
    },
    {
     "name": "stderr",
     "output_type": "stream",
     "text": [
      " 38%|███▊      | 147801/392536 [8:30:49<14:02:20,  4.84it/s]"
     ]
    },
    {
     "name": "stdout",
     "output_type": "stream",
     "text": [
      "face  0.943 0.159\n",
      "left  0.724 0.305\n",
      "right 0.857 0.209\n"
     ]
    },
    {
     "name": "stderr",
     "output_type": "stream",
     "text": [
      " 38%|███▊      | 147900/392536 [8:31:10<13:13:53,  5.14it/s]"
     ]
    },
    {
     "name": "stdout",
     "output_type": "stream",
     "text": [
      "face  0.943 0.159\n",
      "left  0.724 0.305\n",
      "right 0.857 0.209\n"
     ]
    },
    {
     "name": "stderr",
     "output_type": "stream",
     "text": [
      " 38%|███▊      | 148001/392536 [8:31:32<14:08:56,  4.80it/s]"
     ]
    },
    {
     "name": "stdout",
     "output_type": "stream",
     "text": [
      "face  0.943 0.159\n",
      "left  0.724 0.305\n",
      "right 0.857 0.209\n"
     ]
    },
    {
     "name": "stderr",
     "output_type": "stream",
     "text": [
      " 38%|███▊      | 148100/392536 [8:31:52<16:08:01,  4.21it/s]"
     ]
    },
    {
     "name": "stdout",
     "output_type": "stream",
     "text": [
      "face  0.943 0.159\n",
      "left  0.724 0.305\n",
      "right 0.857 0.209\n"
     ]
    },
    {
     "name": "stderr",
     "output_type": "stream",
     "text": [
      " 38%|███▊      | 148200/392536 [8:32:12<20:54:41,  3.25it/s]"
     ]
    },
    {
     "name": "stdout",
     "output_type": "stream",
     "text": [
      "face  0.943 0.159\n",
      "left  0.723 0.305\n",
      "right 0.857 0.209\n"
     ]
    },
    {
     "name": "stderr",
     "output_type": "stream",
     "text": [
      " 38%|███▊      | 148300/392536 [8:32:34<18:18:56,  3.70it/s]"
     ]
    },
    {
     "name": "stdout",
     "output_type": "stream",
     "text": [
      "face  0.943 0.159\n",
      "left  0.723 0.305\n",
      "right 0.857 0.209\n"
     ]
    },
    {
     "name": "stderr",
     "output_type": "stream",
     "text": [
      " 38%|███▊      | 148400/392536 [8:32:55<12:59:08,  5.22it/s]"
     ]
    },
    {
     "name": "stdout",
     "output_type": "stream",
     "text": [
      "face  0.943 0.159\n",
      "left  0.723 0.305\n",
      "right 0.857 0.209\n"
     ]
    },
    {
     "name": "stderr",
     "output_type": "stream",
     "text": [
      " 38%|███▊      | 148500/392536 [8:33:16<15:57:53,  4.25it/s]"
     ]
    },
    {
     "name": "stdout",
     "output_type": "stream",
     "text": [
      "face  0.943 0.159\n",
      "left  0.723 0.305\n",
      "right 0.857 0.209\n"
     ]
    },
    {
     "name": "stderr",
     "output_type": "stream",
     "text": [
      " 38%|███▊      | 148600/392536 [8:33:39<12:36:05,  5.38it/s]"
     ]
    },
    {
     "name": "stdout",
     "output_type": "stream",
     "text": [
      "face  0.943 0.159\n",
      "left  0.723 0.305\n",
      "right 0.857 0.209\n"
     ]
    },
    {
     "name": "stderr",
     "output_type": "stream",
     "text": [
      " 38%|███▊      | 148700/392536 [8:34:00<14:53:03,  4.55it/s]"
     ]
    },
    {
     "name": "stdout",
     "output_type": "stream",
     "text": [
      "face  0.943 0.159\n",
      "left  0.723 0.305\n",
      "right 0.857 0.209\n"
     ]
    },
    {
     "name": "stderr",
     "output_type": "stream",
     "text": [
      " 38%|███▊      | 148800/392536 [8:34:24<22:30:15,  3.01it/s]"
     ]
    },
    {
     "name": "stdout",
     "output_type": "stream",
     "text": [
      "face  0.943 0.159\n",
      "left  0.723 0.305\n",
      "right 0.857 0.209\n"
     ]
    },
    {
     "name": "stderr",
     "output_type": "stream",
     "text": [
      " 38%|███▊      | 148900/392536 [8:34:46<14:40:39,  4.61it/s]"
     ]
    },
    {
     "name": "stdout",
     "output_type": "stream",
     "text": [
      "face  0.943 0.159\n",
      "left  0.723 0.305\n",
      "right 0.857 0.209\n"
     ]
    },
    {
     "name": "stderr",
     "output_type": "stream",
     "text": [
      " 38%|███▊      | 149000/392536 [8:35:03<10:37:06,  6.37it/s]"
     ]
    },
    {
     "name": "stdout",
     "output_type": "stream",
     "text": [
      "face  0.943 0.159\n",
      "left  0.723 0.305\n",
      "right 0.857 0.209\n"
     ]
    },
    {
     "name": "stderr",
     "output_type": "stream",
     "text": [
      " 38%|███▊      | 149100/392536 [8:35:28<16:46:03,  4.03it/s]"
     ]
    },
    {
     "name": "stdout",
     "output_type": "stream",
     "text": [
      "face  0.943 0.159\n",
      "left  0.723 0.305\n",
      "right 0.857 0.209\n"
     ]
    },
    {
     "name": "stderr",
     "output_type": "stream",
     "text": [
      " 38%|███▊      | 149201/392536 [8:35:47<14:47:26,  4.57it/s]"
     ]
    },
    {
     "name": "stdout",
     "output_type": "stream",
     "text": [
      "face  0.943 0.159\n",
      "left  0.723 0.305\n",
      "right 0.857 0.209\n"
     ]
    },
    {
     "name": "stderr",
     "output_type": "stream",
     "text": [
      " 38%|███▊      | 149300/392536 [8:36:08<12:21:11,  5.47it/s]"
     ]
    },
    {
     "name": "stdout",
     "output_type": "stream",
     "text": [
      "face  0.943 0.159\n",
      "left  0.723 0.305\n",
      "right 0.857 0.209\n"
     ]
    },
    {
     "name": "stderr",
     "output_type": "stream",
     "text": [
      " 38%|███▊      | 149400/392536 [8:36:31<23:58:13,  2.82it/s]"
     ]
    },
    {
     "name": "stdout",
     "output_type": "stream",
     "text": [
      "face  0.943 0.159\n",
      "left  0.723 0.305\n",
      "right 0.857 0.209\n"
     ]
    },
    {
     "name": "stderr",
     "output_type": "stream",
     "text": [
      " 38%|███▊      | 149501/392536 [8:36:52<12:33:04,  5.38it/s]"
     ]
    },
    {
     "name": "stdout",
     "output_type": "stream",
     "text": [
      "face  0.943 0.159\n",
      "left  0.723 0.305\n",
      "right 0.857 0.209\n"
     ]
    },
    {
     "name": "stderr",
     "output_type": "stream",
     "text": [
      " 38%|███▊      | 149602/392536 [8:37:15<14:20:53,  4.70it/s]"
     ]
    },
    {
     "name": "stdout",
     "output_type": "stream",
     "text": [
      "face  0.943 0.159\n",
      "left  0.723 0.305\n",
      "right 0.857 0.209\n"
     ]
    },
    {
     "name": "stderr",
     "output_type": "stream",
     "text": [
      " 38%|███▊      | 149700/392536 [8:37:35<10:17:15,  6.56it/s]"
     ]
    },
    {
     "name": "stdout",
     "output_type": "stream",
     "text": [
      "face  0.943 0.159\n",
      "left  0.723 0.305\n",
      "right 0.857 0.209\n"
     ]
    },
    {
     "name": "stderr",
     "output_type": "stream",
     "text": [
      " 38%|███▊      | 149800/392536 [8:37:53<12:19:55,  5.47it/s]"
     ]
    },
    {
     "name": "stdout",
     "output_type": "stream",
     "text": [
      "face  0.943 0.159\n",
      "left  0.723 0.305\n",
      "right 0.857 0.209\n"
     ]
    },
    {
     "name": "stderr",
     "output_type": "stream",
     "text": [
      " 38%|███▊      | 149900/392536 [8:38:13<16:23:28,  4.11it/s]"
     ]
    },
    {
     "name": "stdout",
     "output_type": "stream",
     "text": [
      "face  0.943 0.159\n",
      "left  0.723 0.305\n",
      "right 0.857 0.209\n"
     ]
    },
    {
     "name": "stderr",
     "output_type": "stream",
     "text": [
      " 38%|███▊      | 150001/392536 [8:38:38<15:50:40,  4.25it/s]"
     ]
    },
    {
     "name": "stdout",
     "output_type": "stream",
     "text": [
      "face  0.943 0.159\n",
      "left  0.724 0.305\n",
      "right 0.857 0.209\n"
     ]
    },
    {
     "name": "stderr",
     "output_type": "stream",
     "text": [
      " 38%|███▊      | 150100/392536 [8:38:58<16:18:41,  4.13it/s]"
     ]
    },
    {
     "name": "stdout",
     "output_type": "stream",
     "text": [
      "face  0.943 0.159\n",
      "left  0.723 0.305\n",
      "right 0.857 0.209\n"
     ]
    },
    {
     "name": "stderr",
     "output_type": "stream",
     "text": [
      " 38%|███▊      | 150200/392536 [8:39:18<15:52:57,  4.24it/s]"
     ]
    },
    {
     "name": "stdout",
     "output_type": "stream",
     "text": [
      "face  0.943 0.159\n",
      "left  0.723 0.305\n",
      "right 0.857 0.209\n"
     ]
    },
    {
     "name": "stderr",
     "output_type": "stream",
     "text": [
      " 38%|███▊      | 150300/392536 [8:39:39<17:21:35,  3.88it/s]"
     ]
    },
    {
     "name": "stdout",
     "output_type": "stream",
     "text": [
      "face  0.943 0.159\n",
      "left  0.724 0.305\n",
      "right 0.857 0.209\n"
     ]
    },
    {
     "name": "stderr",
     "output_type": "stream",
     "text": [
      " 38%|███▊      | 150401/392536 [8:40:01<16:06:29,  4.18it/s]"
     ]
    },
    {
     "name": "stdout",
     "output_type": "stream",
     "text": [
      "face  0.943 0.159\n",
      "left  0.724 0.305\n",
      "right 0.857 0.209\n"
     ]
    },
    {
     "name": "stderr",
     "output_type": "stream",
     "text": [
      " 38%|███▊      | 150500/392536 [8:40:21<22:37:23,  2.97it/s]"
     ]
    },
    {
     "name": "stdout",
     "output_type": "stream",
     "text": [
      "face  0.943 0.159\n",
      "left  0.724 0.305\n",
      "right 0.857 0.209\n"
     ]
    },
    {
     "name": "stderr",
     "output_type": "stream",
     "text": [
      " 38%|███▊      | 150600/392536 [8:40:44<13:30:46,  4.97it/s]"
     ]
    },
    {
     "name": "stdout",
     "output_type": "stream",
     "text": [
      "face  0.943 0.159\n",
      "left  0.724 0.305\n",
      "right 0.857 0.209\n"
     ]
    },
    {
     "name": "stderr",
     "output_type": "stream",
     "text": [
      " 38%|███▊      | 150701/392536 [8:41:05<12:52:07,  5.22it/s]"
     ]
    },
    {
     "name": "stdout",
     "output_type": "stream",
     "text": [
      "face  0.943 0.159\n",
      "left  0.723 0.305\n",
      "right 0.857 0.209\n"
     ]
    },
    {
     "name": "stderr",
     "output_type": "stream",
     "text": [
      " 38%|███▊      | 150741/392536 [8:41:13<15:57:09,  4.21it/s]"
     ]
    }
   ],
   "source": [
    "face = []\n",
    "l_hand = []\n",
    "r_hand = []\n",
    "\n",
    "for idx, file in enumerate(tqdm(files)):\n",
    "    path = os.path.join(\"/auto/plzen1/home/mhruz/JSALT2024/YouTubeASL/clips_cropped\", file)\n",
    "    with open(path, \"r\") as f:\n",
    "        keypoints = json.load(f)['joints']\n",
    "    \n",
    "    frames = len(keypoints)\n",
    "    _face = 0\n",
    "    _l_hand = 0\n",
    "    _r_hand = 0\n",
    "    for fidx in keypoints:\n",
    "        kp = keypoints[fidx]\n",
    "        if len(kp[\"face_landmarks\"]) > 0:\n",
    "            _face += 1\n",
    "        if len(kp[\"right_hand_landmarks\"]) > 0:\n",
    "            _r_hand += 1\n",
    "        if len(kp[\"left_hand_landmarks\"]) > 0:\n",
    "            _l_hand += 1\n",
    "    face.append(_face/frames)\n",
    "    l_hand.append(_l_hand/frames)\n",
    "    r_hand.append(_r_hand/frames)\n",
    "    \n",
    "    if ((idx+1) % 100) == 0:\n",
    "        print(\"face \", np.round(np.mean(face), 3), np.round(np.std(face), 3))\n",
    "        print(\"left \", np.round(np.mean(l_hand), 3), np.round(np.std(l_hand), 3))\n",
    "        print(\"right\", np.round(np.mean(r_hand), 3), np.round(np.std(r_hand), 3))"
   ]
  },
  {
   "cell_type": "code",
   "execution_count": null,
   "id": "80a62d43-314a-4405-b869-556a818462eb",
   "metadata": {},
   "outputs": [],
   "source": []
  }
 ],
 "metadata": {
  "kernelspec": {
   "display_name": "Python 3 (ipykernel)",
   "language": "python",
   "name": "python3"
  },
  "language_info": {
   "codemirror_mode": {
    "name": "ipython",
    "version": 3
   },
   "file_extension": ".py",
   "mimetype": "text/x-python",
   "name": "python",
   "nbconvert_exporter": "python",
   "pygments_lexer": "ipython3",
   "version": "3.8.13"
  }
 },
 "nbformat": 4,
 "nbformat_minor": 5
}
